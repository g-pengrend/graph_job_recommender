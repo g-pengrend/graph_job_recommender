{
 "cells": [
  {
   "cell_type": "markdown",
   "metadata": {},
   "source": [
    "# At this point, remember to use pygraph environment\n",
    "\n",
    "Long story..."
   ]
  },
  {
   "cell_type": "markdown",
   "metadata": {},
   "source": [
    "# Load the final complete graph\n"
   ]
  },
  {
   "cell_type": "code",
   "execution_count": 1,
   "metadata": {},
   "outputs": [],
   "source": [
    "import pickle\n",
    "import torch\n",
    "import torch.nn.functional as F\n",
    "from torch_geometric.nn import SAGEConv\n",
    "from torch_geometric.loader import NeighborLoader\n",
    "from torch_geometric.data import Data\n",
    "from torch_geometric.utils import from_networkx\n",
    "import numpy as np\n",
    "from tqdm import tqdm"
   ]
  },
  {
   "cell_type": "code",
   "execution_count": 2,
   "metadata": {},
   "outputs": [
    {
     "name": "stdout",
     "output_type": "stream",
     "text": [
      "Loading final complete graph...\n",
      "Graph loaded successfully!\n",
      "Nodes: 25610, Edges: 25728679\n"
     ]
    }
   ],
   "source": [
    "def load_graph_checkpoint(filename):\n",
    "    with open(filename, 'rb') as f:\n",
    "        return pickle.load(f)\n",
    "\n",
    "# Load the final complete graph\n",
    "print(\"Loading final complete graph...\")\n",
    "graph = load_graph_checkpoint('../7. GraphBuilding/final_complete_graph.pkl')\n",
    "print(\"Graph loaded successfully!\")\n",
    "print(f\"Nodes: {graph.number_of_nodes()}, Edges: {graph.number_of_edges()}\")\n"
   ]
  },
  {
   "cell_type": "markdown",
   "metadata": {},
   "source": [
    "# Build the graphSAGE model\n"
   ]
  },
  {
   "cell_type": "code",
   "execution_count": 3,
   "metadata": {},
   "outputs": [],
   "source": [
    "# Define the GraphSAGE model\n",
    "class EfficientGraphSAGE(torch.nn.Module):\n",
    "    def __init__(\n",
    "        self,\n",
    "        in_channels,\n",
    "        hidden_channels=256,\n",
    "        out_channels=128,\n",
    "        num_layers=2,\n",
    "        dropout=0.2\n",
    "    ):\n",
    "        super().__init__()\n",
    "        self.num_layers = num_layers\n",
    "        \n",
    "        # Input layer\n",
    "        self.convs = torch.nn.ModuleList()\n",
    "        self.convs.append(SAGEConv(in_channels, hidden_channels, aggr='mean'))\n",
    "        \n",
    "        # Hidden layers\n",
    "        for _ in range(num_layers - 2):\n",
    "            self.convs.append(SAGEConv(hidden_channels, hidden_channels, aggr='mean'))\n",
    "        \n",
    "        # Output layer\n",
    "        self.convs.append(SAGEConv(hidden_channels, out_channels, aggr='mean'))\n",
    "        \n",
    "        self.dropout = torch.nn.Dropout(dropout)\n",
    "        self.batch_norm = torch.nn.ModuleList([\n",
    "            torch.nn.BatchNorm1d(hidden_channels) for _ in range(num_layers-1)\n",
    "        ])\n",
    "        self.batch_norm.append(torch.nn.BatchNorm1d(out_channels))\n",
    "\n",
    "    def forward(self, x, edge_index):\n",
    "        for i, conv in enumerate(self.convs[:-1]):\n",
    "            x = conv(x, edge_index)\n",
    "            x = self.batch_norm[i](x)\n",
    "            x = F.relu(x)\n",
    "            x = self.dropout(x)\n",
    "        x = self.convs[-1](x, edge_index)\n",
    "        x = self.batch_norm[-1](x)\n",
    "        return x\n",
    "    \n",
    "def prepare_graph_data(graph, device):\n",
    "    \"\"\"Convert NetworkX graph to PyG data\"\"\"\n",
    "    print(\"Converting NetworkX graph to PyG format...\")\n",
    "    \n",
    "    # Extract node features and edge index\n",
    "    node_features = []\n",
    "    \n",
    "    # Get a sample node to check structure\n",
    "    first_node = list(graph.nodes())[0]\n",
    "    print(\"\\nSample node data:\")\n",
    "    print(f\"Title embedding type: {type(graph.nodes[first_node]['job_title_embedding'])}\")\n",
    "    print(f\"Title embedding length: {len(graph.nodes[first_node]['job_title_embedding'])}\")\n",
    "    \n",
    "    try:\n",
    "        for node in tqdm(graph.nodes(), desc=\"Extracting node features\"):\n",
    "            features = []\n",
    "            \n",
    "            # Combine all embeddings\n",
    "            features.extend(graph.nodes[node]['job_title_embedding'])\n",
    "            features.extend(graph.nodes[node]['job_description_embedding'])\n",
    "            features.extend(graph.nodes[node]['job_type_encoding'])\n",
    "            node_features.append(features)\n",
    "            \n",
    "            # Print first node information\n",
    "            if len(node_features) == 1:\n",
    "                print(f\"\\nFeature dimensions for first node:\")\n",
    "                print(f\"Title embedding: {len(graph.nodes[node]['job_title_embedding'])}\")\n",
    "                print(f\"Description embedding: {len(graph.nodes[node]['job_description_embedding'])}\")\n",
    "                print(f\"Job type encoding: {len(graph.nodes[node]['job_type_encoding'])}\")\n",
    "                print(f\"Total features: {len(features)}\")\n",
    "    \n",
    "    except Exception as e:\n",
    "        print(f\"\\nError processing node features: {str(e)}\")\n",
    "        print(\"\\nDetailed error information:\")\n",
    "        print(f\"Node: {node}\")\n",
    "        print(f\"Title embedding sample: {graph.nodes[node]['job_title_embedding'][:100]}\")\n",
    "        raise\n",
    "\n",
    "    # Convert to tensors\n",
    "    try:\n",
    "        x = torch.tensor(np.array(node_features), dtype=torch.float)\n",
    "        print(f\"\\nNode features tensor shape: {x.shape}\")\n",
    "    except Exception as e:\n",
    "        print(f\"\\nError converting to tensor: {str(e)}\")\n",
    "        print(f\"Node features list shape: {len(node_features)} x {len(node_features[0]) if node_features else 0}\")\n",
    "        raise\n",
    "    \n",
    "    # Create edge index and weights\n",
    "    print(\"\\nProcessing edges...\")\n",
    "    edge_index = []\n",
    "    edge_weights = []\n",
    "    \n",
    "    try:\n",
    "        for u, v, data in tqdm(graph.edges(data=True), desc=\"Processing edges\"):\n",
    "            u_idx = int(u.split('_')[1])\n",
    "            v_idx = int(v.split('_')[1])\n",
    "            edge_index.append([u_idx, v_idx])\n",
    "            edge_weights.append(float(data.get('weight', 1.0)))\n",
    "    except Exception as e:\n",
    "        print(f\"\\nError processing edges: {str(e)}\")\n",
    "        print(f\"Sample edge: {u} -> {v}\")\n",
    "        print(f\"Edge data: {data}\")\n",
    "        raise\n",
    "\n",
    "    edge_index = torch.tensor(edge_index, dtype=torch.long).t().contiguous()\n",
    "    edge_weights = torch.tensor(edge_weights, dtype=torch.float)\n",
    "    \n",
    "    # Create PyG data object\n",
    "    data = Data(\n",
    "        x=x,\n",
    "        edge_index=edge_index,\n",
    "        edge_weight=edge_weights,\n",
    "        num_nodes=len(graph)\n",
    "    )\n",
    "    \n",
    "    print(\"\\nData preparation completed successfully!\")\n",
    "    print(f\"Features shape: {data.x.shape}\")\n",
    "    print(f\"Edge index shape: {data.edge_index.shape}\")\n",
    "    print(f\"Edge weights shape: {data.edge_weight.shape}\")\n",
    "    \n",
    "    return data.to(device)"
   ]
  },
  {
   "cell_type": "code",
   "execution_count": 5,
   "metadata": {},
   "outputs": [
    {
     "name": "stdout",
     "output_type": "stream",
     "text": [
      "Using device: cuda\n",
      "Initial GPU memory: 0.62 GB\n",
      "Attempting to load cached graph data...\n"
     ]
    },
    {
     "name": "stderr",
     "output_type": "stream",
     "text": [
      "C:\\Users\\Brandon\\AppData\\Local\\Temp\\ipykernel_13096\\2586903041.py:12: FutureWarning: You are using `torch.load` with `weights_only=False` (the current default value), which uses the default pickle module implicitly. It is possible to construct malicious pickle data which will execute arbitrary code during unpickling (See https://github.com/pytorch/pytorch/blob/main/SECURITY.md#untrusted-models for more details). In a future release, the default value for `weights_only` will be flipped to `True`. This limits the functions that could be executed during unpickling. Arbitrary objects will no longer be allowed to be loaded via this mode unless they are explicitly allowlisted by the user via `torch.serialization.add_safe_globals`. We recommend you start setting `weights_only=True` for any use case where you don't have full control of the loaded file. Please open an issue on GitHub for any issues related to this experimental feature.\n",
      "  data = torch.load(cached_data_path)\n",
      "C:\\Users\\Brandon\\AppData\\Local\\Temp\\ipykernel_13096\\2586903041.py:46: FutureWarning: You are using `torch.load` with `weights_only=False` (the current default value), which uses the default pickle module implicitly. It is possible to construct malicious pickle data which will execute arbitrary code during unpickling (See https://github.com/pytorch/pytorch/blob/main/SECURITY.md#untrusted-models for more details). In a future release, the default value for `weights_only` will be flipped to `True`. This limits the functions that could be executed during unpickling. Arbitrary objects will no longer be allowed to be loaded via this mode unless they are explicitly allowlisted by the user via `torch.serialization.add_safe_globals`. We recommend you start setting `weights_only=True` for any use case where you don't have full control of the loaded file. Please open an issue on GitHub for any issues related to this experimental feature.\n",
      "  checkpoint = torch.load('best_graphsage_model.pt')\n",
      "c:\\Users\\Brandon\\anaconda3\\envs\\pygraph\\lib\\site-packages\\torch\\optim\\lr_scheduler.py:60: UserWarning: The verbose parameter is deprecated. Please use get_last_lr() to access the learning rate.\n",
      "  warnings.warn(\n",
      "C:\\Users\\Brandon\\AppData\\Local\\Temp\\ipykernel_13096\\2586903041.py:82: FutureWarning: `torch.cuda.amp.GradScaler(args...)` is deprecated. Please use `torch.amp.GradScaler('cuda', args...)` instead.\n",
      "  scaler = torch.cuda.amp.GradScaler()\n"
     ]
    },
    {
     "name": "stdout",
     "output_type": "stream",
     "text": [
      "Successfully loaded cached graph data!\n",
      "Initializing model...\n",
      "No checkpoint found, starting fresh training\n",
      "GPU memory after data loading: 0.63 GB\n",
      "Starting training from epoch 1 to 150...\n"
     ]
    },
    {
     "name": "stderr",
     "output_type": "stream",
     "text": [
      "Epoch 1/150:   0%|          | 0/51 [00:00<?, ?it/s]C:\\Users\\Brandon\\AppData\\Local\\Temp\\ipykernel_13096\\2586903041.py:97: FutureWarning: `torch.cuda.amp.autocast(args...)` is deprecated. Please use `torch.amp.autocast('cuda', args...)` instead.\n",
      "  with torch.cuda.amp.autocast():\n",
      "Epoch 1/150: 100%|██████████| 51/51 [00:04<00:00, 12.27it/s, loss=0.17] \n"
     ]
    },
    {
     "name": "stdout",
     "output_type": "stream",
     "text": [
      "Epoch 1, Average Loss: 0.3316\n",
      "Saved new best model with loss: 0.3316\n"
     ]
    },
    {
     "name": "stderr",
     "output_type": "stream",
     "text": [
      "Epoch 2/150: 100%|██████████| 51/51 [00:03<00:00, 13.52it/s, loss=0.143] \n"
     ]
    },
    {
     "name": "stdout",
     "output_type": "stream",
     "text": [
      "Epoch 2, Average Loss: 0.1126\n",
      "Saved new best model with loss: 0.1126\n"
     ]
    },
    {
     "name": "stderr",
     "output_type": "stream",
     "text": [
      "Epoch 3/150: 100%|██████████| 51/51 [00:03<00:00, 13.48it/s, loss=0.134] \n"
     ]
    },
    {
     "name": "stdout",
     "output_type": "stream",
     "text": [
      "Epoch 3, Average Loss: 0.1026\n",
      "Saved new best model with loss: 0.1026\n"
     ]
    },
    {
     "name": "stderr",
     "output_type": "stream",
     "text": [
      "Epoch 4/150: 100%|██████████| 51/51 [00:03<00:00, 13.45it/s, loss=0.118] \n"
     ]
    },
    {
     "name": "stdout",
     "output_type": "stream",
     "text": [
      "Epoch 4, Average Loss: 0.0948\n",
      "Saved new best model with loss: 0.0948\n"
     ]
    },
    {
     "name": "stderr",
     "output_type": "stream",
     "text": [
      "Epoch 5/150: 100%|██████████| 51/51 [00:03<00:00, 13.47it/s, loss=0.11]  \n"
     ]
    },
    {
     "name": "stdout",
     "output_type": "stream",
     "text": [
      "Epoch 5, Average Loss: 0.0880\n",
      "Saved new best model with loss: 0.0880\n"
     ]
    },
    {
     "name": "stderr",
     "output_type": "stream",
     "text": [
      "Epoch 6/150: 100%|██████████| 51/51 [00:03<00:00, 13.40it/s, loss=0.12]  \n"
     ]
    },
    {
     "name": "stdout",
     "output_type": "stream",
     "text": [
      "Epoch 6, Average Loss: 0.0806\n",
      "Saved new best model with loss: 0.0806\n"
     ]
    },
    {
     "name": "stderr",
     "output_type": "stream",
     "text": [
      "Epoch 7/150: 100%|██████████| 51/51 [00:03<00:00, 13.50it/s, loss=0.0935]\n"
     ]
    },
    {
     "name": "stdout",
     "output_type": "stream",
     "text": [
      "Epoch 7, Average Loss: 0.0743\n",
      "Saved new best model with loss: 0.0743\n"
     ]
    },
    {
     "name": "stderr",
     "output_type": "stream",
     "text": [
      "Epoch 8/150: 100%|██████████| 51/51 [00:03<00:00, 13.31it/s, loss=0.0985]\n"
     ]
    },
    {
     "name": "stdout",
     "output_type": "stream",
     "text": [
      "Epoch 8, Average Loss: 0.0676\n",
      "Saved new best model with loss: 0.0676\n"
     ]
    },
    {
     "name": "stderr",
     "output_type": "stream",
     "text": [
      "Epoch 9/150: 100%|██████████| 51/51 [00:03<00:00, 13.35it/s, loss=0.0936]\n"
     ]
    },
    {
     "name": "stdout",
     "output_type": "stream",
     "text": [
      "Epoch 9, Average Loss: 0.0620\n",
      "Saved new best model with loss: 0.0620\n"
     ]
    },
    {
     "name": "stderr",
     "output_type": "stream",
     "text": [
      "Epoch 10/150: 100%|██████████| 51/51 [00:03<00:00, 13.34it/s, loss=0.0685]\n"
     ]
    },
    {
     "name": "stdout",
     "output_type": "stream",
     "text": [
      "Epoch 10, Average Loss: 0.0561\n",
      "Saved new best model with loss: 0.0561\n"
     ]
    },
    {
     "name": "stderr",
     "output_type": "stream",
     "text": [
      "Epoch 11/150: 100%|██████████| 51/51 [00:03<00:00, 13.38it/s, loss=0.0641]\n"
     ]
    },
    {
     "name": "stdout",
     "output_type": "stream",
     "text": [
      "Epoch 11, Average Loss: 0.0515\n",
      "Saved new best model with loss: 0.0515\n"
     ]
    },
    {
     "name": "stderr",
     "output_type": "stream",
     "text": [
      "Epoch 12/150: 100%|██████████| 51/51 [00:03<00:00, 13.52it/s, loss=0.0576]\n"
     ]
    },
    {
     "name": "stdout",
     "output_type": "stream",
     "text": [
      "Epoch 12, Average Loss: 0.0460\n",
      "Saved new best model with loss: 0.0460\n"
     ]
    },
    {
     "name": "stderr",
     "output_type": "stream",
     "text": [
      "Epoch 13/150: 100%|██████████| 51/51 [00:03<00:00, 13.45it/s, loss=0.0518]\n"
     ]
    },
    {
     "name": "stdout",
     "output_type": "stream",
     "text": [
      "Epoch 13, Average Loss: 0.0416\n",
      "Saved new best model with loss: 0.0416\n"
     ]
    },
    {
     "name": "stderr",
     "output_type": "stream",
     "text": [
      "Epoch 14/150: 100%|██████████| 51/51 [00:03<00:00, 13.46it/s, loss=0.04]  \n"
     ]
    },
    {
     "name": "stdout",
     "output_type": "stream",
     "text": [
      "Epoch 14, Average Loss: 0.0369\n",
      "Saved new best model with loss: 0.0369\n"
     ]
    },
    {
     "name": "stderr",
     "output_type": "stream",
     "text": [
      "Epoch 15/150: 100%|██████████| 51/51 [00:03<00:00, 13.56it/s, loss=0.038] \n"
     ]
    },
    {
     "name": "stdout",
     "output_type": "stream",
     "text": [
      "Epoch 15, Average Loss: 0.0326\n",
      "Saved new best model with loss: 0.0326\n"
     ]
    },
    {
     "name": "stderr",
     "output_type": "stream",
     "text": [
      "Epoch 16/150: 100%|██████████| 51/51 [00:03<00:00, 13.52it/s, loss=0.0313]\n"
     ]
    },
    {
     "name": "stdout",
     "output_type": "stream",
     "text": [
      "Epoch 16, Average Loss: 0.0285\n",
      "Saved new best model with loss: 0.0285\n"
     ]
    },
    {
     "name": "stderr",
     "output_type": "stream",
     "text": [
      "Epoch 17/150: 100%|██████████| 51/51 [00:03<00:00, 13.55it/s, loss=0.0276]\n"
     ]
    },
    {
     "name": "stdout",
     "output_type": "stream",
     "text": [
      "Epoch 17, Average Loss: 0.0246\n",
      "Saved new best model with loss: 0.0246\n"
     ]
    },
    {
     "name": "stderr",
     "output_type": "stream",
     "text": [
      "Epoch 18/150: 100%|██████████| 51/51 [00:03<00:00, 13.57it/s, loss=0.0253]\n"
     ]
    },
    {
     "name": "stdout",
     "output_type": "stream",
     "text": [
      "Epoch 18, Average Loss: 0.0210\n",
      "Saved new best model with loss: 0.0210\n"
     ]
    },
    {
     "name": "stderr",
     "output_type": "stream",
     "text": [
      "Epoch 19/150: 100%|██████████| 51/51 [00:03<00:00, 13.49it/s, loss=0.0183]\n"
     ]
    },
    {
     "name": "stdout",
     "output_type": "stream",
     "text": [
      "Epoch 19, Average Loss: 0.0173\n",
      "Saved new best model with loss: 0.0173\n"
     ]
    },
    {
     "name": "stderr",
     "output_type": "stream",
     "text": [
      "Epoch 20/150: 100%|██████████| 51/51 [00:03<00:00, 13.62it/s, loss=0.014] \n"
     ]
    },
    {
     "name": "stdout",
     "output_type": "stream",
     "text": [
      "Epoch 20, Average Loss: 0.0140\n",
      "Saved new best model with loss: 0.0140\n"
     ]
    },
    {
     "name": "stderr",
     "output_type": "stream",
     "text": [
      "Epoch 21/150: 100%|██████████| 51/51 [00:03<00:00, 13.60it/s, loss=0.00941]\n"
     ]
    },
    {
     "name": "stdout",
     "output_type": "stream",
     "text": [
      "Epoch 21, Average Loss: 0.0108\n",
      "Saved new best model with loss: 0.0108\n"
     ]
    },
    {
     "name": "stderr",
     "output_type": "stream",
     "text": [
      "Epoch 22/150: 100%|██████████| 51/51 [00:03<00:00, 13.58it/s, loss=0.00756]\n"
     ]
    },
    {
     "name": "stdout",
     "output_type": "stream",
     "text": [
      "Epoch 22, Average Loss: 0.0084\n",
      "Saved new best model with loss: 0.0084\n"
     ]
    },
    {
     "name": "stderr",
     "output_type": "stream",
     "text": [
      "Epoch 23/150: 100%|██████████| 51/51 [00:03<00:00, 13.64it/s, loss=0.00619]\n"
     ]
    },
    {
     "name": "stdout",
     "output_type": "stream",
     "text": [
      "Epoch 23, Average Loss: 0.0069\n",
      "Saved new best model with loss: 0.0069\n"
     ]
    },
    {
     "name": "stderr",
     "output_type": "stream",
     "text": [
      "Epoch 24/150: 100%|██████████| 51/51 [00:03<00:00, 13.62it/s, loss=0.00481]\n"
     ]
    },
    {
     "name": "stdout",
     "output_type": "stream",
     "text": [
      "Epoch 24, Average Loss: 0.0055\n",
      "Saved new best model with loss: 0.0055\n"
     ]
    },
    {
     "name": "stderr",
     "output_type": "stream",
     "text": [
      "Epoch 25/150: 100%|██████████| 51/51 [00:03<00:00, 13.49it/s, loss=0.00349]\n"
     ]
    },
    {
     "name": "stdout",
     "output_type": "stream",
     "text": [
      "Epoch 25, Average Loss: 0.0041\n",
      "Saved new best model with loss: 0.0041\n"
     ]
    },
    {
     "name": "stderr",
     "output_type": "stream",
     "text": [
      "Epoch 26/150: 100%|██████████| 51/51 [00:03<00:00, 13.53it/s, loss=0.00221]\n"
     ]
    },
    {
     "name": "stdout",
     "output_type": "stream",
     "text": [
      "Epoch 26, Average Loss: 0.0028\n",
      "Saved new best model with loss: 0.0028\n"
     ]
    },
    {
     "name": "stderr",
     "output_type": "stream",
     "text": [
      "Epoch 27/150: 100%|██████████| 51/51 [00:03<00:00, 13.59it/s, loss=0.00101]\n"
     ]
    },
    {
     "name": "stdout",
     "output_type": "stream",
     "text": [
      "Epoch 27, Average Loss: 0.0015\n",
      "Saved new best model with loss: 0.0015\n"
     ]
    },
    {
     "name": "stderr",
     "output_type": "stream",
     "text": [
      "Epoch 28/150: 100%|██████████| 51/51 [00:03<00:00, 13.59it/s, loss=0.000558]\n"
     ]
    },
    {
     "name": "stdout",
     "output_type": "stream",
     "text": [
      "Epoch 28, Average Loss: 0.0007\n",
      "Saved new best model with loss: 0.0007\n"
     ]
    },
    {
     "name": "stderr",
     "output_type": "stream",
     "text": [
      "Epoch 29/150: 100%|██████████| 51/51 [00:03<00:00, 13.60it/s, loss=0.00054] \n"
     ]
    },
    {
     "name": "stdout",
     "output_type": "stream",
     "text": [
      "Epoch 29, Average Loss: 0.0005\n",
      "Saved new best model with loss: 0.0005\n"
     ]
    },
    {
     "name": "stderr",
     "output_type": "stream",
     "text": [
      "Epoch 30/150: 100%|██████████| 51/51 [00:03<00:00, 13.50it/s, loss=0.00055] \n"
     ]
    },
    {
     "name": "stdout",
     "output_type": "stream",
     "text": [
      "Epoch 30, Average Loss: 0.0005\n"
     ]
    },
    {
     "name": "stderr",
     "output_type": "stream",
     "text": [
      "Epoch 31/150: 100%|██████████| 51/51 [00:03<00:00, 13.57it/s, loss=0.00052] \n"
     ]
    },
    {
     "name": "stdout",
     "output_type": "stream",
     "text": [
      "Epoch 31, Average Loss: 0.0005\n",
      "Saved new best model with loss: 0.0005\n"
     ]
    },
    {
     "name": "stderr",
     "output_type": "stream",
     "text": [
      "Epoch 32/150: 100%|██████████| 51/51 [00:03<00:00, 13.56it/s, loss=0.000538]\n"
     ]
    },
    {
     "name": "stdout",
     "output_type": "stream",
     "text": [
      "Epoch 32, Average Loss: 0.0005\n"
     ]
    },
    {
     "name": "stderr",
     "output_type": "stream",
     "text": [
      "Epoch 33/150: 100%|██████████| 51/51 [00:03<00:00, 13.66it/s, loss=0.000535]\n"
     ]
    },
    {
     "name": "stdout",
     "output_type": "stream",
     "text": [
      "Epoch 33, Average Loss: 0.0005\n",
      "Saved new best model with loss: 0.0005\n"
     ]
    },
    {
     "name": "stderr",
     "output_type": "stream",
     "text": [
      "Epoch 34/150: 100%|██████████| 51/51 [00:03<00:00, 13.67it/s, loss=0.000532]\n"
     ]
    },
    {
     "name": "stdout",
     "output_type": "stream",
     "text": [
      "Epoch 34, Average Loss: 0.0005\n",
      "Saved new best model with loss: 0.0005\n"
     ]
    },
    {
     "name": "stderr",
     "output_type": "stream",
     "text": [
      "Epoch 35/150: 100%|██████████| 51/51 [00:03<00:00, 13.60it/s, loss=0.000514]\n"
     ]
    },
    {
     "name": "stdout",
     "output_type": "stream",
     "text": [
      "Epoch 35, Average Loss: 0.0005\n",
      "Saved new best model with loss: 0.0005\n"
     ]
    },
    {
     "name": "stderr",
     "output_type": "stream",
     "text": [
      "Epoch 36/150: 100%|██████████| 51/51 [00:03<00:00, 13.64it/s, loss=0.000509]\n"
     ]
    },
    {
     "name": "stdout",
     "output_type": "stream",
     "text": [
      "Epoch 36, Average Loss: 0.0005\n",
      "Saved new best model with loss: 0.0005\n"
     ]
    },
    {
     "name": "stderr",
     "output_type": "stream",
     "text": [
      "Epoch 37/150: 100%|██████████| 51/51 [00:03<00:00, 13.63it/s, loss=0.000541]\n"
     ]
    },
    {
     "name": "stdout",
     "output_type": "stream",
     "text": [
      "Epoch 37, Average Loss: 0.0005\n",
      "Saved new best model with loss: 0.0005\n"
     ]
    },
    {
     "name": "stderr",
     "output_type": "stream",
     "text": [
      "Epoch 38/150: 100%|██████████| 51/51 [00:03<00:00, 13.54it/s, loss=0.000504]\n"
     ]
    },
    {
     "name": "stdout",
     "output_type": "stream",
     "text": [
      "Epoch 38, Average Loss: 0.0005\n"
     ]
    },
    {
     "name": "stderr",
     "output_type": "stream",
     "text": [
      "Epoch 39/150: 100%|██████████| 51/51 [00:03<00:00, 13.63it/s, loss=0.000466]\n"
     ]
    },
    {
     "name": "stdout",
     "output_type": "stream",
     "text": [
      "Epoch 39, Average Loss: 0.0005\n"
     ]
    },
    {
     "name": "stderr",
     "output_type": "stream",
     "text": [
      "Epoch 40/150: 100%|██████████| 51/51 [00:03<00:00, 13.54it/s, loss=0.000545]\n"
     ]
    },
    {
     "name": "stdout",
     "output_type": "stream",
     "text": [
      "Epoch 40, Average Loss: 0.0005\n"
     ]
    },
    {
     "name": "stderr",
     "output_type": "stream",
     "text": [
      "Epoch 41/150: 100%|██████████| 51/51 [00:03<00:00, 13.24it/s, loss=0.000501]\n"
     ]
    },
    {
     "name": "stdout",
     "output_type": "stream",
     "text": [
      "Epoch 41, Average Loss: 0.0005\n"
     ]
    },
    {
     "name": "stderr",
     "output_type": "stream",
     "text": [
      "Epoch 42/150: 100%|██████████| 51/51 [00:03<00:00, 13.32it/s, loss=0.000536]\n"
     ]
    },
    {
     "name": "stdout",
     "output_type": "stream",
     "text": [
      "Epoch 42, Average Loss: 0.0005\n"
     ]
    },
    {
     "name": "stderr",
     "output_type": "stream",
     "text": [
      "Epoch 43/150: 100%|██████████| 51/51 [00:03<00:00, 13.30it/s, loss=0.000552]\n"
     ]
    },
    {
     "name": "stdout",
     "output_type": "stream",
     "text": [
      "Epoch 43, Average Loss: 0.0005\n"
     ]
    },
    {
     "name": "stderr",
     "output_type": "stream",
     "text": [
      "Epoch 44/150: 100%|██████████| 51/51 [00:03<00:00, 13.25it/s, loss=0.000454]\n"
     ]
    },
    {
     "name": "stdout",
     "output_type": "stream",
     "text": [
      "Epoch 44, Average Loss: 0.0005\n",
      "Saved new best model with loss: 0.0005\n"
     ]
    },
    {
     "name": "stderr",
     "output_type": "stream",
     "text": [
      "Epoch 45/150: 100%|██████████| 51/51 [00:03<00:00, 13.36it/s, loss=0.000491]\n"
     ]
    },
    {
     "name": "stdout",
     "output_type": "stream",
     "text": [
      "Epoch 45, Average Loss: 0.0005\n",
      "Saved new best model with loss: 0.0005\n"
     ]
    },
    {
     "name": "stderr",
     "output_type": "stream",
     "text": [
      "Epoch 46/150: 100%|██████████| 51/51 [00:03<00:00, 13.22it/s, loss=0.000452]\n"
     ]
    },
    {
     "name": "stdout",
     "output_type": "stream",
     "text": [
      "Epoch 46, Average Loss: 0.0005\n",
      "Saved new best model with loss: 0.0005\n"
     ]
    },
    {
     "name": "stderr",
     "output_type": "stream",
     "text": [
      "Epoch 47/150: 100%|██████████| 51/51 [00:03<00:00, 13.22it/s, loss=0.000445]\n"
     ]
    },
    {
     "name": "stdout",
     "output_type": "stream",
     "text": [
      "Epoch 47, Average Loss: 0.0005\n"
     ]
    },
    {
     "name": "stderr",
     "output_type": "stream",
     "text": [
      "Epoch 48/150: 100%|██████████| 51/51 [00:03<00:00, 13.02it/s, loss=0.000478]\n"
     ]
    },
    {
     "name": "stdout",
     "output_type": "stream",
     "text": [
      "Epoch 48, Average Loss: 0.0005\n"
     ]
    },
    {
     "name": "stderr",
     "output_type": "stream",
     "text": [
      "Epoch 49/150: 100%|██████████| 51/51 [00:03<00:00, 13.28it/s, loss=0.000473]\n"
     ]
    },
    {
     "name": "stdout",
     "output_type": "stream",
     "text": [
      "Epoch 49, Average Loss: 0.0005\n",
      "Saved new best model with loss: 0.0005\n"
     ]
    },
    {
     "name": "stderr",
     "output_type": "stream",
     "text": [
      "Epoch 50/150: 100%|██████████| 51/51 [00:03<00:00, 13.29it/s, loss=0.000436]\n"
     ]
    },
    {
     "name": "stdout",
     "output_type": "stream",
     "text": [
      "Epoch 50, Average Loss: 0.0005\n"
     ]
    },
    {
     "name": "stderr",
     "output_type": "stream",
     "text": [
      "Epoch 51/150: 100%|██████████| 51/51 [00:03<00:00, 13.36it/s, loss=0.000483]\n"
     ]
    },
    {
     "name": "stdout",
     "output_type": "stream",
     "text": [
      "Epoch 51, Average Loss: 0.0005\n",
      "Saved new best model with loss: 0.0005\n"
     ]
    },
    {
     "name": "stderr",
     "output_type": "stream",
     "text": [
      "Epoch 52/150: 100%|██████████| 51/51 [00:03<00:00, 13.14it/s, loss=0.000471]\n"
     ]
    },
    {
     "name": "stdout",
     "output_type": "stream",
     "text": [
      "Epoch 52, Average Loss: 0.0005\n"
     ]
    },
    {
     "name": "stderr",
     "output_type": "stream",
     "text": [
      "Epoch 53/150: 100%|██████████| 51/51 [00:03<00:00, 13.23it/s, loss=0.000452]\n"
     ]
    },
    {
     "name": "stdout",
     "output_type": "stream",
     "text": [
      "Epoch 53, Average Loss: 0.0005\n"
     ]
    },
    {
     "name": "stderr",
     "output_type": "stream",
     "text": [
      "Epoch 54/150: 100%|██████████| 51/51 [00:03<00:00, 13.15it/s, loss=0.000477]\n"
     ]
    },
    {
     "name": "stdout",
     "output_type": "stream",
     "text": [
      "Epoch 54, Average Loss: 0.0005\n"
     ]
    },
    {
     "name": "stderr",
     "output_type": "stream",
     "text": [
      "Epoch 55/150: 100%|██████████| 51/51 [00:03<00:00, 13.28it/s, loss=0.000478]\n"
     ]
    },
    {
     "name": "stdout",
     "output_type": "stream",
     "text": [
      "Epoch 55, Average Loss: 0.0005\n"
     ]
    },
    {
     "name": "stderr",
     "output_type": "stream",
     "text": [
      "Epoch 56/150: 100%|██████████| 51/51 [00:03<00:00, 13.36it/s, loss=0.000445]\n"
     ]
    },
    {
     "name": "stdout",
     "output_type": "stream",
     "text": [
      "Epoch 56, Average Loss: 0.0005\n"
     ]
    },
    {
     "name": "stderr",
     "output_type": "stream",
     "text": [
      "Epoch 57/150: 100%|██████████| 51/51 [00:03<00:00, 13.40it/s, loss=0.000458]\n"
     ]
    },
    {
     "name": "stdout",
     "output_type": "stream",
     "text": [
      "Epoch 57, Average Loss: 0.0005\n"
     ]
    },
    {
     "name": "stderr",
     "output_type": "stream",
     "text": [
      "Epoch 58/150: 100%|██████████| 51/51 [00:03<00:00, 13.32it/s, loss=0.000427]\n"
     ]
    },
    {
     "name": "stdout",
     "output_type": "stream",
     "text": [
      "Epoch 58, Average Loss: 0.0005\n",
      "Saved new best model with loss: 0.0005\n"
     ]
    },
    {
     "name": "stderr",
     "output_type": "stream",
     "text": [
      "Epoch 59/150: 100%|██████████| 51/51 [00:03<00:00, 13.31it/s, loss=0.00049] \n"
     ]
    },
    {
     "name": "stdout",
     "output_type": "stream",
     "text": [
      "Epoch 59, Average Loss: 0.0005\n"
     ]
    },
    {
     "name": "stderr",
     "output_type": "stream",
     "text": [
      "Epoch 60/150: 100%|██████████| 51/51 [00:03<00:00, 13.37it/s, loss=0.000465]\n"
     ]
    },
    {
     "name": "stdout",
     "output_type": "stream",
     "text": [
      "Epoch 60, Average Loss: 0.0005\n"
     ]
    },
    {
     "name": "stderr",
     "output_type": "stream",
     "text": [
      "Epoch 61/150: 100%|██████████| 51/51 [00:03<00:00, 13.38it/s, loss=0.000461]\n"
     ]
    },
    {
     "name": "stdout",
     "output_type": "stream",
     "text": [
      "Epoch 61, Average Loss: 0.0005\n"
     ]
    },
    {
     "name": "stderr",
     "output_type": "stream",
     "text": [
      "Epoch 62/150: 100%|██████████| 51/51 [00:03<00:00, 13.39it/s, loss=0.000472]\n"
     ]
    },
    {
     "name": "stdout",
     "output_type": "stream",
     "text": [
      "Epoch 62, Average Loss: 0.0005\n"
     ]
    },
    {
     "name": "stderr",
     "output_type": "stream",
     "text": [
      "Epoch 63/150: 100%|██████████| 51/51 [00:03<00:00, 13.53it/s, loss=0.000487]\n"
     ]
    },
    {
     "name": "stdout",
     "output_type": "stream",
     "text": [
      "Epoch 63, Average Loss: 0.0005\n"
     ]
    },
    {
     "name": "stderr",
     "output_type": "stream",
     "text": [
      "Epoch 64/150: 100%|██████████| 51/51 [00:03<00:00, 13.52it/s, loss=0.000479]\n"
     ]
    },
    {
     "name": "stdout",
     "output_type": "stream",
     "text": [
      "Epoch 64, Average Loss: 0.0005\n",
      "Saved new best model with loss: 0.0005\n"
     ]
    },
    {
     "name": "stderr",
     "output_type": "stream",
     "text": [
      "Epoch 65/150: 100%|██████████| 51/51 [00:03<00:00, 13.35it/s, loss=0.000459]\n"
     ]
    },
    {
     "name": "stdout",
     "output_type": "stream",
     "text": [
      "Epoch 65, Average Loss: 0.0005\n"
     ]
    },
    {
     "name": "stderr",
     "output_type": "stream",
     "text": [
      "Epoch 66/150: 100%|██████████| 51/51 [00:03<00:00, 13.46it/s, loss=0.000442]\n"
     ]
    },
    {
     "name": "stdout",
     "output_type": "stream",
     "text": [
      "Epoch 66, Average Loss: 0.0005\n"
     ]
    },
    {
     "name": "stderr",
     "output_type": "stream",
     "text": [
      "Epoch 67/150: 100%|██████████| 51/51 [00:03<00:00, 13.47it/s, loss=0.000475]\n"
     ]
    },
    {
     "name": "stdout",
     "output_type": "stream",
     "text": [
      "Epoch 67, Average Loss: 0.0005\n"
     ]
    },
    {
     "name": "stderr",
     "output_type": "stream",
     "text": [
      "Epoch 68/150: 100%|██████████| 51/51 [00:03<00:00, 13.44it/s, loss=0.000429]\n"
     ]
    },
    {
     "name": "stdout",
     "output_type": "stream",
     "text": [
      "Epoch 68, Average Loss: 0.0005\n"
     ]
    },
    {
     "name": "stderr",
     "output_type": "stream",
     "text": [
      "Epoch 69/150: 100%|██████████| 51/51 [00:03<00:00, 13.50it/s, loss=0.000446]\n"
     ]
    },
    {
     "name": "stdout",
     "output_type": "stream",
     "text": [
      "Epoch 69, Average Loss: 0.0005\n"
     ]
    },
    {
     "name": "stderr",
     "output_type": "stream",
     "text": [
      "Epoch 70/150: 100%|██████████| 51/51 [00:03<00:00, 13.48it/s, loss=0.000466]\n"
     ]
    },
    {
     "name": "stdout",
     "output_type": "stream",
     "text": [
      "Epoch 70, Average Loss: 0.0005\n"
     ]
    },
    {
     "name": "stderr",
     "output_type": "stream",
     "text": [
      "Epoch 71/150: 100%|██████████| 51/51 [00:03<00:00, 13.41it/s, loss=0.000421]\n"
     ]
    },
    {
     "name": "stdout",
     "output_type": "stream",
     "text": [
      "Epoch 71, Average Loss: 0.0004\n",
      "Saved new best model with loss: 0.0004\n"
     ]
    },
    {
     "name": "stderr",
     "output_type": "stream",
     "text": [
      "Epoch 72/150: 100%|██████████| 51/51 [00:03<00:00, 13.55it/s, loss=0.000474]\n"
     ]
    },
    {
     "name": "stdout",
     "output_type": "stream",
     "text": [
      "Epoch 72, Average Loss: 0.0004\n"
     ]
    },
    {
     "name": "stderr",
     "output_type": "stream",
     "text": [
      "Epoch 73/150: 100%|██████████| 51/51 [00:03<00:00, 13.51it/s, loss=0.000441]\n"
     ]
    },
    {
     "name": "stdout",
     "output_type": "stream",
     "text": [
      "Epoch 73, Average Loss: 0.0004\n"
     ]
    },
    {
     "name": "stderr",
     "output_type": "stream",
     "text": [
      "Epoch 74/150: 100%|██████████| 51/51 [00:03<00:00, 13.49it/s, loss=0.000457]\n"
     ]
    },
    {
     "name": "stdout",
     "output_type": "stream",
     "text": [
      "Epoch 74, Average Loss: 0.0004\n"
     ]
    },
    {
     "name": "stderr",
     "output_type": "stream",
     "text": [
      "Epoch 75/150: 100%|██████████| 51/51 [00:03<00:00, 13.52it/s, loss=0.000473]\n"
     ]
    },
    {
     "name": "stdout",
     "output_type": "stream",
     "text": [
      "Epoch 75, Average Loss: 0.0004\n",
      "Saved new best model with loss: 0.0004\n"
     ]
    },
    {
     "name": "stderr",
     "output_type": "stream",
     "text": [
      "Epoch 76/150: 100%|██████████| 51/51 [00:03<00:00, 13.54it/s, loss=0.000464]\n"
     ]
    },
    {
     "name": "stdout",
     "output_type": "stream",
     "text": [
      "Epoch 76, Average Loss: 0.0004\n",
      "Saved new best model with loss: 0.0004\n"
     ]
    },
    {
     "name": "stderr",
     "output_type": "stream",
     "text": [
      "Epoch 77/150: 100%|██████████| 51/51 [00:03<00:00, 13.48it/s, loss=0.000425]\n"
     ]
    },
    {
     "name": "stdout",
     "output_type": "stream",
     "text": [
      "Epoch 77, Average Loss: 0.0004\n"
     ]
    },
    {
     "name": "stderr",
     "output_type": "stream",
     "text": [
      "Epoch 78/150: 100%|██████████| 51/51 [00:03<00:00, 13.55it/s, loss=0.000434]\n"
     ]
    },
    {
     "name": "stdout",
     "output_type": "stream",
     "text": [
      "Epoch 78, Average Loss: 0.0004\n",
      "Saved new best model with loss: 0.0004\n"
     ]
    },
    {
     "name": "stderr",
     "output_type": "stream",
     "text": [
      "Epoch 79/150: 100%|██████████| 51/51 [00:03<00:00, 13.32it/s, loss=0.000448]\n"
     ]
    },
    {
     "name": "stdout",
     "output_type": "stream",
     "text": [
      "Epoch 79, Average Loss: 0.0004\n"
     ]
    },
    {
     "name": "stderr",
     "output_type": "stream",
     "text": [
      "Epoch 80/150: 100%|██████████| 51/51 [00:03<00:00, 13.59it/s, loss=0.000435]\n"
     ]
    },
    {
     "name": "stdout",
     "output_type": "stream",
     "text": [
      "Epoch 80, Average Loss: 0.0004\n"
     ]
    },
    {
     "name": "stderr",
     "output_type": "stream",
     "text": [
      "Epoch 81/150: 100%|██████████| 51/51 [00:03<00:00, 13.22it/s, loss=0.000443]\n"
     ]
    },
    {
     "name": "stdout",
     "output_type": "stream",
     "text": [
      "Epoch 81, Average Loss: 0.0004\n"
     ]
    },
    {
     "name": "stderr",
     "output_type": "stream",
     "text": [
      "Epoch 82/150: 100%|██████████| 51/51 [00:03<00:00, 13.60it/s, loss=0.000456]\n"
     ]
    },
    {
     "name": "stdout",
     "output_type": "stream",
     "text": [
      "Epoch 82, Average Loss: 0.0004\n"
     ]
    },
    {
     "name": "stderr",
     "output_type": "stream",
     "text": [
      "Epoch 83/150: 100%|██████████| 51/51 [00:03<00:00, 13.65it/s, loss=0.000458]\n"
     ]
    },
    {
     "name": "stdout",
     "output_type": "stream",
     "text": [
      "Epoch 83, Average Loss: 0.0004\n"
     ]
    },
    {
     "name": "stderr",
     "output_type": "stream",
     "text": [
      "Epoch 84/150: 100%|██████████| 51/51 [00:03<00:00, 13.60it/s, loss=0.00044] \n"
     ]
    },
    {
     "name": "stdout",
     "output_type": "stream",
     "text": [
      "Epoch 84, Average Loss: 0.0004\n"
     ]
    },
    {
     "name": "stderr",
     "output_type": "stream",
     "text": [
      "Epoch 85/150: 100%|██████████| 51/51 [00:03<00:00, 13.73it/s, loss=0.00045] \n"
     ]
    },
    {
     "name": "stdout",
     "output_type": "stream",
     "text": [
      "Epoch 85, Average Loss: 0.0004\n",
      "Saved new best model with loss: 0.0004\n"
     ]
    },
    {
     "name": "stderr",
     "output_type": "stream",
     "text": [
      "Epoch 86/150: 100%|██████████| 51/51 [00:03<00:00, 13.65it/s, loss=0.000456]\n"
     ]
    },
    {
     "name": "stdout",
     "output_type": "stream",
     "text": [
      "Epoch 86, Average Loss: 0.0004\n"
     ]
    },
    {
     "name": "stderr",
     "output_type": "stream",
     "text": [
      "Epoch 87/150: 100%|██████████| 51/51 [00:03<00:00, 13.61it/s, loss=0.000424]\n"
     ]
    },
    {
     "name": "stdout",
     "output_type": "stream",
     "text": [
      "Epoch 87, Average Loss: 0.0004\n"
     ]
    },
    {
     "name": "stderr",
     "output_type": "stream",
     "text": [
      "Epoch 88/150: 100%|██████████| 51/51 [00:03<00:00, 13.65it/s, loss=0.000441]\n"
     ]
    },
    {
     "name": "stdout",
     "output_type": "stream",
     "text": [
      "Epoch 88, Average Loss: 0.0004\n",
      "Saved new best model with loss: 0.0004\n"
     ]
    },
    {
     "name": "stderr",
     "output_type": "stream",
     "text": [
      "Epoch 89/150: 100%|██████████| 51/51 [00:03<00:00, 13.59it/s, loss=0.000402]\n"
     ]
    },
    {
     "name": "stdout",
     "output_type": "stream",
     "text": [
      "Epoch 89, Average Loss: 0.0004\n",
      "Saved new best model with loss: 0.0004\n"
     ]
    },
    {
     "name": "stderr",
     "output_type": "stream",
     "text": [
      "Epoch 90/150: 100%|██████████| 51/51 [00:03<00:00, 13.77it/s, loss=0.000456]\n"
     ]
    },
    {
     "name": "stdout",
     "output_type": "stream",
     "text": [
      "Epoch 90, Average Loss: 0.0004\n"
     ]
    },
    {
     "name": "stderr",
     "output_type": "stream",
     "text": [
      "Epoch 91/150: 100%|██████████| 51/51 [00:03<00:00, 13.60it/s, loss=0.000459]\n"
     ]
    },
    {
     "name": "stdout",
     "output_type": "stream",
     "text": [
      "Epoch 91, Average Loss: 0.0004\n",
      "Saved new best model with loss: 0.0004\n"
     ]
    },
    {
     "name": "stderr",
     "output_type": "stream",
     "text": [
      "Epoch 92/150: 100%|██████████| 51/51 [00:03<00:00, 13.66it/s, loss=0.000406]\n"
     ]
    },
    {
     "name": "stdout",
     "output_type": "stream",
     "text": [
      "Epoch 92, Average Loss: 0.0004\n"
     ]
    },
    {
     "name": "stderr",
     "output_type": "stream",
     "text": [
      "Epoch 93/150: 100%|██████████| 51/51 [00:03<00:00, 13.69it/s, loss=0.000438]\n"
     ]
    },
    {
     "name": "stdout",
     "output_type": "stream",
     "text": [
      "Epoch 93, Average Loss: 0.0004\n",
      "Saved new best model with loss: 0.0004\n"
     ]
    },
    {
     "name": "stderr",
     "output_type": "stream",
     "text": [
      "Epoch 94/150: 100%|██████████| 51/51 [00:03<00:00, 13.65it/s, loss=0.000429]\n"
     ]
    },
    {
     "name": "stdout",
     "output_type": "stream",
     "text": [
      "Epoch 94, Average Loss: 0.0004\n"
     ]
    },
    {
     "name": "stderr",
     "output_type": "stream",
     "text": [
      "Epoch 95/150: 100%|██████████| 51/51 [00:03<00:00, 13.59it/s, loss=0.000429]\n"
     ]
    },
    {
     "name": "stdout",
     "output_type": "stream",
     "text": [
      "Epoch 95, Average Loss: 0.0004\n"
     ]
    },
    {
     "name": "stderr",
     "output_type": "stream",
     "text": [
      "Epoch 96/150: 100%|██████████| 51/51 [00:03<00:00, 13.64it/s, loss=0.000434]\n"
     ]
    },
    {
     "name": "stdout",
     "output_type": "stream",
     "text": [
      "Epoch 96, Average Loss: 0.0004\n"
     ]
    },
    {
     "name": "stderr",
     "output_type": "stream",
     "text": [
      "Epoch 97/150: 100%|██████████| 51/51 [00:03<00:00, 13.71it/s, loss=0.000382]\n"
     ]
    },
    {
     "name": "stdout",
     "output_type": "stream",
     "text": [
      "Epoch 97, Average Loss: 0.0004\n"
     ]
    },
    {
     "name": "stderr",
     "output_type": "stream",
     "text": [
      "Epoch 98/150: 100%|██████████| 51/51 [00:03<00:00, 13.51it/s, loss=0.000436]\n"
     ]
    },
    {
     "name": "stdout",
     "output_type": "stream",
     "text": [
      "Epoch 98, Average Loss: 0.0004\n"
     ]
    },
    {
     "name": "stderr",
     "output_type": "stream",
     "text": [
      "Epoch 99/150: 100%|██████████| 51/51 [00:03<00:00, 13.68it/s, loss=0.000423]\n"
     ]
    },
    {
     "name": "stdout",
     "output_type": "stream",
     "text": [
      "Epoch 99, Average Loss: 0.0004\n"
     ]
    },
    {
     "name": "stderr",
     "output_type": "stream",
     "text": [
      "Epoch 100/150: 100%|██████████| 51/51 [00:03<00:00, 13.62it/s, loss=0.000468]\n"
     ]
    },
    {
     "name": "stdout",
     "output_type": "stream",
     "text": [
      "Epoch 100, Average Loss: 0.0004\n"
     ]
    },
    {
     "name": "stderr",
     "output_type": "stream",
     "text": [
      "Epoch 101/150: 100%|██████████| 51/51 [00:03<00:00, 13.67it/s, loss=0.000441]\n"
     ]
    },
    {
     "name": "stdout",
     "output_type": "stream",
     "text": [
      "Epoch 101, Average Loss: 0.0004\n"
     ]
    },
    {
     "name": "stderr",
     "output_type": "stream",
     "text": [
      "Epoch 102/150: 100%|██████████| 51/51 [00:03<00:00, 13.53it/s, loss=0.000459]\n"
     ]
    },
    {
     "name": "stdout",
     "output_type": "stream",
     "text": [
      "Epoch 102, Average Loss: 0.0004\n"
     ]
    },
    {
     "name": "stderr",
     "output_type": "stream",
     "text": [
      "Epoch 103/150: 100%|██████████| 51/51 [00:03<00:00, 13.67it/s, loss=0.000432]\n"
     ]
    },
    {
     "name": "stdout",
     "output_type": "stream",
     "text": [
      "Epoch 103, Average Loss: 0.0004\n",
      "Saved new best model with loss: 0.0004\n"
     ]
    },
    {
     "name": "stderr",
     "output_type": "stream",
     "text": [
      "Epoch 104/150: 100%|██████████| 51/51 [00:03<00:00, 13.55it/s, loss=0.000458]\n"
     ]
    },
    {
     "name": "stdout",
     "output_type": "stream",
     "text": [
      "Epoch 104, Average Loss: 0.0004\n"
     ]
    },
    {
     "name": "stderr",
     "output_type": "stream",
     "text": [
      "Epoch 105/150: 100%|██████████| 51/51 [00:03<00:00, 13.57it/s, loss=0.000452]\n"
     ]
    },
    {
     "name": "stdout",
     "output_type": "stream",
     "text": [
      "Epoch 105, Average Loss: 0.0004\n"
     ]
    },
    {
     "name": "stderr",
     "output_type": "stream",
     "text": [
      "Epoch 106/150: 100%|██████████| 51/51 [00:03<00:00, 13.66it/s, loss=0.000451]\n"
     ]
    },
    {
     "name": "stdout",
     "output_type": "stream",
     "text": [
      "Epoch 106, Average Loss: 0.0004\n"
     ]
    },
    {
     "name": "stderr",
     "output_type": "stream",
     "text": [
      "Epoch 107/150: 100%|██████████| 51/51 [00:03<00:00, 13.49it/s, loss=0.000416]\n"
     ]
    },
    {
     "name": "stdout",
     "output_type": "stream",
     "text": [
      "Epoch 107, Average Loss: 0.0004\n"
     ]
    },
    {
     "name": "stderr",
     "output_type": "stream",
     "text": [
      "Epoch 108/150: 100%|██████████| 51/51 [00:03<00:00, 13.60it/s, loss=0.000423]\n"
     ]
    },
    {
     "name": "stdout",
     "output_type": "stream",
     "text": [
      "Epoch 108, Average Loss: 0.0004\n"
     ]
    },
    {
     "name": "stderr",
     "output_type": "stream",
     "text": [
      "Epoch 109/150: 100%|██████████| 51/51 [00:03<00:00, 13.64it/s, loss=0.000464]\n"
     ]
    },
    {
     "name": "stdout",
     "output_type": "stream",
     "text": [
      "Epoch 109, Average Loss: 0.0004\n",
      "Saved new best model with loss: 0.0004\n"
     ]
    },
    {
     "name": "stderr",
     "output_type": "stream",
     "text": [
      "Epoch 110/150: 100%|██████████| 51/51 [00:03<00:00, 13.61it/s, loss=0.00041] \n"
     ]
    },
    {
     "name": "stdout",
     "output_type": "stream",
     "text": [
      "Epoch 110, Average Loss: 0.0004\n"
     ]
    },
    {
     "name": "stderr",
     "output_type": "stream",
     "text": [
      "Epoch 111/150: 100%|██████████| 51/51 [00:03<00:00, 13.45it/s, loss=0.000479]\n"
     ]
    },
    {
     "name": "stdout",
     "output_type": "stream",
     "text": [
      "Epoch 111, Average Loss: 0.0004\n"
     ]
    },
    {
     "name": "stderr",
     "output_type": "stream",
     "text": [
      "Epoch 112/150: 100%|██████████| 51/51 [00:03<00:00, 13.65it/s, loss=0.000428]\n"
     ]
    },
    {
     "name": "stdout",
     "output_type": "stream",
     "text": [
      "Epoch 112, Average Loss: 0.0004\n"
     ]
    },
    {
     "name": "stderr",
     "output_type": "stream",
     "text": [
      "Epoch 113/150: 100%|██████████| 51/51 [00:03<00:00, 13.74it/s, loss=0.000437]\n"
     ]
    },
    {
     "name": "stdout",
     "output_type": "stream",
     "text": [
      "Epoch 113, Average Loss: 0.0004\n"
     ]
    },
    {
     "name": "stderr",
     "output_type": "stream",
     "text": [
      "Epoch 114/150: 100%|██████████| 51/51 [00:03<00:00, 13.69it/s, loss=0.000451]\n"
     ]
    },
    {
     "name": "stdout",
     "output_type": "stream",
     "text": [
      "Epoch 114, Average Loss: 0.0004\n"
     ]
    },
    {
     "name": "stderr",
     "output_type": "stream",
     "text": [
      "Epoch 115/150: 100%|██████████| 51/51 [00:03<00:00, 13.67it/s, loss=0.000428]\n"
     ]
    },
    {
     "name": "stdout",
     "output_type": "stream",
     "text": [
      "Epoch 115, Average Loss: 0.0004\n"
     ]
    },
    {
     "name": "stderr",
     "output_type": "stream",
     "text": [
      "Epoch 116/150: 100%|██████████| 51/51 [00:03<00:00, 13.67it/s, loss=0.000461]\n"
     ]
    },
    {
     "name": "stdout",
     "output_type": "stream",
     "text": [
      "Epoch 116, Average Loss: 0.0004\n"
     ]
    },
    {
     "name": "stderr",
     "output_type": "stream",
     "text": [
      "Epoch 117/150: 100%|██████████| 51/51 [00:03<00:00, 13.69it/s, loss=0.000429]\n"
     ]
    },
    {
     "name": "stdout",
     "output_type": "stream",
     "text": [
      "Epoch 117, Average Loss: 0.0004\n"
     ]
    },
    {
     "name": "stderr",
     "output_type": "stream",
     "text": [
      "Epoch 118/150: 100%|██████████| 51/51 [00:03<00:00, 13.66it/s, loss=0.000444]\n"
     ]
    },
    {
     "name": "stdout",
     "output_type": "stream",
     "text": [
      "Epoch 118, Average Loss: 0.0004\n"
     ]
    },
    {
     "name": "stderr",
     "output_type": "stream",
     "text": [
      "Epoch 119/150: 100%|██████████| 51/51 [00:03<00:00, 13.72it/s, loss=0.000426]\n"
     ]
    },
    {
     "name": "stdout",
     "output_type": "stream",
     "text": [
      "Epoch 119, Average Loss: 0.0004\n",
      "Early stopping triggered!\n",
      "Training completed!\n"
     ]
    },
    {
     "data": {
      "image/png": "[encoded data removed]",
      "text/plain": [
       "<Figure size 1000x600 with 1 Axes>"
      ]
     },
     "metadata": {},
     "output_type": "display_data"
    }
   ],
   "source": [
    "# Set up GPU device and print memory info\n",
    "device = torch.device('cuda' if torch.cuda.is_available() else 'cpu')\n",
    "print(f\"Using device: {device}\")\n",
    "\n",
    "if torch.cuda.is_available():\n",
    "    print(f\"Initial GPU memory: {torch.cuda.memory_allocated()/1e9:.2f} GB\")\n",
    "\n",
    "# Try to load cached data first\n",
    "cached_data_path = 'gpu_processed_graph.pt'\n",
    "try:\n",
    "    print(\"Attempting to load cached graph data...\")\n",
    "    data = torch.load(cached_data_path)\n",
    "    data = data.to(device)\n",
    "    print(\"Successfully loaded cached graph data!\")\n",
    "except FileNotFoundError:\n",
    "    print(\"No cached data found. Processing graph from scratch...\")\n",
    "    # Prepare the data\n",
    "    data = prepare_graph_data(graph, device)\n",
    "    # Cache the processed data\n",
    "    print(\"Caching processed graph data...\")\n",
    "    torch.save(data, cached_data_path)\n",
    "    print(\"Graph data cached successfully!\")\n",
    "\n",
    "in_channels = data.x.size(1)\n",
    "\n",
    "# Initialize model\n",
    "print(\"Initializing model...\")\n",
    "model = EfficientGraphSAGE(\n",
    "    in_channels=in_channels,\n",
    "    hidden_channels=512,  # Increased to help with dimensionality reduction\n",
    "    out_channels=384,    # Changed to desired embedding size\n",
    "    num_layers=3,        # Added an extra layer to help with dimensionality reduction\n",
    "    dropout=0.2\n",
    ").to(device)\n",
    "\n",
    "# Set up optimizer with different learning rates for different components\n",
    "optimizer = torch.optim.AdamW([\n",
    "    {'params': model.convs.parameters(), 'lr': 0.001},\n",
    "    {'params': model.batch_norm.parameters(), 'lr': 0.001}\n",
    "])\n",
    "\n",
    "# Try to load checkpoint if it exists\n",
    "start_epoch = 0\n",
    "training_losses = []  # Store losses for plotting\n",
    "try:\n",
    "    checkpoint = torch.load('best_graphsage_model.pt')\n",
    "    model.load_state_dict(checkpoint['model_state_dict'])\n",
    "    optimizer.load_state_dict(checkpoint['optimizer_state_dict'])\n",
    "    start_epoch = checkpoint['epoch'] + 1\n",
    "    best_loss = checkpoint['loss']\n",
    "    if 'training_losses' in checkpoint:\n",
    "        training_losses = checkpoint['training_losses']\n",
    "    print(f\"Loaded checkpoint from epoch {start_epoch-1} with loss {best_loss:.4f}\")\n",
    "except FileNotFoundError:\n",
    "    print(\"No checkpoint found, starting fresh training\")\n",
    "    best_loss = float('inf')\n",
    "\n",
    "# Learning rate scheduler\n",
    "scheduler = torch.optim.lr_scheduler.ReduceLROnPlateau(\n",
    "    optimizer, mode='min', factor=0.5, patience=5, verbose=True\n",
    ")\n",
    "\n",
    "# Process data in smaller chunks if needed\n",
    "batch_size = 512  # Smaller batch size for memory efficiency\n",
    "train_loader = NeighborLoader(\n",
    "    data,\n",
    "    num_neighbors=[10, 5],  # Reduced number of neighbors\n",
    "    batch_size=batch_size,\n",
    "    shuffle=True,\n",
    "    num_workers=4\n",
    ")\n",
    "\n",
    "# Print memory usage after data loading\n",
    "if torch.cuda.is_available():\n",
    "    print(f\"GPU memory after data loading: {torch.cuda.memory_allocated()/1e9:.2f} GB\")\n",
    "\n",
    "num_epochs = 150\n",
    "patience = 10\n",
    "patience_counter = 0\n",
    "\n",
    "# Enable automatic mixed precision for faster training\n",
    "scaler = torch.cuda.amp.GradScaler()\n",
    "\n",
    "print(f\"Starting training from epoch {start_epoch+1} to {num_epochs}...\")\n",
    "for epoch in range(start_epoch, num_epochs):\n",
    "    model.train()\n",
    "    total_loss = 0\n",
    "    num_batches = 0\n",
    "    \n",
    "    # Process batches with progress bar\n",
    "    pbar = tqdm(train_loader, desc=f'Epoch {epoch+1}/{num_epochs}')\n",
    "    for batch in pbar:\n",
    "        batch = batch.to(device)\n",
    "        optimizer.zero_grad()\n",
    "        \n",
    "        # Use automatic mixed precision\n",
    "        with torch.cuda.amp.autocast():\n",
    "            # Forward pass\n",
    "            out = model(batch.x, batch.edge_index)[:batch.batch_size]  # Only take batch_size nodes\n",
    "            \n",
    "            # Project target to same dimension as output\n",
    "            target = batch.x[:batch.batch_size]\n",
    "            target_projected = torch.nn.Linear(target.shape[1], 384).to(device)(target)\n",
    "            \n",
    "            loss = F.mse_loss(out, target_projected)\n",
    "            \n",
    "            # Add L2 regularization\n",
    "            l2_reg = 0\n",
    "            for param in model.parameters():\n",
    "                l2_reg += torch.norm(param)\n",
    "            loss += 0.001 * l2_reg\n",
    "        \n",
    "        # Backward pass with gradient scaling\n",
    "        scaler.scale(loss).backward()\n",
    "        \n",
    "        # Gradient clipping\n",
    "        scaler.unscale_(optimizer)\n",
    "        torch.nn.utils.clip_grad_norm_(model.parameters(), max_norm=1.0)\n",
    "        \n",
    "        scaler.step(optimizer)\n",
    "        scaler.update()\n",
    "        \n",
    "        total_loss += loss.item()\n",
    "        num_batches += 1\n",
    "        \n",
    "        # Update progress bar\n",
    "        pbar.set_postfix({'loss': loss.item()})\n",
    "    \n",
    "    # Compute average loss\n",
    "    avg_loss = total_loss / num_batches\n",
    "    training_losses.append(avg_loss)\n",
    "    print(f'Epoch {epoch+1}, Average Loss: {avg_loss:.4f}')\n",
    "    \n",
    "    # Learning rate scheduling\n",
    "    scheduler.step(avg_loss)\n",
    "    \n",
    "    # Early stopping check\n",
    "    if avg_loss < best_loss:\n",
    "        best_loss = avg_loss\n",
    "        patience_counter = 0\n",
    "        # Save best model\n",
    "        torch.save({\n",
    "            'epoch': epoch,\n",
    "            'model_state_dict': model.state_dict(),\n",
    "            'optimizer_state_dict': optimizer.state_dict(),\n",
    "            'loss': best_loss,\n",
    "            'training_losses': training_losses\n",
    "        }, 'best_graphsage_model.pt')\n",
    "        print(f\"Saved new best model with loss: {best_loss:.4f}\")\n",
    "    else:\n",
    "        patience_counter += 1\n",
    "        \n",
    "    if patience_counter >= patience:\n",
    "        print(\"Early stopping triggered!\")\n",
    "        break\n",
    "\n",
    "print(\"Training completed!\")\n",
    "\n",
    "# Plot training loss\n",
    "import matplotlib.pyplot as plt\n",
    "plt.figure(figsize=(10, 6))\n",
    "plt.plot(range(len(training_losses)), training_losses)\n",
    "plt.title('Training Loss Over Time')\n",
    "plt.xlabel('Epoch')\n",
    "plt.ylabel('Loss')\n",
    "plt.grid(True)\n",
    "plt.show()"
   ]
  },
  {
   "cell_type": "markdown",
   "metadata": {},
   "source": [
    "# Generate the embeddings from the model"
   ]
  },
  {
   "cell_type": "code",
   "execution_count": 6,
   "metadata": {},
   "outputs": [],
   "source": [
    "import pickle\n",
    "import torch\n",
    "import torch.nn.functional as F\n",
    "from torch_geometric.nn import SAGEConv\n",
    "from torch_geometric.loader import NeighborLoader\n",
    "from torch_geometric.data import Data\n",
    "from torch_geometric.utils import from_networkx\n",
    "import numpy as np\n",
    "from tqdm import tqdm"
   ]
  },
  {
   "cell_type": "code",
   "execution_count": 7,
   "metadata": {},
   "outputs": [],
   "source": [
    "# Define the GraphSAGE model\n",
    "class EfficientGraphSAGE(torch.nn.Module):\n",
    "    def __init__(\n",
    "        self,\n",
    "        in_channels,\n",
    "        hidden_channels=256,\n",
    "        out_channels=128,\n",
    "        num_layers=2,\n",
    "        dropout=0.2\n",
    "    ):\n",
    "        super().__init__()\n",
    "        self.num_layers = num_layers\n",
    "        \n",
    "        # Input layer\n",
    "        self.convs = torch.nn.ModuleList()\n",
    "        self.convs.append(SAGEConv(in_channels, hidden_channels, aggr='mean'))\n",
    "        \n",
    "        # Hidden layers\n",
    "        for _ in range(num_layers - 2):\n",
    "            self.convs.append(SAGEConv(hidden_channels, hidden_channels, aggr='mean'))\n",
    "        \n",
    "        # Output layer\n",
    "        self.convs.append(SAGEConv(hidden_channels, out_channels, aggr='mean'))\n",
    "        \n",
    "        self.dropout = torch.nn.Dropout(dropout)\n",
    "        self.batch_norm = torch.nn.ModuleList([\n",
    "            torch.nn.BatchNorm1d(hidden_channels) for _ in range(num_layers-1)\n",
    "        ])\n",
    "        self.batch_norm.append(torch.nn.BatchNorm1d(out_channels))\n",
    "\n",
    "    def forward(self, x, edge_index):\n",
    "        for i, conv in enumerate(self.convs[:-1]):\n",
    "            x = conv(x, edge_index)\n",
    "            x = self.batch_norm[i](x)\n",
    "            x = F.relu(x)\n",
    "            x = self.dropout(x)\n",
    "        x = self.convs[-1](x, edge_index)\n",
    "        x = self.batch_norm[-1](x)\n",
    "        return x\n",
    "    \n",
    "def prepare_graph_data(graph, device):\n",
    "    \"\"\"Convert NetworkX graph to PyG data\"\"\"\n",
    "    print(\"Converting NetworkX graph to PyG format...\")\n",
    "    \n",
    "    # Extract node features and edge index\n",
    "    node_features = []\n",
    "    \n",
    "    # Get a sample node to check structure\n",
    "    first_node = list(graph.nodes())[0]\n",
    "    print(\"\\nSample node data:\")\n",
    "    print(f\"Title embedding type: {type(graph.nodes[first_node]['job_title_embedding'])}\")\n",
    "    print(f\"Title embedding length: {len(graph.nodes[first_node]['job_title_embedding'])}\")\n",
    "    \n",
    "    try:\n",
    "        for node in tqdm(graph.nodes(), desc=\"Extracting node features\"):\n",
    "            features = []\n",
    "            \n",
    "            # Get numpy arrays directly\n",
    "            title_emb = graph.nodes[node]['job_title_embedding']\n",
    "            desc_emb = graph.nodes[node]['job_description_embedding']\n",
    "            type_emb = graph.nodes[node]['job_type_encoding']\n",
    "            \n",
    "            # Combine all embeddings\n",
    "            features.extend(title_emb)\n",
    "            features.extend(desc_emb)\n",
    "            features.extend(type_emb)\n",
    "            node_features.append(features)\n",
    "            \n",
    "            # Print first node information\n",
    "            if len(node_features) == 1:\n",
    "                print(f\"\\nFeature dimensions for first node:\")\n",
    "                print(f\"Title embedding: {len(title_emb)}\")\n",
    "                print(f\"Description embedding: {len(desc_emb)}\")\n",
    "                print(f\"Job type encoding: {len(type_emb)}\")\n",
    "                print(f\"Total features: {len(features)}\")\n",
    "    \n",
    "    except Exception as e:\n",
    "        print(f\"\\nError processing node features: {str(e)}\")\n",
    "        print(\"\\nDetailed error information:\")\n",
    "        print(f\"Node: {node}\")\n",
    "        print(f\"Title embedding sample: {graph.nodes[node]['job_title_embedding'][:100]}\")\n",
    "        raise\n",
    "\n",
    "    # Convert to tensors\n",
    "    try:\n",
    "        x = torch.tensor(np.array(node_features), dtype=torch.float)\n",
    "        print(f\"\\nNode features tensor shape: {x.shape}\")\n",
    "    except Exception as e:\n",
    "        print(f\"\\nError converting to tensor: {str(e)}\")\n",
    "        print(f\"Node features list shape: {len(node_features)} x {len(node_features[0]) if node_features else 0}\")\n",
    "        raise\n",
    "    \n",
    "    # Create edge index and weights\n",
    "    print(\"\\nProcessing edges...\")\n",
    "    edge_index = []\n",
    "    edge_weights = []\n",
    "    \n",
    "    try:\n",
    "        for u, v, data in tqdm(graph.edges(data=True), desc=\"Processing edges\"):\n",
    "            u_idx = int(u.split('_')[1])\n",
    "            v_idx = int(v.split('_')[1])\n",
    "            edge_index.append([u_idx, v_idx])\n",
    "            edge_weights.append(float(data.get('weight', 1.0)))\n",
    "    except Exception as e:\n",
    "        print(f\"\\nError processing edges: {str(e)}\")\n",
    "        print(f\"Sample edge: {u} -> {v}\")\n",
    "        print(f\"Edge data: {data}\")\n",
    "        raise\n",
    "\n",
    "    edge_index = torch.tensor(edge_index, dtype=torch.long).t().contiguous()\n",
    "    edge_weights = torch.tensor(edge_weights, dtype=torch.float)\n",
    "    \n",
    "    # Create PyG data object\n",
    "    data = Data(\n",
    "        x=x,\n",
    "        edge_index=edge_index,\n",
    "        edge_weight=edge_weights,\n",
    "        num_nodes=len(graph)\n",
    "    )\n",
    "    \n",
    "    print(\"\\nData preparation completed successfully!\")\n",
    "    print(f\"Features shape: {data.x.shape}\")\n",
    "    print(f\"Edge index shape: {data.edge_index.shape}\")\n",
    "    print(f\"Edge weights shape: {data.edge_weight.shape}\")\n",
    "    \n",
    "    return data.to(device)"
   ]
  },
  {
   "cell_type": "code",
   "execution_count": 8,
   "metadata": {},
   "outputs": [
    {
     "name": "stdout",
     "output_type": "stream",
     "text": [
      "Using device: cuda\n",
      "Initial GPU memory: 0.67 GB\n",
      "Attempting to load cached graph data...\n",
      "Successfully loaded cached graph data!\n",
      "Initializing model...\n"
     ]
    },
    {
     "name": "stderr",
     "output_type": "stream",
     "text": [
      "C:\\Users\\Brandon\\AppData\\Local\\Temp\\ipykernel_13096\\2110895155.py:12: FutureWarning: You are using `torch.load` with `weights_only=False` (the current default value), which uses the default pickle module implicitly. It is possible to construct malicious pickle data which will execute arbitrary code during unpickling (See https://github.com/pytorch/pytorch/blob/main/SECURITY.md#untrusted-models for more details). In a future release, the default value for `weights_only` will be flipped to `True`. This limits the functions that could be executed during unpickling. Arbitrary objects will no longer be allowed to be loaded via this mode unless they are explicitly allowlisted by the user via `torch.serialization.add_safe_globals`. We recommend you start setting `weights_only=True` for any use case where you don't have full control of the loaded file. Please open an issue on GitHub for any issues related to this experimental feature.\n",
      "  data = torch.load(cached_data_path)\n"
     ]
    }
   ],
   "source": [
    "# Set up GPU device and print memory info\n",
    "device = torch.device('cuda' if torch.cuda.is_available() else 'cpu')\n",
    "print(f\"Using device: {device}\")\n",
    "\n",
    "if torch.cuda.is_available():\n",
    "    print(f\"Initial GPU memory: {torch.cuda.memory_allocated()/1e9:.2f} GB\")\n",
    "\n",
    "# Try to load cached data first\n",
    "cached_data_path = 'gpu_processed_graph.pt'\n",
    "try:\n",
    "    print(\"Attempting to load cached graph data...\")\n",
    "    data = torch.load(cached_data_path)\n",
    "    data = data.to(device)\n",
    "    print(\"Successfully loaded cached graph data!\")\n",
    "except FileNotFoundError:\n",
    "    print(\"No cached data found. Processing graph from scratch...\")\n",
    "    # Prepare the data\n",
    "    data = prepare_graph_data(graph, device)\n",
    "    # Cache the processed data\n",
    "    print(\"Caching processed graph data...\")\n",
    "    torch.save(data, cached_data_path)\n",
    "    print(\"Graph data cached successfully!\")\n",
    "\n",
    "in_channels = data.x.size(1)\n",
    "\n",
    "# Initialize model\n",
    "print(\"Initializing model...\")\n",
    "model = EfficientGraphSAGE(\n",
    "    in_channels=in_channels,\n",
    "    hidden_channels=512,  # Increased to help with dimensionality reduction\n",
    "    out_channels=384,    # Changed to desired embedding size\n",
    "    num_layers=3,        # Added an extra layer to help with dimensionality reduction\n",
    "    dropout=0.2\n",
    ").to(device)"
   ]
  },
  {
   "cell_type": "code",
   "execution_count": 9,
   "metadata": {},
   "outputs": [
    {
     "name": "stdout",
     "output_type": "stream",
     "text": [
      "Loading best model...\n",
      "Generating embeddings...\n"
     ]
    },
    {
     "name": "stderr",
     "output_type": "stream",
     "text": [
      "100%|██████████| 401/401 [03:18<00:00,  2.02it/s]\n"
     ]
    },
    {
     "name": "stdout",
     "output_type": "stream",
     "text": [
      "Generated embeddings shape: torch.Size([25610, 384])\n",
      "Embeddings saved successfully!\n"
     ]
    }
   ],
   "source": [
    "# Set CUDA launch blocking for better error tracking\n",
    "import os\n",
    "os.environ['CUDA_LAUNCH_BLOCKING'] = '1'\n",
    "\n",
    "# Load the best model and generate embeddings\n",
    "print(\"Loading best model...\")\n",
    "checkpoint = torch.load('best_graphsage_model.pt', weights_only=True)  # Set weights_only=True\n",
    "model.load_state_dict(checkpoint['model_state_dict'])\n",
    "model.eval()\n",
    "\n",
    "def generate_embeddings(model, data, batch_size=64):  # Reduced batch size to 64\n",
    "    \"\"\"Generate embeddings for all nodes\"\"\"\n",
    "    print(\"Generating embeddings...\")\n",
    "    embeddings = []\n",
    "    model.eval()\n",
    "    \n",
    "    # Get list of all edges and keep on CPU\n",
    "    edge_index = data.edge_index.cpu()\n",
    "    data.x = data.x.cpu()  # Move features to CPU\n",
    "    \n",
    "    with torch.no_grad():\n",
    "        for i in tqdm(range(0, data.num_nodes, batch_size)):\n",
    "            batch_end = min(i + batch_size, data.num_nodes)\n",
    "            batch_nodes = list(range(i, batch_end))\n",
    "            \n",
    "            # Process edge mask on CPU\n",
    "            mask = (edge_index[0].unsqueeze(1) == torch.tensor(batch_nodes)).any(dim=1) | \\\n",
    "                   (edge_index[1].unsqueeze(1) == torch.tensor(batch_nodes)).any(dim=1)\n",
    "            \n",
    "            # Only move necessary data to GPU\n",
    "            batch_edge_index = edge_index[:, mask].to(device)\n",
    "            batch_x = data.x.to(device)  # Move all node features to GPU\n",
    "            \n",
    "            try:\n",
    "                # Verify indices are in valid range\n",
    "                max_index = batch_edge_index.max().item()\n",
    "                if max_index >= batch_x.size(0):\n",
    "                    print(f\"Invalid index found: {max_index} >= {batch_x.size(0)}\")\n",
    "                    continue\n",
    "                    \n",
    "                # Generate embeddings for batch\n",
    "                batch_emb = model(batch_x, batch_edge_index)\n",
    "                embeddings.append(batch_emb[i:batch_end].cpu())  # Only keep embeddings for batch nodes\n",
    "            except RuntimeError as e:\n",
    "                print(f\"Error with batch {i}-{batch_end}: {str(e)}\")\n",
    "                del batch_edge_index, batch_x\n",
    "                torch.cuda.empty_cache()\n",
    "                continue\n",
    "                \n",
    "            # Clear GPU memory\n",
    "            del batch_edge_index, batch_x\n",
    "            torch.cuda.empty_cache()\n",
    "    \n",
    "    # Concatenate all embeddings on CPU\n",
    "    all_embeddings = torch.cat(embeddings, dim=0)\n",
    "    print(f\"Generated embeddings shape: {all_embeddings.shape}\")\n",
    "    return all_embeddings\n",
    "\n",
    "# Generate and save embeddings\n",
    "node_embeddings = generate_embeddings(model, data)\n",
    "torch.save(node_embeddings, 'node_embeddings.pt')\n",
    "print(\"Embeddings saved successfully!\")"
   ]
  },
  {
   "cell_type": "code",
   "execution_count": null,
   "metadata": {},
   "outputs": [],
   "source": []
  }
 ],
 "metadata": {
  "kernelspec": {
   "display_name": "graph",
   "language": "python",
   "name": "python3"
  },
  "language_info": {
   "codemirror_mode": {
    "name": "ipython",
    "version": 3
   },
   "file_extension": ".py",
   "mimetype": "text/x-python",
   "name": "python",
   "nbconvert_exporter": "python",
   "pygments_lexer": "ipython3",
   "version": "3.10.15"
  }
 },
 "nbformat": 4,
 "nbformat_minor": 2
}
