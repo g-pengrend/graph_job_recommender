{
 "cells": [
  {
   "cell_type": "code",
   "execution_count": 1,
   "metadata": {},
   "outputs": [],
   "source": [
    "import pandas as pd\n",
    "from sklearn.preprocessing import MultiLabelBinarizer\n",
    "from transformers import AutoTokenizer, AutoModel\n",
    "import torch\n",
    "import torch.nn.functional as F\n",
    "import numpy as np\n",
    "import textwrap\n",
    "import ast"
   ]
  },
  {
   "cell_type": "code",
   "execution_count": 5,
   "metadata": {},
   "outputs": [
    {
     "data": {
      "text/plain": [
       "Index(['title', 'company', 'job_type', 'is_remote', 'description', 'address',\n",
       "       'cleaned_address', 'lat_long', 'model_response', 'id', 'job_url',\n",
       "       'job_url_direct'],\n",
       "      dtype='object')"
      ]
     },
     "execution_count": 5,
     "metadata": {},
     "output_type": "execute_result"
    }
   ],
   "source": [
    "df = pd.read_csv('../6. dataframe_mergeTest/6.2.merged_back_columns.csv')\n",
    "df.columns"
   ]
  },
  {
   "cell_type": "code",
   "execution_count": 6,
   "metadata": {},
   "outputs": [],
   "source": [
    "# Remove all spaces and ensure the comma is the only separator\n",
    "df['job_type_cleaned'] = df['job_type'].str.replace(r'\\s+', '', regex=True)"
   ]
  },
  {
   "cell_type": "code",
   "execution_count": 7,
   "metadata": {},
   "outputs": [
    {
     "data": {
      "text/plain": [
       "job_type\n",
       "fulltime                                               23274\n",
       "fulltime, contract                                      1135\n",
       "parttime, fulltime                                       560\n",
       "fulltime, internship                                     215\n",
       "fulltime, temporary                                      124\n",
       "parttime, fulltime, contract                              92\n",
       "parttime, fulltime, internship                            55\n",
       "fulltime, temporary, contract                             35\n",
       "parttime, fulltime, temporary, contract                   35\n",
       "parttime, fulltime, temporary, contract, internship       27\n",
       "parttime, fulltime, contract, internship                  23\n",
       "parttime, fulltime, temporary                             13\n",
       "fulltime, contract, internship                            11\n",
       "parttime, fulltime, temporary, internship                  8\n",
       "fulltime, temporary, internship                            2\n",
       "fulltime, temporary, contract, internship                  1\n",
       "Name: count, dtype: int64"
      ]
     },
     "execution_count": 7,
     "metadata": {},
     "output_type": "execute_result"
    }
   ],
   "source": [
    "df['job_type'].value_counts()"
   ]
  },
  {
   "cell_type": "code",
   "execution_count": 8,
   "metadata": {},
   "outputs": [
    {
     "data": {
      "text/plain": [
       "job_type_cleaned\n",
       "fulltime                                           23274\n",
       "fulltime,contract                                   1135\n",
       "parttime,fulltime                                    560\n",
       "fulltime,internship                                  215\n",
       "fulltime,temporary                                   124\n",
       "parttime,fulltime,contract                            92\n",
       "parttime,fulltime,internship                          55\n",
       "fulltime,temporary,contract                           35\n",
       "parttime,fulltime,temporary,contract                  35\n",
       "parttime,fulltime,temporary,contract,internship       27\n",
       "parttime,fulltime,contract,internship                 23\n",
       "parttime,fulltime,temporary                           13\n",
       "fulltime,contract,internship                          11\n",
       "parttime,fulltime,temporary,internship                 8\n",
       "fulltime,temporary,internship                          2\n",
       "fulltime,temporary,contract,internship                 1\n",
       "Name: count, dtype: int64"
      ]
     },
     "execution_count": 8,
     "metadata": {},
     "output_type": "execute_result"
    }
   ],
   "source": [
    "df['job_type_cleaned'].value_counts()"
   ]
  },
  {
   "cell_type": "code",
   "execution_count": 9,
   "metadata": {},
   "outputs": [],
   "source": [
    "# Multi-hot Encode the 'job_type' column\n",
    "mlb = MultiLabelBinarizer()\n",
    "df['job_type_encoded'] = mlb.fit_transform(df['job_type_cleaned'].str.split(',')).tolist()"
   ]
  },
  {
   "cell_type": "code",
   "execution_count": 10,
   "metadata": {},
   "outputs": [
    {
     "name": "stdout",
     "output_type": "stream",
     "text": [
      "Classes: ['contract' 'fulltime' 'internship' 'parttime' 'temporary']\n"
     ]
    },
    {
     "data": {
      "text/plain": [
       "job_type_encoded\n",
       "[0, 1, 0, 0, 0]    23274\n",
       "[1, 1, 0, 0, 0]     1135\n",
       "[0, 1, 0, 1, 0]      560\n",
       "[0, 1, 1, 0, 0]      215\n",
       "[0, 1, 0, 0, 1]      124\n",
       "[1, 1, 0, 1, 0]       92\n",
       "[0, 1, 1, 1, 0]       55\n",
       "[1, 1, 0, 0, 1]       35\n",
       "[1, 1, 0, 1, 1]       35\n",
       "[1, 1, 1, 1, 1]       27\n",
       "[1, 1, 1, 1, 0]       23\n",
       "[0, 1, 0, 1, 1]       13\n",
       "[1, 1, 1, 0, 0]       11\n",
       "[0, 1, 1, 1, 1]        8\n",
       "[0, 1, 1, 0, 1]        2\n",
       "[1, 1, 1, 0, 1]        1\n",
       "Name: count, dtype: int64"
      ]
     },
     "execution_count": 10,
     "metadata": {},
     "output_type": "execute_result"
    }
   ],
   "source": [
    "# Show the resulting encoded column and the associated class labels\n",
    "print(\"Classes:\", mlb.classes_)  # This shows the sorted order of the job types\n",
    "\n",
    "df['job_type_encoded'].value_counts()"
   ]
  },
  {
   "cell_type": "code",
   "execution_count": 11,
   "metadata": {},
   "outputs": [],
   "source": [
    "# Mean Pooling - Takes attention mask into account for correct averaging\n",
    "def job_title_mean_pooling(model_output, attention_mask):\n",
    "    token_embeddings = model_output[0]  # First element of model_output contains all token embeddings\n",
    "    input_mask_expanded = attention_mask.unsqueeze(-1).expand(token_embeddings.size()).float()\n",
    "    return torch.sum(token_embeddings * input_mask_expanded, 1) / torch.clamp(input_mask_expanded.sum(1), min=1e-9)\n",
    "\n",
    "# Function to get embeddings for a batch of job titles\n",
    "def get_job_title_embeddings(job_titles, tokenizer, model, batch_size=32, device='cpu'):\n",
    "    embeddings = []\n",
    "    \n",
    "    for i in range(0, len(job_titles), batch_size):\n",
    "        batch_titles = job_titles[i:i + batch_size]\n",
    "        \n",
    "        # Tokenize the job titles\n",
    "        encoded_input = tokenizer(batch_titles, padding=True, truncation=True, return_tensors='pt').to(device)\n",
    "        \n",
    "        # Compute token embeddings\n",
    "        with torch.no_grad():\n",
    "            model_output = model(**encoded_input)\n",
    "        \n",
    "        # Perform mean pooling\n",
    "        sentence_embeddings = job_title_mean_pooling(model_output, encoded_input['attention_mask'])\n",
    "        \n",
    "        # Normalize the embeddings\n",
    "        sentence_embeddings = F.normalize(sentence_embeddings, p=2, dim=1)\n",
    "        \n",
    "        # Append to list\n",
    "        embeddings.append(sentence_embeddings.cpu().numpy())\n",
    "    \n",
    "    # Return embeddings as a numpy array\n",
    "    return np.vstack(embeddings)"
   ]
  },
  {
   "cell_type": "code",
   "execution_count": 12,
   "metadata": {},
   "outputs": [],
   "source": [
    "# Mean Pooling - Takes attention mask into account for correct averaging\n",
    "def job_description_mean_pooling(model_output, attention_mask):\n",
    "    token_embeddings = model_output[0]  # First element of model_output contains all token embeddings\n",
    "    input_mask_expanded = attention_mask.unsqueeze(-1).expand(token_embeddings.size()).float()\n",
    "    return torch.sum(token_embeddings * input_mask_expanded, 1) / torch.clamp(input_mask_expanded.sum(1), min=1e-9)\n",
    "\n",
    "# Function to process long job descriptions by splitting into overlapping chunks of text\n",
    "def get_job_description_embedding(job_description, tokenizer, model, max_chunk_length=512, overlap=50, device='cpu'):\n",
    "    # Split the raw text into chunks, ensuring no chunk exceeds max_chunk_length\n",
    "    tokens_per_chunk = max_chunk_length - 2  # Leave space for special tokens\n",
    "    words = job_description.split()\n",
    "    \n",
    "    # Create overlapping text chunks\n",
    "    chunks = [' '.join(words[i:i+tokens_per_chunk]) for i in range(0, len(words), tokens_per_chunk - overlap)]\n",
    "    \n",
    "    embeddings = []\n",
    "    for chunk in chunks:\n",
    "        # Tokenize the chunk (now we're passing the raw text directly)\n",
    "        encoded_input = tokenizer(chunk, return_tensors='pt', padding=True, truncation=True, max_length=max_chunk_length).to(device)\n",
    "        \n",
    "        # Compute token embeddings\n",
    "        with torch.no_grad():\n",
    "            model_output = model(**encoded_input)\n",
    "        \n",
    "        # Perform mean pooling\n",
    "        sentence_embedding = job_description_mean_pooling(model_output, encoded_input['attention_mask'])\n",
    "        \n",
    "        # Normalize the embedding\n",
    "        sentence_embedding = F.normalize(sentence_embedding, p=2, dim=1)\n",
    "        \n",
    "        # Append the chunk embedding\n",
    "        embeddings.append(sentence_embedding.cpu().numpy())\n",
    "\n",
    "    # Average embeddings from all chunks to get a single embedding\n",
    "    if embeddings:\n",
    "        return np.mean(embeddings, axis=0).squeeze()\n",
    "    else:\n",
    "        return np.zeros((384,))  # Return a zero vector if no chunks were processed"
   ]
  },
  {
   "cell_type": "code",
   "execution_count": 13,
   "metadata": {},
   "outputs": [
    {
     "data": {
      "application/vnd.jupyter.widget-view+json": {
       "model_id": "22a9be8b71ba4799852afd741f794f07",
       "version_major": 2,
       "version_minor": 0
      },
      "text/plain": [
       "tokenizer_config.json:   0%|          | 0.00/352 [00:00<?, ?B/s]"
      ]
     },
     "metadata": {},
     "output_type": "display_data"
    },
    {
     "name": "stderr",
     "output_type": "stream",
     "text": [
      "c:\\Users\\Brandon\\anaconda3\\envs\\graph\\lib\\site-packages\\huggingface_hub\\file_download.py:139: UserWarning: `huggingface_hub` cache-system uses symlinks by default to efficiently store duplicated files but your machine does not support them in C:\\Users\\Brandon\\.cache\\huggingface\\hub\\models--sentence-transformers--all-MiniLM-L12-v2. Caching files will still work but in a degraded version that might require more space on your disk. This warning can be disabled by setting the `HF_HUB_DISABLE_SYMLINKS_WARNING` environment variable. For more details, see https://huggingface.co/docs/huggingface_hub/how-to-cache#limitations.\n",
      "To support symlinks on Windows, you either need to activate Developer Mode or to run Python as an administrator. In order to activate developer mode, see this article: https://docs.microsoft.com/en-us/windows/apps/get-started/enable-your-device-for-development\n",
      "  warnings.warn(message)\n"
     ]
    },
    {
     "data": {
      "application/vnd.jupyter.widget-view+json": {
       "model_id": "1346c4a5e78949ef97ce4a7b7f9842ec",
       "version_major": 2,
       "version_minor": 0
      },
      "text/plain": [
       "vocab.txt:   0%|          | 0.00/232k [00:00<?, ?B/s]"
      ]
     },
     "metadata": {},
     "output_type": "display_data"
    },
    {
     "data": {
      "application/vnd.jupyter.widget-view+json": {
       "model_id": "92b6f50ec6b84e55adff7118baa5c689",
       "version_major": 2,
       "version_minor": 0
      },
      "text/plain": [
       "tokenizer.json:   0%|          | 0.00/466k [00:00<?, ?B/s]"
      ]
     },
     "metadata": {},
     "output_type": "display_data"
    },
    {
     "data": {
      "application/vnd.jupyter.widget-view+json": {
       "model_id": "f19314cd4ec848cfbdcb9c6117145905",
       "version_major": 2,
       "version_minor": 0
      },
      "text/plain": [
       "special_tokens_map.json:   0%|          | 0.00/112 [00:00<?, ?B/s]"
      ]
     },
     "metadata": {},
     "output_type": "display_data"
    },
    {
     "data": {
      "application/vnd.jupyter.widget-view+json": {
       "model_id": "862805696bcf4927b28d65fb5369d3dd",
       "version_major": 2,
       "version_minor": 0
      },
      "text/plain": [
       "config.json:   0%|          | 0.00/615 [00:00<?, ?B/s]"
      ]
     },
     "metadata": {},
     "output_type": "display_data"
    },
    {
     "data": {
      "application/vnd.jupyter.widget-view+json": {
       "model_id": "6ae99ce13af0418e8bd4550e9fc778e1",
       "version_major": 2,
       "version_minor": 0
      },
      "text/plain": [
       "model.safetensors:   0%|          | 0.00/133M [00:00<?, ?B/s]"
      ]
     },
     "metadata": {},
     "output_type": "display_data"
    }
   ],
   "source": [
    "# Load tokenizer and model from Hugging Face Hub\n",
    "tokenizer = AutoTokenizer.from_pretrained('sentence-transformers/all-MiniLM-L12-v2')\n",
    "model = AutoModel.from_pretrained('sentence-transformers/all-MiniLM-L12-v2')\n",
    "\n",
    "# If GPU is available, move model to GPU\n",
    "device = 'cuda' if torch.cuda.is_available() else 'cpu'\n",
    "model = model.to(device)"
   ]
  },
  {
   "cell_type": "code",
   "execution_count": 18,
   "metadata": {},
   "outputs": [
    {
     "data": {
      "text/plain": [
       "array([ 3.64928544e-02,  2.29546651e-02,  3.82401571e-02,  5.92471026e-02,\n",
       "        3.19772027e-02, -6.18717307e-03,  3.27850059e-02, -6.14954121e-02,\n",
       "       -1.28817067e-01, -4.45765331e-02, -5.05791977e-02, -5.56147993e-02,\n",
       "        2.96713077e-02,  8.55619982e-02,  1.90957617e-02, -8.26452579e-03,\n",
       "        5.82200028e-02,  4.13926458e-03,  1.40653206e-02, -5.58966063e-02,\n",
       "       -6.61553293e-02,  9.95611306e-03, -1.86332017e-02, -3.74281406e-02,\n",
       "        4.05047312e-02, -6.35395125e-02,  3.65796238e-02,  3.72376405e-02,\n",
       "       -1.64702814e-02, -3.22364718e-02, -1.13707585e-02,  2.36477423e-02,\n",
       "        3.58835571e-02,  3.01380996e-02,  4.37186398e-02,  1.93368807e-01,\n",
       "       -6.82446174e-03, -2.14293078e-02,  4.82111610e-02, -1.58358272e-02,\n",
       "        5.83657362e-02,  1.59103926e-02,  4.95204004e-03, -8.03317595e-03,\n",
       "        2.07290146e-02, -4.72191907e-02,  7.50665143e-02,  3.16392351e-03,\n",
       "       -4.35716435e-02,  1.74822304e-02, -4.49199528e-02, -2.56875511e-02,\n",
       "        6.68603182e-02, -4.87775430e-02, -2.70033702e-02, -9.13284421e-02,\n",
       "        1.07634095e-02, -9.88661051e-02, -5.99086918e-02, -7.83258155e-02,\n",
       "        1.15558468e-02, -2.25886758e-02,  5.60818333e-03,  7.54998066e-03,\n",
       "        3.44080036e-03,  5.64387478e-02, -1.29369304e-01, -1.06958859e-02,\n",
       "       -1.75501164e-02, -8.95912647e-02, -8.04907829e-02, -2.59433687e-02,\n",
       "       -6.10160045e-02,  6.23396598e-02,  1.02001410e-02,  8.81079305e-03,\n",
       "       -3.42469923e-02, -4.86409012e-03,  1.39151365e-02, -2.97677852e-02,\n",
       "       -1.29658794e-02, -2.42109178e-03,  7.54315872e-03,  1.68106537e-02,\n",
       "        1.41748982e-02,  1.70530230e-02, -4.82148454e-02, -1.95256490e-02,\n",
       "        2.28091180e-02,  2.42336318e-02,  7.22049996e-02, -7.29160979e-02,\n",
       "       -3.36161293e-02, -8.33360702e-02,  6.80711074e-03, -3.38155106e-02,\n",
       "       -6.82516173e-02,  6.90144778e-04,  6.00614883e-02, -1.24831470e-02,\n",
       "        6.18970580e-02,  8.41215476e-02,  1.38690293e-01,  1.56089934e-02,\n",
       "       -1.10535376e-01,  6.12647794e-02,  3.51449847e-02, -6.25724569e-02,\n",
       "        3.29796895e-02, -5.68579789e-03, -7.80197084e-02,  4.24728096e-02,\n",
       "       -3.70895267e-02, -4.01840135e-02,  1.00729773e-02,  1.97940674e-02,\n",
       "       -6.78629279e-02,  1.30778477e-01, -4.14995924e-02, -3.22848707e-02,\n",
       "        5.49642704e-02,  5.31237945e-02,  3.16418484e-02,  2.10385136e-02,\n",
       "        6.54016435e-03, -6.96910396e-02,  6.28945380e-02, -6.07657526e-03,\n",
       "       -1.48391232e-01,  8.98125768e-02, -2.53445487e-02,  1.12730823e-01,\n",
       "        6.01800755e-02,  5.23854159e-02, -1.12736613e-01, -7.09913000e-02,\n",
       "        5.45689203e-02,  1.15667796e-02, -5.38522042e-02, -5.38914092e-03,\n",
       "       -5.76464226e-03, -2.02087164e-02, -6.56955969e-03,  1.22802723e-02,\n",
       "        2.34057419e-02, -3.96360569e-02, -3.88765223e-02, -1.53655792e-03,\n",
       "        4.49452214e-02, -4.57917303e-02, -4.52247635e-02, -7.50974845e-03,\n",
       "        6.23245835e-02,  3.27010415e-02,  6.29530698e-02,  4.13270853e-02,\n",
       "        6.43879771e-02, -2.00352240e-02, -3.45363170e-02,  3.44446115e-02,\n",
       "        6.05411828e-02, -2.34602820e-02, -2.64252853e-02,  9.62501857e-03,\n",
       "       -9.61338729e-03, -2.37670988e-02, -1.65019892e-02, -1.17089758e-02,\n",
       "       -1.64644971e-01, -7.34917074e-02, -1.74166020e-02,  6.02889694e-02,\n",
       "       -2.86653712e-02, -3.82752791e-02,  6.87135756e-02, -2.59679705e-02,\n",
       "        5.02222702e-02,  9.06425640e-02,  2.28762086e-02, -6.75605386e-02,\n",
       "        1.93421654e-02, -2.23511476e-02,  3.56821939e-02,  6.76594255e-03,\n",
       "        5.84258549e-02,  3.96697931e-02, -3.43459435e-02, -1.00821331e-01,\n",
       "        1.71071529e-01, -4.93320562e-02,  2.82839909e-02, -2.45172661e-02,\n",
       "        1.61495730e-02, -3.61048914e-02,  3.34983952e-02,  1.11077055e-02,\n",
       "        6.40031770e-02, -8.25286955e-02,  1.04260882e-02,  3.66790071e-02,\n",
       "       -7.29327789e-03,  9.61335003e-02, -6.72337264e-02,  5.13937734e-02,\n",
       "        4.04797941e-02, -3.36193107e-03,  8.61158147e-02,  1.75328851e-02,\n",
       "        3.03469580e-02,  8.86671394e-02,  6.34275153e-02, -1.32156885e-03,\n",
       "        4.13285829e-02, -3.76426391e-02,  6.17200881e-02,  6.70840964e-02,\n",
       "        6.31245226e-02,  3.00780050e-02, -5.32123027e-03, -3.69142741e-02,\n",
       "        1.93397775e-02,  6.02114536e-02, -2.14995574e-02, -1.16061127e-32,\n",
       "       -4.95273359e-02,  1.71222612e-02,  5.54801151e-02, -1.84570979e-02,\n",
       "       -3.62529978e-02, -2.96389125e-02, -1.54816462e-02, -8.68446305e-02,\n",
       "        4.06958722e-02, -1.30058583e-02, -9.44467112e-02,  2.83839740e-02,\n",
       "       -1.59223005e-02, -2.11985176e-03,  5.55225536e-02, -1.21888518e-01,\n",
       "        5.57366237e-02,  7.16061797e-03, -1.15423664e-01, -1.76542960e-02,\n",
       "        9.34635326e-02,  7.14069828e-02, -2.23153159e-02, -1.87193491e-02,\n",
       "       -9.29075032e-02,  2.96504013e-02, -1.68310069e-02, -3.98974977e-02,\n",
       "       -3.84935737e-02, -4.93126959e-02, -2.76999325e-02, -2.57869698e-02,\n",
       "       -3.27163972e-02, -2.75224578e-02,  5.80830835e-02,  1.00572007e-02,\n",
       "        5.64522250e-03,  2.66729835e-02, -5.77755868e-02, -1.67610180e-02,\n",
       "        1.60814207e-02, -2.81225098e-03, -3.22770774e-02, -2.84356996e-02,\n",
       "        6.31919280e-02, -7.33917058e-02,  4.23769690e-02, -1.00894667e-01,\n",
       "       -1.54606560e-02, -8.48046020e-02, -2.68904921e-02, -1.26974229e-02,\n",
       "       -7.34603107e-02, -1.35742407e-02, -3.49266380e-02,  4.59280722e-02,\n",
       "        4.18779887e-02, -4.13558148e-02,  2.18268130e-02, -3.63962054e-02,\n",
       "        4.96744327e-02, -3.44252735e-02,  4.97264415e-02, -1.52844423e-02,\n",
       "       -6.74610659e-02, -9.87097099e-02, -5.27925156e-02,  3.16803753e-02,\n",
       "       -8.95500630e-02,  1.54678645e-02,  1.73337050e-02, -3.60344462e-02,\n",
       "        4.93597388e-02,  2.65982114e-02, -5.19319475e-02, -3.37503701e-02,\n",
       "        4.41258447e-03,  2.00672746e-02, -4.15402278e-03, -1.22447126e-02,\n",
       "       -3.17830816e-02, -4.36532088e-02,  2.23930879e-03, -2.98080072e-02,\n",
       "       -4.56473120e-02,  8.60313792e-03,  4.11872230e-02,  9.13626514e-03,\n",
       "       -1.81087498e-02, -1.24064898e-02,  4.36432511e-02,  2.16045510e-02,\n",
       "        4.20758734e-03, -4.75653773e-03,  1.24478817e-03,  9.36472092e-32,\n",
       "       -4.37908359e-02,  1.07480325e-02, -5.94223626e-02, -3.13284877e-03,\n",
       "       -1.41394930e-02, -2.00673137e-02, -9.88597143e-03, -2.00346764e-03,\n",
       "       -2.87625622e-02,  3.86763439e-02,  3.08286790e-02,  1.27823092e-02,\n",
       "        3.54033075e-02, -7.09906071e-02, -7.93242361e-03,  3.61390263e-02,\n",
       "        1.89688653e-02,  9.25001949e-02, -5.20271659e-02, -8.51631984e-02,\n",
       "        7.02932850e-03, -1.50114717e-02, -2.25839838e-02,  4.46380675e-02,\n",
       "       -1.40275676e-02,  5.67730740e-02, -8.89825970e-02, -3.60949785e-02,\n",
       "        3.07005830e-02,  9.39799473e-02, -8.93647894e-02,  2.87467819e-02,\n",
       "       -4.57284600e-03, -4.70306017e-02, -2.74040755e-02,  7.20319629e-04,\n",
       "        9.18206945e-02,  4.31668386e-02, -6.51820824e-02,  4.40399628e-04,\n",
       "       -4.51262109e-02,  8.56586173e-02, -7.44710863e-02, -5.77205941e-02,\n",
       "       -1.45431766e-02, -3.22530381e-02, -6.63036183e-02,  3.98493595e-02,\n",
       "       -5.04956394e-02, -2.29618093e-03,  2.50373706e-02, -2.22002994e-02,\n",
       "        5.06313853e-02,  4.98431958e-02,  4.30674367e-02,  4.76892516e-02,\n",
       "       -2.35399865e-02, -6.03665635e-02,  9.88124758e-02,  2.78188828e-02,\n",
       "       -4.61105779e-02,  7.28295126e-05,  1.41029228e-02, -9.62653533e-02],\n",
       "      dtype=float32)"
      ]
     },
     "execution_count": 18,
     "metadata": {},
     "output_type": "execute_result"
    }
   ],
   "source": [
    "# Process job titles in batches\n",
    "job_titles = df['title'].tolist()\n",
    "embeddings = get_job_title_embeddings(job_titles, tokenizer, model, batch_size=256, device=device)\n",
    "\n",
    "# Assign the embeddings to the dataframe as a list for each row\n",
    "df['job_title_embedding'] = [embedding for embedding in embeddings]\n",
    "\n",
    "# Process job descriptions with overlapping chunks\n",
    "df['job_description_embedding'] = df['model_response'].apply(\n",
    "    get_job_description_embedding, \n",
    "    tokenizer=tokenizer, \n",
    "    model=model, \n",
    "    max_chunk_length=512,  # Model's max token length\n",
    "    overlap=50,            # Amount of token overlap between chunks\n",
    "    device=device\n",
    ")\n",
    "\n",
    "df['job_description_embedding'][0]"
   ]
  },
  {
   "cell_type": "code",
   "execution_count": 21,
   "metadata": {},
   "outputs": [
    {
     "data": {
      "text/plain": [
       "numpy.ndarray"
      ]
     },
     "execution_count": 21,
     "metadata": {},
     "output_type": "execute_result"
    }
   ],
   "source": [
    "type(df['job_description_embedding'][0])\n"
   ]
  },
  {
   "cell_type": "code",
   "execution_count": 22,
   "metadata": {},
   "outputs": [],
   "source": [
    "# Convert lat_long from string to tuple and verify embeddings are arrays\n",
    "df['lat_long'] = df['lat_long'].apply(ast.literal_eval)\n",
    "df['job_title_embedding'] = df['job_title_embedding'].apply(np.array)\n",
    "df['job_description_embedding'] = df['job_description_embedding'].apply(np.array)\n",
    "\n",
    "# Verify data types\n",
    "assert all(isinstance(x, tuple) for x in df['lat_long'])\n",
    "assert all(isinstance(x, np.ndarray) for x in df['job_title_embedding']) \n",
    "assert all(isinstance(x, np.ndarray) for x in df['job_description_embedding'])\n",
    "\n",
    "# Save as pickle file\n",
    "df.to_pickle('final_graph_model_training.pkl')"
   ]
  },
  {
   "cell_type": "markdown",
   "metadata": {},
   "source": [
    "# Start here if final_graph_model_training.csv exists"
   ]
  },
  {
   "cell_type": "code",
   "execution_count": 1,
   "metadata": {},
   "outputs": [
    {
     "name": "stdout",
     "output_type": "stream",
     "text": [
      "\n",
      "Dataframe column dtypes:\n",
      "title                        object\n",
      "company                      object\n",
      "job_type                     object\n",
      "is_remote                      bool\n",
      "description                  object\n",
      "address                      object\n",
      "cleaned_address              object\n",
      "lat_long                     object\n",
      "model_response               object\n",
      "id                           object\n",
      "job_url                      object\n",
      "job_url_direct               object\n",
      "job_type_cleaned             object\n",
      "job_type_encoded             object\n",
      "job_title_embedding          object\n",
      "job_description_embedding    object\n",
      "dtype: object\n",
      "\n",
      "Sample checks:\n",
      "lat_long type: <class 'tuple'>\n",
      "job_title_embedding type: <class 'numpy.ndarray'>\n",
      "job_description_embedding type: <class 'numpy.ndarray'>\n"
     ]
    }
   ],
   "source": [
    "# Load the pickled dataframe and check column dtypes\n",
    "import pandas as pd\n",
    "import numpy as np\n",
    "\n",
    "df_ready = pd.read_pickle('final_graph_model_training.pkl')\n",
    "print(\"\\nDataframe column dtypes:\")\n",
    "print(df_ready.dtypes)\n",
    "\n",
    "# Verify key columns have expected types\n",
    "print(\"\\nSample checks:\")\n",
    "print(f\"lat_long type: {type(df_ready['lat_long'].iloc[0])}\")\n",
    "print(f\"job_title_embedding type: {type(df_ready['job_title_embedding'].iloc[0])}\")\n",
    "print(f\"job_description_embedding type: {type(df_ready['job_description_embedding'].iloc[0])}\")"
   ]
  },
  {
   "cell_type": "code",
   "execution_count": 2,
   "metadata": {},
   "outputs": [],
   "source": [
    "# Cell 2: Helper Functions\n",
    "\n",
    "import networkx as nx\n",
    "import numpy as np\n",
    "from sklearn.metrics.pairwise import cosine_similarity\n",
    "from geopy.distance import geodesic\n",
    "from tqdm import tqdm\n",
    "import multiprocessing as mp\n",
    "from itertools import combinations\n",
    "import time\n",
    "import torch\n",
    "import pickle\n",
    "from annoy import AnnoyIndex\n",
    "from scipy.spatial import cKDTree\n",
    "import faiss\n",
    "from sklearn.cluster import KMeans\n",
    "import cupy as cp\n",
    "\n",
    "def calculate_total_potential_edges(df_ready):\n",
    "    \"\"\"\n",
    "    Calculate the total number of potential edges in a complete graph.\n",
    "    \n",
    "    Args:\n",
    "        df_ready (pd.DataFrame): Input dataframe\n",
    "        \n",
    "    Returns:\n",
    "        int: Total number of potential edges\n",
    "    \"\"\"\n",
    "    n = len(df_ready)\n",
    "    return (n * (n-1)) // 2\n",
    "\n",
    "def save_graph_checkpoint(graph, filename):\n",
    "    \"\"\"\n",
    "    Save the graph to a pickle file checkpoint.\n",
    "    \n",
    "    Args:\n",
    "        graph (nx.Graph): Graph to save\n",
    "        filename (str): Path to save the checkpoint\n",
    "    \"\"\"\n",
    "    with open(filename, 'wb') as f:\n",
    "        pickle.dump(graph, f)\n",
    "    print(f\"Saved checkpoint: {filename}\")\n",
    "\n",
    "def load_graph_checkpoint(filename):\n",
    "    \"\"\"\n",
    "    Load a graph checkpoint from a pickle file.\n",
    "    \n",
    "    Args:\n",
    "        filename (str): Path to the checkpoint file\n",
    "        \n",
    "    Returns:\n",
    "        nx.Graph: Loaded graph\n",
    "    \"\"\"\n",
    "    with open(filename, 'rb') as f:\n",
    "        graph = pickle.load(f)\n",
    "    return graph\n",
    "    \n",
    "def initialize_graph(df_ready):\n",
    "    \"\"\"\n",
    "    Initialize graph and add nodes with their attributes.\n",
    "    \n",
    "    Args:\n",
    "        df_ready (pd.DataFrame): Input dataframe with job data\n",
    "        \n",
    "    Returns:\n",
    "        nx.Graph: Graph with nodes added\n",
    "    \"\"\"\n",
    "    print(\"Initializing graph and adding nodes...\")\n",
    "    graph = nx.Graph()\n",
    "    \n",
    "    for idx, row in tqdm(df_ready.iterrows(), total=len(df_ready), desc=\"Adding nodes\"):\n",
    "        # Only add essential attributes needed for graph construction\n",
    "        graph.add_node(\n",
    "            f\"job_{idx}\",\n",
    "            job_title_embedding=row['job_title_embedding'],\n",
    "            job_description_embedding=row['job_description_embedding'],\n",
    "            company=row['company'],\n",
    "            job_type_encoding=row['job_type_encoded'],\n",
    "            is_remote=row['is_remote'],\n",
    "            lat_long=row['lat_long']\n",
    "        )\n",
    "    \n",
    "    save_graph_checkpoint(graph, 'graph_with_nodes.pkl')\n",
    "    return graph\n",
    "\n",
    "def create_company_edges(df_ready, graph):\n",
    "    \"\"\"\n",
    "    Create edges between jobs from the same company.\n",
    "    \n",
    "    Args:\n",
    "        df_ready (pd.DataFrame): Input dataframe with job data\n",
    "        graph (nx.Graph): Graph to add edges to\n",
    "        \n",
    "    Returns:\n",
    "        nx.Graph: Graph with company edges added\n",
    "    \"\"\"\n",
    "    print(\"Creating edges between jobs from the same company...\")\n",
    "    company_groups = df_ready.groupby('company').groups\n",
    "    \n",
    "    total_company_edges = sum(len(indices) * (len(indices) - 1) // 2 \n",
    "                            for indices in company_groups.values())\n",
    "    \n",
    "    pbar = tqdm(total=total_company_edges, desc=\"Company edges\")\n",
    "    edge_count = 0\n",
    "    \n",
    "    for company, indices in company_groups.items():\n",
    "        if len(indices) > 1:\n",
    "            for idx1, idx2 in combinations(indices, 2):\n",
    "                graph.add_edge(f\"job_{idx1}\", f\"job_{idx2}\", \n",
    "                             type=\"same_company\")\n",
    "                edge_count += 1\n",
    "                pbar.update(1)\n",
    "    \n",
    "    pbar.close()\n",
    "    print(f\"Added {edge_count} company edges\")\n",
    "    save_graph_checkpoint(graph, 'graph_with_company_edges.pkl')\n",
    "    return graph\n",
    "\n",
    "def create_job_type_edges(df_ready, graph, threshold=0.5, n_trees=10, k=10):\n",
    "    \"\"\"\n",
    "    Create edges between jobs with similar job types using Jaccard similarity.\n",
    "    \n",
    "    Args:\n",
    "        df_ready (pd.DataFrame): Input dataframe with job data\n",
    "        graph (nx.Graph): Graph to add edges to\n",
    "        threshold (float): Minimum similarity threshold for creating edges\n",
    "        n_trees (int): Number of trees for Annoy index\n",
    "        k (int): Number of nearest neighbors to search for (reduced from default)\n",
    "        \n",
    "    Returns:\n",
    "        nx.Graph: Graph with job type similarity edges added\n",
    "    \"\"\"\n",
    "    print(f\"Creating edges between jobs with similar job types (threshold={threshold})...\")\n",
    "    \n",
    "    job_types = np.array(df_ready['job_type_encoded'].tolist())\n",
    "    n_jobs = len(job_types)\n",
    "    edge_count = 0\n",
    "\n",
    "    index = AnnoyIndex(job_types.shape[1], 'hamming')\n",
    "    \n",
    "    for i in tqdm(range(n_jobs), desc=\"Building index\"):\n",
    "        index.add_item(i, job_types[i])\n",
    "    \n",
    "    index.build(n_trees)\n",
    "    \n",
    "    for i in tqdm(range(n_jobs), desc=\"Finding similar jobs\"):\n",
    "        similar_indices = index.get_nns_by_item(i, k)  # Reduced k for better performance\n",
    "        \n",
    "        for j in similar_indices:\n",
    "            if j > i:\n",
    "                intersection = np.sum(np.logical_and(job_types[i], job_types[j]))\n",
    "                union = np.sum(np.logical_or(job_types[i], job_types[j]))\n",
    "                similarity = intersection / union if union > 0 else 0\n",
    "                \n",
    "                if similarity > threshold:\n",
    "                    graph.add_edge(f\"job_{i}\", f\"job_{j}\",\n",
    "                                type=\"job_type_similarity\",\n",
    "                                weight=float(similarity))\n",
    "                    edge_count += 1\n",
    "    \n",
    "    print(f\"Added {edge_count} job type similarity edges\")\n",
    "    save_graph_checkpoint(graph, 'graph_with_job_type_edges.pkl')\n",
    "    return graph\n",
    "\n",
    "def create_location_edges(df_ready, graph, max_distance=3, min_weight=0.4, chunk_size=500, sigma=1.5):\n",
    "    \"\"\"\n",
    "    Create edges between jobs within geographical proximity using Gaussian decay.\n",
    "    Optimized for Singapore's scale.\n",
    "    \n",
    "    Args:\n",
    "        df_ready (pd.DataFrame): Input dataframe with job data\n",
    "        graph (nx.Graph): Graph to add edges to\n",
    "        max_distance (float): Maximum distance in km (3km default for Singapore's context)\n",
    "        min_weight (float): Minimum weight threshold for creating edges\n",
    "        chunk_size (int): Size of chunks for processing\n",
    "        sigma (float): Standard deviation for Gaussian decay (1.5km default)\n",
    "    \"\"\"\n",
    "    print(f\"Creating edges between jobs within {max_distance}km of each other...\")\n",
    "    print(f\"Using minimum weight threshold of {min_weight}\")\n",
    "    edge_count = 0\n",
    "\n",
    "    # Extract coordinates\n",
    "    lat_longs = []\n",
    "    valid_indices = []\n",
    "    \n",
    "    for idx in tqdm(range(len(df_ready)), desc=\"Extracting coordinates\"):\n",
    "        lat_long = df_ready.iloc[idx]['lat_long']  # Already in tuple format\n",
    "        if lat_long is not None:\n",
    "            lat_longs.append(lat_long)\n",
    "            valid_indices.append(idx)\n",
    "    \n",
    "    print(f\"Processing {len(valid_indices)} locations\")\n",
    "    \n",
    "    lat_longs = cp.array(lat_longs)\n",
    "    n_points = len(lat_longs)\n",
    "    \n",
    "    # Build KD-tree for efficient spatial querying\n",
    "    tree = cKDTree(cp.asnumpy(lat_longs))\n",
    "    \n",
    "    # Process in chunks\n",
    "    for i in tqdm(list(range(0, n_points, chunk_size)), desc=\"Processing location proximity\"):\n",
    "        chunk_end = min(i + chunk_size, n_points)\n",
    "        chunk_points = lat_longs[i:chunk_end]\n",
    "        \n",
    "        # Find nearby points within max_distance\n",
    "        chunk_points_cpu = cp.asnumpy(chunk_points)\n",
    "        nearby_points = tree.query_ball_point(chunk_points_cpu, max_distance/111.32)\n",
    "        \n",
    "        for j, neighbors in enumerate(nearby_points):\n",
    "            if not neighbors:\n",
    "                continue\n",
    "                \n",
    "            point1 = chunk_points[j]\n",
    "            points2 = lat_longs[neighbors]\n",
    "            \n",
    "            # Calculate distances using haversine formula\n",
    "            lat1, lon1 = point1[0], point1[1]\n",
    "            lat2, lon2 = points2[:, 0], points2[:, 1]\n",
    "            \n",
    "            dlat = cp.radians(lat2 - lat1)\n",
    "            dlon = cp.radians(lon2 - lon1)\n",
    "            lat1, lat2 = cp.radians(lat1), cp.radians(lat2)\n",
    "            \n",
    "            a = cp.sin(dlat/2)**2 + cp.cos(lat1) * cp.cos(lat2) * cp.sin(dlon/2)**2\n",
    "            distances = 2 * 6371 * cp.arcsin(cp.sqrt(a))  # Earth radius in km\n",
    "            \n",
    "            # Calculate weights with Gaussian decay\n",
    "            weights = cp.exp(-(distances**2)/(2*sigma**2))\n",
    "            \n",
    "            # Apply distance and weight thresholds\n",
    "            weights = cp.where((distances <= max_distance) & (weights >= min_weight), weights, 0)\n",
    "            \n",
    "            weights_cpu = cp.asnumpy(weights)\n",
    "            actual_idx1 = valid_indices[i+j]\n",
    "            \n",
    "            # Add edges only for significant weights and avoid duplicates\n",
    "            for k, neighbor_idx in enumerate(neighbors):\n",
    "                if (neighbor_idx > i+j and  # Only process upper triangle\n",
    "                    weights_cpu[k] > min_weight):\n",
    "                    actual_idx2 = valid_indices[neighbor_idx]\n",
    "                    \n",
    "                    # Add edge with weight\n",
    "                    graph.add_edge(f\"job_{actual_idx1}\", f\"job_{actual_idx2}\",\n",
    "                                 type=\"location_proximity\", \n",
    "                                 weight=float(weights_cpu[k]))\n",
    "                    edge_count += 1\n",
    "            \n",
    "            # Print progress every 5000 edges\n",
    "            if edge_count % 5000 == 0:\n",
    "                print(f\"Created {edge_count} edges so far...\")\n",
    "\n",
    "    print(f\"Added {edge_count} location proximity edges\")\n",
    "    save_graph_checkpoint(graph, 'graph_with_location_edges.pkl')\n",
    "    return graph\n",
    "\n",
    "def create_embedding_edges(df_ready, graph, embedding_type, threshold=0.7, k=10, n_clusters=500):\n",
    "    \"\"\"\n",
    "    Create edges between jobs with similar embeddings using parallel processing and optimized FAISS search.\n",
    "    \n",
    "    Args:\n",
    "        df_ready (pd.DataFrame): Input dataframe with job data\n",
    "        graph (nx.Graph): Graph to add edges to\n",
    "        embedding_type (str): Either 'job_title_embedding' or 'job_description_embedding'\n",
    "        threshold (float): Minimum similarity threshold for creating edges\n",
    "        k (int): Number of nearest neighbors to search for\n",
    "        n_clusters (int): Number of clusters to use\n",
    "        \n",
    "    Returns:\n",
    "        nx.Graph: Graph with embedding similarity edges added\n",
    "    \"\"\"\n",
    "    print(f\"Creating edges between jobs with similar {embedding_type} (threshold={threshold})...\")\n",
    "    edge_count = 0\n",
    "    use_gpu = torch.cuda.is_available()\n",
    "    \n",
    "    # Get embeddings and normalize once - embeddings already in array format\n",
    "    embeddings = np.array(df_ready[embedding_type].tolist()).astype('float32')\n",
    "    faiss.normalize_L2(embeddings)\n",
    "    n_jobs = len(df_ready)\n",
    "    \n",
    "    # Create optimized IVF index\n",
    "    d = embeddings.shape[1]  # Embedding dimension\n",
    "    nlist = min(n_clusters, int(np.sqrt(n_jobs)))  # Number of Voronoi cells\n",
    "    quantizer = faiss.IndexFlatIP(d)\n",
    "    index = faiss.IndexIVFFlat(quantizer, d, nlist, faiss.METRIC_INNER_PRODUCT)\n",
    "    \n",
    "    if use_gpu:\n",
    "        res = faiss.StandardGpuResources()\n",
    "        index = faiss.index_cpu_to_gpu(res, 0, index)\n",
    "    \n",
    "    # Train and add vectors\n",
    "    index.train(embeddings)\n",
    "    index.add(embeddings)\n",
    "    \n",
    "    # Process in batches\n",
    "    edge_type = \"title_similarity\" if embedding_type == \"job_title_embedding\" else \"description_similarity\"\n",
    "    batch_size = 1000\n",
    "    \n",
    "    for start_idx in tqdm(range(0, n_jobs, batch_size), desc=\"Finding similar jobs\"):\n",
    "        end_idx = min(start_idx + batch_size, n_jobs)\n",
    "        batch_embeddings = embeddings[start_idx:end_idx]\n",
    "        \n",
    "        # Batch search\n",
    "        similarities, indices = index.search(batch_embeddings, k)\n",
    "        \n",
    "        # Process results\n",
    "        for i, (sims, nbrs) in enumerate(zip(similarities, indices)):\n",
    "            global_idx = start_idx + i\n",
    "            for sim, nbr in zip(sims, nbrs):\n",
    "                if nbr <= global_idx or sim < threshold or nbr == -1:\n",
    "                    continue\n",
    "                graph.add_edge(f\"job_{global_idx}\", f\"job_{nbr}\",\n",
    "                             type=edge_type, weight=float(sim))\n",
    "                edge_count += 1\n",
    "    \n",
    "    print(f\"Added {edge_count} {edge_type} edges\")\n",
    "    checkpoint_name = 'graph_with_title_edges.pkl' if edge_type == \"title_similarity\" else 'graph_with_description_edges.pkl'\n",
    "    save_graph_checkpoint(graph, checkpoint_name)\n",
    "    return graph\n",
    "\n",
    "def build_complete_graph(df_ready, resume_from=None):\n",
    "    \"\"\"\n",
    "    Build the complete graph with all edge types.\n",
    "    \n",
    "    Args:\n",
    "        df_ready (pd.DataFrame): Input dataframe with job data\n",
    "        resume_from (str): Checkpoint to resume from ('nodes', 'company', 'job_type', 'location', 'title', 'description')\n",
    "        \n",
    "    Returns:\n",
    "        nx.Graph: Complete graph with all edges\n",
    "    \"\"\"\n",
    "    start_time = time.time()\n",
    "    \n",
    "    if resume_from is None:\n",
    "        graph = initialize_graph(df_ready)\n",
    "    else:\n",
    "        checkpoint_files = {\n",
    "            'nodes': 'graph_with_nodes.pkl',\n",
    "            'company': 'graph_with_company_edges.pkl',\n",
    "            'job_type': 'graph_with_job_type_edges.pkl',\n",
    "            'location': 'graph_with_location_edges.pkl',\n",
    "            'title': 'graph_with_title_edges.pkl',\n",
    "            'description': 'graph_with_description_edges.pkl'\n",
    "        }\n",
    "        graph = load_graph_checkpoint(checkpoint_files[resume_from])\n",
    "    \n",
    "    steps = ['company', 'job_type', 'location', 'title', 'description']\n",
    "    start_idx = steps.index(resume_from) + 1 if resume_from in steps else 0\n",
    "    \n",
    "    for step in steps[start_idx:]:\n",
    "        step_start = time.time()\n",
    "        if step == 'company':\n",
    "            graph = create_company_edges(df_ready, graph)\n",
    "        elif step == 'job_type':\n",
    "            graph = create_job_type_edges(df_ready, graph)\n",
    "        elif step == 'location':\n",
    "            graph = create_location_edges(\n",
    "                    df_ready, \n",
    "                    graph,\n",
    "                    max_distance=2,      # Only connect very close jobs\n",
    "                    min_weight=0.5,      # Only strong connections\n",
    "                    sigma=1,            # Sharp distance decay\n",
    "                    chunk_size=500\n",
    "                )\n",
    "        elif step == 'title':\n",
    "            graph = create_embedding_edges(df_ready, graph, 'job_title_embedding', threshold=0.7, k=10)\n",
    "        elif step == 'description':\n",
    "            graph = create_embedding_edges(df_ready, graph, 'job_description_embedding', threshold=0.7, k=10)\n",
    "        step_end = time.time()\n",
    "        print(f\"{step} step took {(step_end - step_start)/60:.2f} minutes\")\n",
    "    \n",
    "    total_time = time.time() - start_time\n",
    "    print(f\"\\nTotal graph construction time: {total_time/60:.2f} minutes\")\n",
    "    print(\"\\nGraph construction complete!\")\n",
    "    print(f\"Nodes: {graph.number_of_nodes()}, Edges: {graph.number_of_edges()}\")\n",
    "    \n",
    "    save_graph_checkpoint(graph, 'final_complete_graph.pkl')\n",
    "    print(\"Final graph saved to 'final_complete_graph.pkl'\")\n",
    "    \n",
    "    return graph "
   ]
  },
  {
   "cell_type": "code",
   "execution_count": 3,
   "metadata": {},
   "outputs": [
    {
     "name": "stdout",
     "output_type": "stream",
     "text": [
      "Initializing graph and adding nodes...\n"
     ]
    },
    {
     "name": "stderr",
     "output_type": "stream",
     "text": [
      "Adding nodes: 100%|██████████| 25610/25610 [00:00<00:00, 39188.19it/s]\n"
     ]
    },
    {
     "name": "stdout",
     "output_type": "stream",
     "text": [
      "Saved checkpoint: graph_with_nodes.pkl\n",
      "Creating edges between jobs from the same company...\n"
     ]
    },
    {
     "name": "stderr",
     "output_type": "stream",
     "text": [
      "Company edges: 100%|██████████| 1217313/1217313 [00:01<00:00, 849205.33it/s]\n"
     ]
    },
    {
     "name": "stdout",
     "output_type": "stream",
     "text": [
      "Added 1217313 company edges\n",
      "Saved checkpoint: graph_with_company_edges.pkl\n",
      "company step took 0.04 minutes\n",
      "Creating edges between jobs with similar job types (threshold=0.5)...\n"
     ]
    },
    {
     "name": "stderr",
     "output_type": "stream",
     "text": [
      "Building index: 100%|██████████| 25610/25610 [00:00<00:00, 1786576.50it/s]"
     ]
    },
    {
     "ename": "",
     "evalue": "",
     "output_type": "error",
     "traceback": [
      "\u001b[1;31mThe Kernel crashed while executing code in the current cell or a previous cell. \n",
      "\u001b[1;31mPlease review the code in the cell(s) to identify a possible cause of the failure. \n",
      "\u001b[1;31mClick <a href='https://aka.ms/vscodeJupyterKernelCrash'>here</a> for more info. \n",
      "\u001b[1;31mView Jupyter <a href='command:jupyter.viewOutput'>log</a> for further details."
     ]
    }
   ],
   "source": [
    "graph = build_complete_graph(df_ready)\n"
   ]
  },
  {
   "cell_type": "code",
   "execution_count": 4,
   "metadata": {},
   "outputs": [
    {
     "name": "stdout",
     "output_type": "stream",
     "text": [
      "Nodes: 25142\n",
      "Edges: 79444658\n",
      "\n",
      "Sample node data: ('job_0', {'job_title_embedding': [-0.0323692635, 0.037560612, -0.0851607397, -0.0453846455, -0.0546593554, -0.0279194303, 0.0278429296, 0.0215941686, 0.0325031728, 0.000887234812, 0.036646761, -0.0450273678, -0.0109668206, -0.0368140303, -0.0451355092, 0.0584830716, 0.114421636, 0.0379366949, -0.0109098526, -0.0450774394, -0.0636187941, -0.0283169001, -0.0749196559, 0.0460793413, -0.00873038266, 0.0490450747, -0.0230729543, 0.083348833, 0.0108598638, -0.0804005265, -0.0902405754, 0.0268752687, 0.0291939843, 0.0203662012, -0.0047371788, -0.0222695544, -0.0255234633, 0.0452349409, 0.028607415, -0.00115934608, -0.0206206571, -0.00999114104, -0.0118169105, -0.0274297539, -0.081966795, 0.0121426117, -0.0515504405, -0.0148908487, 0.0312867016, 0.0425315909, 0.0544571318, 0.00782229751, 0.011188155, 0.0547044016, -0.0220145993, 0.0660661459, -0.000419043761, 0.0151083982, -0.0381165333, -0.0169295501, -0.0283929724, 0.0029114394, -0.0551629476, -0.000226649194, -0.0343298875, -0.00412429823, -0.0298547298, -0.0337917432, -0.00667487271, -0.0516205207, -0.0235408433, -0.0655120388, -0.0543309487, -0.00318038044, 0.118260279, 0.0123469625, 0.0310083572, -0.00657702377, -0.0433183387, -0.031532757, -0.0532171801, -0.0790918916, -0.0897181183, -0.0554492138, -0.0425002277, -0.000756329333, -0.0165863, -0.106061913, 0.0259988382, 0.0207840949, 0.00133714674, -0.00926006585, 0.00314535759, -0.0602836423, -0.018318139, 0.0256741643, 0.00914465636, -0.0555429906, -0.0884505436, 0.39128226, -0.00247407961, -0.00223034644, -0.0644639209, 0.00810331851, 0.0130994283, -0.0324723758, -0.0285277367, 0.0155969588, 0.0452222973, 0.0154045047, 0.0034656194, -0.0148824835, 0.0111183515, -0.00905900355, 0.0309257172, -0.0648853332, 0.00192772993, -0.0646893084, -0.0407922976, 0.0253239293, -0.022198759, 0.0132965529, -0.0609473698, 0.0668524578, -0.0485373959, -0.0828857571, 0.0591504909, 0.0367421769, 0.0702980533, -0.031284254, 0.0292981789, -0.0124304015, -0.0186609458, 0.0325256102, -0.00764538813, 0.0358827077, 0.0413202457, 0.0221810602, 0.00830523204, -0.0865380988, -0.0776792392, 0.0178593751, 0.0483536199, 0.0277861524, -0.144324973, -0.00760203507, -0.0401397571, -0.0447938107, -0.0334054939, -0.0244215354, -0.00575259374, -0.0520751402, 0.000775870751, -0.0123337768, 0.01293384, -0.080203414, 0.0211065952, -0.0449649915, 0.0214948338, 0.0135897845, -0.0142045617, -0.0263703838, -0.0934049189, 0.0557276681, 0.0303679276, 0.00374490186, 0.0913090929, 0.00638637133, -0.0277776998, 0.0345626883, 0.0453553386, -0.0230159592, -0.00479518948, -0.111290269, -0.00895944051, 0.00104231539, 0.0237247851, -0.0651265085, 0.0776792318, 0.0445088558, 0.0391672403, 0.0254097451, 0.01759452, -0.0165704452, 0.0225449074, -0.00494741416, -0.00493709696, 0.00611147424, -0.00426019914, 0.0209297892, -0.0770777613, 0.0908500254, 0.0892148167, 0.00770267053, 0.0151695954, 0.0580228493, -0.0591513738, -0.114342354, -0.0478661917, -0.04457343, -0.0437174551, 0.0802927762, -0.0829034522, 0.0353400931, 0.0543061979, -0.0156353936, 0.00663642865, 0.0361496247, 0.0429536663, 0.0683567822, 0.00458838232, 0.0552805252, -0.02193534, -0.0199466478, 0.0235863067, -0.00450922083, 0.0406951569, 0.140976965, -0.0815058723, -0.00963929854, 0.00867818482, 0.0831316859, 0.0352667086, 1.43831623e-32, 0.0288145263, -0.0634856895, 0.0123033132, -0.0052141021, -0.0359964408, -0.0333254412, -0.0127209127, -0.0234470386, -0.0208499115, 0.0212439578, 0.0727671981, 0.0653406158, -0.0257615652, 0.0140882498, 0.0433069579, 0.0341918468, 0.037436489, -0.0260379836, 0.0336297713, 0.0465884171, 0.073693268, 0.107746378, -0.0389717631, 0.0922504738, -0.0379243158, 0.024798058, 0.0851481929, 0.00906614494, -0.00610294566, -0.0480599292, 0.00496918568, 0.0391633324, 0.0467728637, 0.0384538323, 0.00237442995, -0.00906903204, 0.0311495718, 0.0208101738, -0.0126826223, 0.0279557668, 0.00216998253, 0.0365901999, -0.0197251514, 0.13924481, 0.0127784228, -0.0235874821, 0.0118140243, -0.0658190325, -0.0401728563, 0.0803137273, -0.0127761886, 0.0938898176, -0.0634313896, 0.0539411977, -0.00924549811, -0.1209848, 0.0740353316, -0.0249420553, 0.0851942077, 0.0758455768, -0.0220798608, -0.00362527091, 0.0545755476, -0.0227589048, 0.107168436, 0.0712979361, -0.0360227637, -0.0520168282, -0.0382262431, -0.00720303366, -0.111469358, -0.00258243666, 0.104044072, -0.0653100759, -0.0136057567, 0.0007249685, 0.103582293, 0.0351125263, 0.00933734607, -0.00114919676, -0.0330896378, -0.0469578356, -0.00655823341, -0.00230119191, 0.0529548526, -0.0253250729, -0.0131702144, 0.0220445693, -0.0419955254, -0.0464358702, 0.0301925503, -0.0476837568, -0.00450549182, -0.0238191169, 0.100967191, -1.76783213e-32, -0.00518036308, 0.0328982249, -5.42606685e-05, 0.0169234872, 0.0699944422, 0.0534766354, 0.0379161797, -0.0146630788, -0.00334069971, 0.0303177554, 0.0830600858, 0.0131890038, -0.00475431141, -0.00619639782, -0.0246302467, -0.0220883377, -0.0293468554, 0.0417624228, 0.0127821313, 0.0243057236, -0.0116377054, 0.0614821166, 0.0854958892, -0.0465557948, 0.0039823195, -0.0219085813, -0.110072725, -0.00188876735, 0.0245277695, -0.0392255001, -0.017779028, 0.041083131, 0.0290686078, -0.0824375972, -0.00121110445, -0.00798466243, 0.0542106181, -0.0256740227, -0.0270067137, 0.0229956564, -0.0311662741, 0.0619803108, -0.00923316181, -0.0264205784, -0.00206903275, 0.0384881385, 0.102722503, -0.00187071436, -0.0234825388, -0.0434261151, -0.0119220717, 0.0157711282, 0.0530413501, 0.0101837898, -0.0161338169, 0.0596855059, -0.072131969, -0.0772478729, -0.0446728319, -0.0175949782, 0.0365964286, -0.0143841049, -0.0724985972, 0.0135575728], 'job_description_embedding': [0.0364928544, 0.0229546651, 0.0382401571, 0.0592471026, 0.0319772027, -0.00618717307, 0.0327850059, -0.0614954121, -0.128817067, -0.0445765331, -0.0505791977, -0.0556147993, 0.0296713077, 0.0855619982, 0.0190957617, -0.00826452579, 0.0582200028, 0.00413926458, 0.0140653206, -0.0558966063, -0.0661553293, 0.00995611306, -0.0186332017, -0.0374281406, 0.0405047312, -0.0635395125, 0.0365796238, 0.0372376405, -0.0164702814, -0.0322364718, -0.0113707585, 0.0236477423, 0.0358835571, 0.0301380996, 0.0437186398, 0.193368807, -0.00682446174, -0.0214293078, 0.048211161, -0.0158358272, 0.0583657362, 0.0159103926, 0.00495204004, -0.00803317595, 0.0207290146, -0.0472191907, 0.0750665143, 0.00316392351, -0.0435716435, 0.0174822304, -0.0449199528, -0.0256875511, 0.0668603182, -0.048777543, -0.0270033702, -0.0913284421, 0.0107634095, -0.0988661051, -0.0599086918, -0.0783258155, 0.0115558468, -0.0225886758, 0.00560818333, 0.00754998066, 0.00344080036, 0.0564387478, -0.129369304, -0.0106958859, -0.0175501164, -0.0895912647, -0.0804907829, -0.0259433687, -0.0610160045, 0.0623396598, 0.010200141, 0.00881079305, -0.0342469923, -0.00486409012, 0.0139151365, -0.0297677852, -0.0129658794, -0.00242109178, 0.00754315872, 0.0168106537, 0.0141748982, 0.017053023, -0.0482148454, -0.019525649, 0.022809118, 0.0242336318, 0.0722049996, -0.0729160979, -0.0336161293, -0.0833360702, 0.00680711074, -0.0338155106, -0.0682516173, 0.000690144778, 0.0600614883, -0.012483147, 0.061897058, 0.0841215476, 0.138690293, 0.0156089934, -0.110535376, 0.0612647794, 0.0351449847, -0.0625724569, 0.0329796895, -0.00568579789, -0.0780197084, 0.0424728096, -0.0370895267, -0.0401840135, 0.0100729773, 0.0197940674, -0.0678629279, 0.130778477, -0.0414995924, -0.0322848707, 0.0549642704, 0.0531237945, 0.0316418484, 0.0210385136, 0.00654016435, -0.0696910396, 0.062894538, -0.00607657526, -0.148391232, 0.0898125768, -0.0253445487, 0.112730823, 0.0601800755, 0.0523854159, -0.112736613, -0.0709913, 0.0545689203, 0.0115667796, -0.0538522042, -0.00538914092, -0.00576464226, -0.0202087164, -0.00656955969, 0.0122802723, 0.0234057419, -0.0396360569, -0.0388765223, -0.00153655792, 0.0449452214, -0.0457917303, -0.0452247635, -0.00750974845, 0.0623245835, 0.0327010415, 0.0629530698, 0.0413270853, 0.0643879771, -0.020035224, -0.034536317, 0.0344446115, 0.0605411828, -0.023460282, -0.0264252853, 0.00962501857, -0.00961338729, -0.0237670988, -0.0165019892, -0.0117089758, -0.164644971, -0.0734917074, -0.017416602, 0.0602889694, -0.0286653712, -0.0382752791, 0.0687135756, -0.0259679705, 0.0502222702, 0.090642564, 0.0228762086, -0.0675605386, 0.0193421654, -0.0223511476, 0.0356821939, 0.00676594255, 0.0584258549, 0.0396697931, -0.0343459435, -0.100821331, 0.171071529, -0.0493320562, 0.0282839909, -0.0245172661, 0.016149573, -0.0361048914, 0.0334983952, 0.0111077055, 0.064003177, -0.0825286955, 0.0104260882, 0.0366790071, -0.00729327789, 0.0961335003, -0.0672337264, 0.0513937734, 0.0404797941, -0.00336193107, 0.0861158147, 0.0175328851, 0.030346958, 0.0886671394, 0.0634275153, -0.00132156885, 0.0413285829, -0.0376426391, 0.0617200881, 0.0670840964, 0.0631245226, 0.030078005, -0.00532123027, -0.0369142741, 0.0193397775, 0.0602114536, -0.0214995574, -1.16061127e-32, -0.0495273359, 0.0171222612, 0.0554801151, -0.0184570979, -0.0362529978, -0.0296389125, -0.0154816462, -0.0868446305, 0.0406958722, -0.0130058583, -0.0944467112, 0.028383974, -0.0159223005, -0.00211985176, 0.0555225536, -0.121888518, 0.0557366237, 0.00716061797, -0.115423664, -0.017654296, 0.0934635326, 0.0714069828, -0.0223153159, -0.0187193491, -0.0929075032, 0.0296504013, -0.0168310069, -0.0398974977, -0.0384935737, -0.0493126959, -0.0276999325, -0.0257869698, -0.0327163972, -0.0275224578, 0.0580830835, 0.0100572007, 0.0056452225, 0.0266729835, -0.0577755868, -0.016761018, 0.0160814207, -0.00281225098, -0.0322770774, -0.0284356996, 0.063191928, -0.0733917058, 0.042376969, -0.100894667, -0.015460656, -0.084804602, -0.0268904921, -0.0126974229, -0.0734603107, -0.0135742407, -0.034926638, 0.0459280722, 0.0418779887, -0.0413558148, 0.021826813, -0.0363962054, 0.0496744327, -0.0344252735, 0.0497264415, -0.0152844423, -0.0674610659, -0.0987097099, -0.0527925156, 0.0316803753, -0.089550063, 0.0154678645, 0.017333705, -0.0360344462, 0.0493597388, 0.0265982114, -0.0519319475, -0.0337503701, 0.00441258447, 0.0200672746, -0.00415402278, -0.0122447126, -0.0317830816, -0.0436532088, 0.00223930879, -0.0298080072, -0.045647312, 0.00860313792, 0.041187223, 0.00913626514, -0.0181087498, -0.0124064898, 0.0436432511, 0.021604551, 0.00420758734, -0.00475653773, 0.00124478817, 9.36472092e-32, -0.0437908359, 0.0107480325, -0.0594223626, -0.00313284877, -0.014139493, -0.0200673137, -0.00988597143, -0.00200346764, -0.0287625622, 0.0386763439, 0.030828679, 0.0127823092, 0.0354033075, -0.0709906071, -0.00793242361, 0.0361390263, 0.0189688653, 0.0925001949, -0.0520271659, -0.0851631984, 0.0070293285, -0.0150114717, -0.0225839838, 0.0446380675, -0.0140275676, 0.056773074, -0.088982597, -0.0360949785, 0.030700583, 0.0939799473, -0.0893647894, 0.0287467819, -0.004572846, -0.0470306017, -0.0274040755, 0.000720319629, 0.0918206945, 0.0431668386, -0.0651820824, 0.000440399628, -0.0451262109, 0.0856586173, -0.0744710863, -0.0577205941, -0.0145431766, -0.0322530381, -0.0663036183, 0.0398493595, -0.0504956394, -0.00229618093, 0.0250373706, -0.0222002994, 0.0506313853, 0.0498431958, 0.0430674367, 0.0476892516, -0.0235399865, -0.0603665635, 0.0988124758, 0.0278188828, -0.0461105779, 7.28295126e-05, 0.0141029228, -0.0962653533], 'company': 'PHOENIX OPCO PTE. LTD.', 'job_type_encoding': '[0, 1, 0, 0, 0]', 'is_remote': False, 'lat_long': (1.2744927000000001, 103.84404662674353)})\n",
      "\n",
      "Sample edge: ('job_0', 'job_2955')\n"
     ]
    }
   ],
   "source": [
    "print(f\"Nodes: {len(graph.nodes)}\")\n",
    "print(f\"Edges: {len(graph.edges)}\")\n",
    "print(\"\\nSample node data:\", next(iter(graph.nodes(data=True))))\n",
    "print(\"\\nSample edge:\", next(iter(graph.edges())))"
   ]
  },
  {
   "cell_type": "code",
   "execution_count": 5,
   "metadata": {},
   "outputs": [
    {
     "name": "stdout",
     "output_type": "stream",
     "text": [
      "Loading graph from pickle file...\n",
      "Nodes: 25142\n",
      "Edges: 79444658\n",
      "\n",
      "Sample node data: ('job_0', {'job_title_embedding': [-0.0323692635, 0.037560612, -0.0851607397, -0.0453846455, -0.0546593554, -0.0279194303, 0.0278429296, 0.0215941686, 0.0325031728, 0.000887234812, 0.036646761, -0.0450273678, -0.0109668206, -0.0368140303, -0.0451355092, 0.0584830716, 0.114421636, 0.0379366949, -0.0109098526, -0.0450774394, -0.0636187941, -0.0283169001, -0.0749196559, 0.0460793413, -0.00873038266, 0.0490450747, -0.0230729543, 0.083348833, 0.0108598638, -0.0804005265, -0.0902405754, 0.0268752687, 0.0291939843, 0.0203662012, -0.0047371788, -0.0222695544, -0.0255234633, 0.0452349409, 0.028607415, -0.00115934608, -0.0206206571, -0.00999114104, -0.0118169105, -0.0274297539, -0.081966795, 0.0121426117, -0.0515504405, -0.0148908487, 0.0312867016, 0.0425315909, 0.0544571318, 0.00782229751, 0.011188155, 0.0547044016, -0.0220145993, 0.0660661459, -0.000419043761, 0.0151083982, -0.0381165333, -0.0169295501, -0.0283929724, 0.0029114394, -0.0551629476, -0.000226649194, -0.0343298875, -0.00412429823, -0.0298547298, -0.0337917432, -0.00667487271, -0.0516205207, -0.0235408433, -0.0655120388, -0.0543309487, -0.00318038044, 0.118260279, 0.0123469625, 0.0310083572, -0.00657702377, -0.0433183387, -0.031532757, -0.0532171801, -0.0790918916, -0.0897181183, -0.0554492138, -0.0425002277, -0.000756329333, -0.0165863, -0.106061913, 0.0259988382, 0.0207840949, 0.00133714674, -0.00926006585, 0.00314535759, -0.0602836423, -0.018318139, 0.0256741643, 0.00914465636, -0.0555429906, -0.0884505436, 0.39128226, -0.00247407961, -0.00223034644, -0.0644639209, 0.00810331851, 0.0130994283, -0.0324723758, -0.0285277367, 0.0155969588, 0.0452222973, 0.0154045047, 0.0034656194, -0.0148824835, 0.0111183515, -0.00905900355, 0.0309257172, -0.0648853332, 0.00192772993, -0.0646893084, -0.0407922976, 0.0253239293, -0.022198759, 0.0132965529, -0.0609473698, 0.0668524578, -0.0485373959, -0.0828857571, 0.0591504909, 0.0367421769, 0.0702980533, -0.031284254, 0.0292981789, -0.0124304015, -0.0186609458, 0.0325256102, -0.00764538813, 0.0358827077, 0.0413202457, 0.0221810602, 0.00830523204, -0.0865380988, -0.0776792392, 0.0178593751, 0.0483536199, 0.0277861524, -0.144324973, -0.00760203507, -0.0401397571, -0.0447938107, -0.0334054939, -0.0244215354, -0.00575259374, -0.0520751402, 0.000775870751, -0.0123337768, 0.01293384, -0.080203414, 0.0211065952, -0.0449649915, 0.0214948338, 0.0135897845, -0.0142045617, -0.0263703838, -0.0934049189, 0.0557276681, 0.0303679276, 0.00374490186, 0.0913090929, 0.00638637133, -0.0277776998, 0.0345626883, 0.0453553386, -0.0230159592, -0.00479518948, -0.111290269, -0.00895944051, 0.00104231539, 0.0237247851, -0.0651265085, 0.0776792318, 0.0445088558, 0.0391672403, 0.0254097451, 0.01759452, -0.0165704452, 0.0225449074, -0.00494741416, -0.00493709696, 0.00611147424, -0.00426019914, 0.0209297892, -0.0770777613, 0.0908500254, 0.0892148167, 0.00770267053, 0.0151695954, 0.0580228493, -0.0591513738, -0.114342354, -0.0478661917, -0.04457343, -0.0437174551, 0.0802927762, -0.0829034522, 0.0353400931, 0.0543061979, -0.0156353936, 0.00663642865, 0.0361496247, 0.0429536663, 0.0683567822, 0.00458838232, 0.0552805252, -0.02193534, -0.0199466478, 0.0235863067, -0.00450922083, 0.0406951569, 0.140976965, -0.0815058723, -0.00963929854, 0.00867818482, 0.0831316859, 0.0352667086, 1.43831623e-32, 0.0288145263, -0.0634856895, 0.0123033132, -0.0052141021, -0.0359964408, -0.0333254412, -0.0127209127, -0.0234470386, -0.0208499115, 0.0212439578, 0.0727671981, 0.0653406158, -0.0257615652, 0.0140882498, 0.0433069579, 0.0341918468, 0.037436489, -0.0260379836, 0.0336297713, 0.0465884171, 0.073693268, 0.107746378, -0.0389717631, 0.0922504738, -0.0379243158, 0.024798058, 0.0851481929, 0.00906614494, -0.00610294566, -0.0480599292, 0.00496918568, 0.0391633324, 0.0467728637, 0.0384538323, 0.00237442995, -0.00906903204, 0.0311495718, 0.0208101738, -0.0126826223, 0.0279557668, 0.00216998253, 0.0365901999, -0.0197251514, 0.13924481, 0.0127784228, -0.0235874821, 0.0118140243, -0.0658190325, -0.0401728563, 0.0803137273, -0.0127761886, 0.0938898176, -0.0634313896, 0.0539411977, -0.00924549811, -0.1209848, 0.0740353316, -0.0249420553, 0.0851942077, 0.0758455768, -0.0220798608, -0.00362527091, 0.0545755476, -0.0227589048, 0.107168436, 0.0712979361, -0.0360227637, -0.0520168282, -0.0382262431, -0.00720303366, -0.111469358, -0.00258243666, 0.104044072, -0.0653100759, -0.0136057567, 0.0007249685, 0.103582293, 0.0351125263, 0.00933734607, -0.00114919676, -0.0330896378, -0.0469578356, -0.00655823341, -0.00230119191, 0.0529548526, -0.0253250729, -0.0131702144, 0.0220445693, -0.0419955254, -0.0464358702, 0.0301925503, -0.0476837568, -0.00450549182, -0.0238191169, 0.100967191, -1.76783213e-32, -0.00518036308, 0.0328982249, -5.42606685e-05, 0.0169234872, 0.0699944422, 0.0534766354, 0.0379161797, -0.0146630788, -0.00334069971, 0.0303177554, 0.0830600858, 0.0131890038, -0.00475431141, -0.00619639782, -0.0246302467, -0.0220883377, -0.0293468554, 0.0417624228, 0.0127821313, 0.0243057236, -0.0116377054, 0.0614821166, 0.0854958892, -0.0465557948, 0.0039823195, -0.0219085813, -0.110072725, -0.00188876735, 0.0245277695, -0.0392255001, -0.017779028, 0.041083131, 0.0290686078, -0.0824375972, -0.00121110445, -0.00798466243, 0.0542106181, -0.0256740227, -0.0270067137, 0.0229956564, -0.0311662741, 0.0619803108, -0.00923316181, -0.0264205784, -0.00206903275, 0.0384881385, 0.102722503, -0.00187071436, -0.0234825388, -0.0434261151, -0.0119220717, 0.0157711282, 0.0530413501, 0.0101837898, -0.0161338169, 0.0596855059, -0.072131969, -0.0772478729, -0.0446728319, -0.0175949782, 0.0365964286, -0.0143841049, -0.0724985972, 0.0135575728], 'job_description_embedding': [0.0364928544, 0.0229546651, 0.0382401571, 0.0592471026, 0.0319772027, -0.00618717307, 0.0327850059, -0.0614954121, -0.128817067, -0.0445765331, -0.0505791977, -0.0556147993, 0.0296713077, 0.0855619982, 0.0190957617, -0.00826452579, 0.0582200028, 0.00413926458, 0.0140653206, -0.0558966063, -0.0661553293, 0.00995611306, -0.0186332017, -0.0374281406, 0.0405047312, -0.0635395125, 0.0365796238, 0.0372376405, -0.0164702814, -0.0322364718, -0.0113707585, 0.0236477423, 0.0358835571, 0.0301380996, 0.0437186398, 0.193368807, -0.00682446174, -0.0214293078, 0.048211161, -0.0158358272, 0.0583657362, 0.0159103926, 0.00495204004, -0.00803317595, 0.0207290146, -0.0472191907, 0.0750665143, 0.00316392351, -0.0435716435, 0.0174822304, -0.0449199528, -0.0256875511, 0.0668603182, -0.048777543, -0.0270033702, -0.0913284421, 0.0107634095, -0.0988661051, -0.0599086918, -0.0783258155, 0.0115558468, -0.0225886758, 0.00560818333, 0.00754998066, 0.00344080036, 0.0564387478, -0.129369304, -0.0106958859, -0.0175501164, -0.0895912647, -0.0804907829, -0.0259433687, -0.0610160045, 0.0623396598, 0.010200141, 0.00881079305, -0.0342469923, -0.00486409012, 0.0139151365, -0.0297677852, -0.0129658794, -0.00242109178, 0.00754315872, 0.0168106537, 0.0141748982, 0.017053023, -0.0482148454, -0.019525649, 0.022809118, 0.0242336318, 0.0722049996, -0.0729160979, -0.0336161293, -0.0833360702, 0.00680711074, -0.0338155106, -0.0682516173, 0.000690144778, 0.0600614883, -0.012483147, 0.061897058, 0.0841215476, 0.138690293, 0.0156089934, -0.110535376, 0.0612647794, 0.0351449847, -0.0625724569, 0.0329796895, -0.00568579789, -0.0780197084, 0.0424728096, -0.0370895267, -0.0401840135, 0.0100729773, 0.0197940674, -0.0678629279, 0.130778477, -0.0414995924, -0.0322848707, 0.0549642704, 0.0531237945, 0.0316418484, 0.0210385136, 0.00654016435, -0.0696910396, 0.062894538, -0.00607657526, -0.148391232, 0.0898125768, -0.0253445487, 0.112730823, 0.0601800755, 0.0523854159, -0.112736613, -0.0709913, 0.0545689203, 0.0115667796, -0.0538522042, -0.00538914092, -0.00576464226, -0.0202087164, -0.00656955969, 0.0122802723, 0.0234057419, -0.0396360569, -0.0388765223, -0.00153655792, 0.0449452214, -0.0457917303, -0.0452247635, -0.00750974845, 0.0623245835, 0.0327010415, 0.0629530698, 0.0413270853, 0.0643879771, -0.020035224, -0.034536317, 0.0344446115, 0.0605411828, -0.023460282, -0.0264252853, 0.00962501857, -0.00961338729, -0.0237670988, -0.0165019892, -0.0117089758, -0.164644971, -0.0734917074, -0.017416602, 0.0602889694, -0.0286653712, -0.0382752791, 0.0687135756, -0.0259679705, 0.0502222702, 0.090642564, 0.0228762086, -0.0675605386, 0.0193421654, -0.0223511476, 0.0356821939, 0.00676594255, 0.0584258549, 0.0396697931, -0.0343459435, -0.100821331, 0.171071529, -0.0493320562, 0.0282839909, -0.0245172661, 0.016149573, -0.0361048914, 0.0334983952, 0.0111077055, 0.064003177, -0.0825286955, 0.0104260882, 0.0366790071, -0.00729327789, 0.0961335003, -0.0672337264, 0.0513937734, 0.0404797941, -0.00336193107, 0.0861158147, 0.0175328851, 0.030346958, 0.0886671394, 0.0634275153, -0.00132156885, 0.0413285829, -0.0376426391, 0.0617200881, 0.0670840964, 0.0631245226, 0.030078005, -0.00532123027, -0.0369142741, 0.0193397775, 0.0602114536, -0.0214995574, -1.16061127e-32, -0.0495273359, 0.0171222612, 0.0554801151, -0.0184570979, -0.0362529978, -0.0296389125, -0.0154816462, -0.0868446305, 0.0406958722, -0.0130058583, -0.0944467112, 0.028383974, -0.0159223005, -0.00211985176, 0.0555225536, -0.121888518, 0.0557366237, 0.00716061797, -0.115423664, -0.017654296, 0.0934635326, 0.0714069828, -0.0223153159, -0.0187193491, -0.0929075032, 0.0296504013, -0.0168310069, -0.0398974977, -0.0384935737, -0.0493126959, -0.0276999325, -0.0257869698, -0.0327163972, -0.0275224578, 0.0580830835, 0.0100572007, 0.0056452225, 0.0266729835, -0.0577755868, -0.016761018, 0.0160814207, -0.00281225098, -0.0322770774, -0.0284356996, 0.063191928, -0.0733917058, 0.042376969, -0.100894667, -0.015460656, -0.084804602, -0.0268904921, -0.0126974229, -0.0734603107, -0.0135742407, -0.034926638, 0.0459280722, 0.0418779887, -0.0413558148, 0.021826813, -0.0363962054, 0.0496744327, -0.0344252735, 0.0497264415, -0.0152844423, -0.0674610659, -0.0987097099, -0.0527925156, 0.0316803753, -0.089550063, 0.0154678645, 0.017333705, -0.0360344462, 0.0493597388, 0.0265982114, -0.0519319475, -0.0337503701, 0.00441258447, 0.0200672746, -0.00415402278, -0.0122447126, -0.0317830816, -0.0436532088, 0.00223930879, -0.0298080072, -0.045647312, 0.00860313792, 0.041187223, 0.00913626514, -0.0181087498, -0.0124064898, 0.0436432511, 0.021604551, 0.00420758734, -0.00475653773, 0.00124478817, 9.36472092e-32, -0.0437908359, 0.0107480325, -0.0594223626, -0.00313284877, -0.014139493, -0.0200673137, -0.00988597143, -0.00200346764, -0.0287625622, 0.0386763439, 0.030828679, 0.0127823092, 0.0354033075, -0.0709906071, -0.00793242361, 0.0361390263, 0.0189688653, 0.0925001949, -0.0520271659, -0.0851631984, 0.0070293285, -0.0150114717, -0.0225839838, 0.0446380675, -0.0140275676, 0.056773074, -0.088982597, -0.0360949785, 0.030700583, 0.0939799473, -0.0893647894, 0.0287467819, -0.004572846, -0.0470306017, -0.0274040755, 0.000720319629, 0.0918206945, 0.0431668386, -0.0651820824, 0.000440399628, -0.0451262109, 0.0856586173, -0.0744710863, -0.0577205941, -0.0145431766, -0.0322530381, -0.0663036183, 0.0398493595, -0.0504956394, -0.00229618093, 0.0250373706, -0.0222002994, 0.0506313853, 0.0498431958, 0.0430674367, 0.0476892516, -0.0235399865, -0.0603665635, 0.0988124758, 0.0278188828, -0.0461105779, 7.28295126e-05, 0.0141029228, -0.0962653533], 'company': 'PHOENIX OPCO PTE. LTD.', 'job_type_encoding': '[0, 1, 0, 0, 0]', 'is_remote': False, 'lat_long': (1.2744927000000001, 103.84404662674353)})\n",
      "\n",
      "Sample edge: ('job_0', 'job_2955')\n"
     ]
    }
   ],
   "source": [
    "del graph\n",
    "\n",
    "print(\"Loading graph from pickle file...\")\n",
    "with open('final_complete_graph.pkl', 'rb') as f:\n",
    "    new_graph = pickle.load(f)\n",
    "\n",
    "print(f\"Nodes: {len(new_graph.nodes)}\")\n",
    "print(f\"Edges: {len(new_graph.edges)}\")\n",
    "print(\"\\nSample node data:\", next(iter(new_graph.nodes(data=True))))\n",
    "print(\"\\nSample edge:\", next(iter(new_graph.edges())))"
   ]
  },
  {
   "cell_type": "code",
   "execution_count": null,
   "metadata": {},
   "outputs": [],
   "source": []
  }
 ],
 "metadata": {
  "kernelspec": {
   "display_name": "graph",
   "language": "python",
   "name": "python3"
  },
  "language_info": {
   "codemirror_mode": {
    "name": "ipython",
    "version": 3
   },
   "file_extension": ".py",
   "mimetype": "text/x-python",
   "name": "python",
   "nbconvert_exporter": "python",
   "pygments_lexer": "ipython3",
   "version": "3.10.15"
  }
 },
 "nbformat": 4,
 "nbformat_minor": 2
}
