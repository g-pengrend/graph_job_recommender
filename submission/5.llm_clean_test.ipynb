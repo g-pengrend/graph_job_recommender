{
 "cells": [
  {
   "cell_type": "code",
   "execution_count": 2,
   "metadata": {},
   "outputs": [],
   "source": [
    "prompt1 = f\"\"\"You are an expert in understanding job descriptions and extracting the details and even nuanced requirements for the job. Your goal is to read the input slowly and take time to consider what is written, extract the information and break it down into these 3 aspects:\n",
    "    1. responsibilites \n",
    "    2. qualifications\n",
    "    3. skills, technical and non-technical\n",
    "and summarize it in point form line by line.\n",
    "With each aspect answered, ensure that each of the aspects are properly differentiated and avoid overlaps as much as possible.\"\"\""
   ]
  },
  {
   "cell_type": "code",
   "execution_count": 4,
   "metadata": {},
   "outputs": [],
   "source": [
    "import os\n",
    "import pandas as pd\n",
    "import multiprocessing as mp\n",
    "from tqdm import tqdm\n",
    "import GPUtil\n",
    "import ollama\n",
    "\n",
    "# Function to dynamically get the number of GPUs and available VRAM\n",
    "def get_gpu_info():\n",
    "    gpus = GPUtil.getGPUs()\n",
    "    total_vram = sum(gpu.memoryTotal for gpu in gpus)\n",
    "    num_gpus = len(gpus)\n",
    "    return num_gpus, total_vram\n",
    "\n",
    "# Function to process a single row\n",
    "def process_row(row, prompt1, instance_id):\n",
    "    \"\"\"Function to process a single row with a specific instance of the same model.\"\"\"\n",
    "    try:\n",
    "        # Model is always the same, instance_id is for load distribution simulation\n",
    "        model_name = 'capybarahermes-2.5-mistral-7b.Q5_K_M.gguf:latest'\n",
    "        \n",
    "        response = ollama.chat(\n",
    "            model=model_name,\n",
    "            messages=[\n",
    "                {'role': 'system', 'content': prompt1},\n",
    "                {'role': 'user', 'content': row['description']}  # Using 'description' column\n",
    "            ]\n",
    "        )\n",
    "        return response['message']['content']\n",
    "    except Exception as e:\n",
    "        print(f\"Error processing row {row.name} on instance {instance_id}. Error: {e}\")\n",
    "        return None  # Return None if there's an error\n",
    "\n",
    "# Function to process a chunk of data with multiple instances\n",
    "def process_chunk(chunk, prompt1, instance_id):\n",
    "    \"\"\"Process a chunk of the DataFrame by assigning rows to a specific model instance.\"\"\"\n",
    "    chunk['model_response'] = chunk.apply(lambda row: process_row(row, prompt1, instance_id), axis=1)\n",
    "    return chunk\n",
    "\n",
    "# Function to run parallel processing using multiprocessing\n",
    "def parallel_processing(df, prompt1):\n",
    "    \"\"\"Run the model in parallel on the dataframe using dynamic concurrency.\"\"\"\n",
    "    # Dynamically get the number of GPUs and available VRAM\n",
    "    num_gpus, total_vram = get_gpu_info()\n",
    "    \n",
    "    # Dynamically set the number of processes based on number of GPUs\n",
    "    num_processes = num_gpus * 3  # Default to 3 model loads per GPU\n",
    "    if num_processes == 0:  # If no GPU is found, default to CPU-based processing\n",
    "        num_processes = 1\n",
    "\n",
    "    print(f\"Detected {num_gpus} GPUs with a total of {total_vram} VRAM.\")\n",
    "    print(f\"Running with {num_processes} concurrent model instances.\")\n",
    "    \n",
    "    # Split the dataframe into chunks\n",
    "    chunk_size = len(df) // num_processes\n",
    "    chunks = [df[i:i + chunk_size] for i in range(0, len(df), chunk_size)]\n",
    "    \n",
    "    print(f\"Starting parallel processing with {num_processes} processes...\")\n",
    "    \n",
    "    # Initialize progress bar\n",
    "    with tqdm(total=len(chunks)) as progress_bar:\n",
    "        # Use multiprocessing pool for parallel processing\n",
    "        pool = mp.Pool(processes=num_processes)\n",
    "        \n",
    "        # Submit all chunks to be processed concurrently\n",
    "        futures = [pool.apply_async(process_chunk, args=(chunk, prompt1, i % num_processes)) for i, chunk in enumerate(chunks)]\n",
    "        \n",
    "        # Collect the results and update the progress bar\n",
    "        result_chunks = []\n",
    "        for future in futures:\n",
    "            result_chunks.append(future.get())\n",
    "            progress_bar.update(1)\n",
    "        \n",
    "        # Close and join the pool\n",
    "        pool.close()\n",
    "        pool.join()\n",
    "    \n",
    "    print(\"All chunks processed. Concatenating results...\")\n",
    "    # Concatenate all the result chunks back into a single DataFrame\n",
    "    result_df = pd.concat(result_chunks, ignore_index=True)\n",
    "    print(\"Processing complete.\")\n",
    "    return result_df\n",
    "\n",
    "# Example of how to use the parallel_processing function\n",
    "# Assuming your DataFrame is 'df' and your prompt is 'prompt1'\n",
    "# result_df = parallel_processing(df, prompt1)\n"
   ]
  },
  {
   "cell_type": "code",
   "execution_count": 5,
   "metadata": {},
   "outputs": [
    {
     "name": "stdout",
     "output_type": "stream",
     "text": [
      "Detected 1 GPUs with a total of 24564.0 VRAM.\n",
      "Running with 3 concurrent model instances.\n",
      "Starting parallel processing with 3 processes...\n"
     ]
    },
    {
     "name": "stderr",
     "output_type": "stream",
     "text": [
      "100%|██████████| 3/3 [12:08:14<00:00, 14564.91s/it]   \n"
     ]
    },
    {
     "name": "stdout",
     "output_type": "stream",
     "text": [
      "All chunks processed. Concatenating results...\n",
      "Processing complete.\n"
     ]
    }
   ],
   "source": [
    "# Took 12 hours\n",
    "\n",
    "df = pd.read_csv(\"5.1.updated_file_with_geolocation.csv\")\n",
    "\n",
    "# Assuming your DataFrame is 'df' and your prompt is 'prompt1'\n",
    "result_df = parallel_processing(df, prompt1)\n",
    "\n",
    "result_df.to_csv('result.csv')"
   ]
  },
  {
   "cell_type": "code",
   "execution_count": 6,
   "metadata": {},
   "outputs": [
    {
     "data": {
      "text/html": [
       "<div>\n",
       "<style scoped>\n",
       "    .dataframe tbody tr th:only-of-type {\n",
       "        vertical-align: middle;\n",
       "    }\n",
       "\n",
       "    .dataframe tbody tr th {\n",
       "        vertical-align: top;\n",
       "    }\n",
       "\n",
       "    .dataframe thead th {\n",
       "        text-align: right;\n",
       "    }\n",
       "</style>\n",
       "<table border=\"1\" class=\"dataframe\">\n",
       "  <thead>\n",
       "    <tr style=\"text-align: right;\">\n",
       "      <th></th>\n",
       "      <th>Unnamed: 0</th>\n",
       "      <th>title</th>\n",
       "      <th>company</th>\n",
       "      <th>job_type</th>\n",
       "      <th>is_remote</th>\n",
       "      <th>description</th>\n",
       "      <th>address</th>\n",
       "      <th>cleaned_address</th>\n",
       "      <th>lat_long</th>\n",
       "      <th>model_response</th>\n",
       "    </tr>\n",
       "  </thead>\n",
       "  <tbody>\n",
       "    <tr>\n",
       "      <th>0</th>\n",
       "      <td>0</td>\n",
       "      <td>Porter</td>\n",
       "      <td>PHOENIX OPCO PTE. LTD.</td>\n",
       "      <td>fulltime</td>\n",
       "      <td>False</td>\n",
       "      <td>Are you currently working in a service based e...</td>\n",
       "      <td>Tras Street, #9-177 Union Building, 079025</td>\n",
       "      <td>Tras Street,  Union Building, 079025</td>\n",
       "      <td>(1.2744927000000001, 103.84404662674353)</td>\n",
       "      <td>\\n\\n1. Responsibilities\\n   - Ensure guest exp...</td>\n",
       "    </tr>\n",
       "    <tr>\n",
       "      <th>1</th>\n",
       "      <td>1</td>\n",
       "      <td>Outlet Executive - Tan Tock Seng Hospital</td>\n",
       "      <td>Kopitiam Investment Pte Ltd</td>\n",
       "      <td>fulltime</td>\n",
       "      <td>False</td>\n",
       "      <td>Outlet Executive - Tan Tock Seng Hospital\\nRes...</td>\n",
       "      <td>1 Joo Koon Cir, #13-01 FairPrice Joo Koon, Sin...</td>\n",
       "      <td>1 Joo Koon Cir,  FairPrice Joo Koon, Singapore...</td>\n",
       "      <td>(1.2899175, 103.8519072)</td>\n",
       "      <td>\\n## Responsibilities\\n1. Operations\\n   * Sup...</td>\n",
       "    </tr>\n",
       "    <tr>\n",
       "      <th>2</th>\n",
       "      <td>2</td>\n",
       "      <td>Sales Promoter</td>\n",
       "      <td>Oomph Pte. Ltd.</td>\n",
       "      <td>fulltime</td>\n",
       "      <td>False</td>\n",
       "      <td>SALARY UP TO $4,000.00 (subject to experience)...</td>\n",
       "      <td>2 Alexandra Rd, #04-01 Delta House, Singapore ...</td>\n",
       "      <td>2 Alexandra Rd,  Delta House, Singapore 159919</td>\n",
       "      <td>(1.2899175, 103.8519072)</td>\n",
       "      <td>\\n\\nAspect 1: Responsibilities\\n- Actively pro...</td>\n",
       "    </tr>\n",
       "    <tr>\n",
       "      <th>3</th>\n",
       "      <td>3</td>\n",
       "      <td>Quantity Surveyor</td>\n",
       "      <td>LBD ENGINEERING PTE. LTD.</td>\n",
       "      <td>fulltime</td>\n",
       "      <td>False</td>\n",
       "      <td>Job Description\\n\\n\\n* Prepare and analyse cos...</td>\n",
       "      <td>58A Sungei Kadut Loop, LBD Construction Group ...</td>\n",
       "      <td>58A Sungei Kadut Loop, LBD Construction Group ...</td>\n",
       "      <td>NaN</td>\n",
       "      <td>\\n\\nResponsibilities:\\n- Prepare and analyze c...</td>\n",
       "    </tr>\n",
       "    <tr>\n",
       "      <th>4</th>\n",
       "      <td>4</td>\n",
       "      <td>Cleaning Operations Assistant Supervisor</td>\n",
       "      <td>ECOCLEAN MAINTENANCE PTE. LTD.</td>\n",
       "      <td>fulltime</td>\n",
       "      <td>False</td>\n",
       "      <td>**Requirements**\\n\\n* at least 3 years of work...</td>\n",
       "      <td>1 Yishun Industrial Street 1, #06-27 A'Posh Bi...</td>\n",
       "      <td>1 Yishun Industrial Street 1,  A'Posh BizHub, ...</td>\n",
       "      <td>(1.2899175, 103.8519072)</td>\n",
       "      <td>\\n\\n**Responsibilities:**\\n1. Respond to emerg...</td>\n",
       "    </tr>\n",
       "  </tbody>\n",
       "</table>\n",
       "</div>"
      ],
      "text/plain": [
       "   Unnamed: 0                                      title  \\\n",
       "0           0                                     Porter   \n",
       "1           1  Outlet Executive - Tan Tock Seng Hospital   \n",
       "2           2                             Sales Promoter   \n",
       "3           3                          Quantity Surveyor   \n",
       "4           4   Cleaning Operations Assistant Supervisor   \n",
       "\n",
       "                          company  job_type  is_remote  \\\n",
       "0          PHOENIX OPCO PTE. LTD.  fulltime      False   \n",
       "1     Kopitiam Investment Pte Ltd  fulltime      False   \n",
       "2                 Oomph Pte. Ltd.  fulltime      False   \n",
       "3       LBD ENGINEERING PTE. LTD.  fulltime      False   \n",
       "4  ECOCLEAN MAINTENANCE PTE. LTD.  fulltime      False   \n",
       "\n",
       "                                         description  \\\n",
       "0  Are you currently working in a service based e...   \n",
       "1  Outlet Executive - Tan Tock Seng Hospital\\nRes...   \n",
       "2  SALARY UP TO $4,000.00 (subject to experience)...   \n",
       "3  Job Description\\n\\n\\n* Prepare and analyse cos...   \n",
       "4  **Requirements**\\n\\n* at least 3 years of work...   \n",
       "\n",
       "                                             address  \\\n",
       "0         Tras Street, #9-177 Union Building, 079025   \n",
       "1  1 Joo Koon Cir, #13-01 FairPrice Joo Koon, Sin...   \n",
       "2  2 Alexandra Rd, #04-01 Delta House, Singapore ...   \n",
       "3  58A Sungei Kadut Loop, LBD Construction Group ...   \n",
       "4  1 Yishun Industrial Street 1, #06-27 A'Posh Bi...   \n",
       "\n",
       "                                     cleaned_address  \\\n",
       "0               Tras Street,  Union Building, 079025   \n",
       "1  1 Joo Koon Cir,  FairPrice Joo Koon, Singapore...   \n",
       "2     2 Alexandra Rd,  Delta House, Singapore 159919   \n",
       "3  58A Sungei Kadut Loop, LBD Construction Group ...   \n",
       "4  1 Yishun Industrial Street 1,  A'Posh BizHub, ...   \n",
       "\n",
       "                                   lat_long  \\\n",
       "0  (1.2744927000000001, 103.84404662674353)   \n",
       "1                  (1.2899175, 103.8519072)   \n",
       "2                  (1.2899175, 103.8519072)   \n",
       "3                                       NaN   \n",
       "4                  (1.2899175, 103.8519072)   \n",
       "\n",
       "                                      model_response  \n",
       "0  \\n\\n1. Responsibilities\\n   - Ensure guest exp...  \n",
       "1  \\n## Responsibilities\\n1. Operations\\n   * Sup...  \n",
       "2  \\n\\nAspect 1: Responsibilities\\n- Actively pro...  \n",
       "3  \\n\\nResponsibilities:\\n- Prepare and analyze c...  \n",
       "4  \\n\\n**Responsibilities:**\\n1. Respond to emerg...  "
      ]
     },
     "execution_count": 6,
     "metadata": {},
     "output_type": "execute_result"
    }
   ],
   "source": [
    "result_df.head()"
   ]
  },
  {
   "cell_type": "code",
   "execution_count": 7,
   "metadata": {},
   "outputs": [
    {
     "data": {
      "text/plain": [
       "Unnamed: 0            0\n",
       "title                 0\n",
       "company               0\n",
       "job_type              0\n",
       "is_remote             0\n",
       "description           0\n",
       "address               0\n",
       "cleaned_address       0\n",
       "lat_long           2528\n",
       "model_response        0\n",
       "dtype: int64"
      ]
     },
     "execution_count": 7,
     "metadata": {},
     "output_type": "execute_result"
    }
   ],
   "source": [
    "result_df.isna().sum()"
   ]
  },
  {
   "cell_type": "code",
   "execution_count": 8,
   "metadata": {},
   "outputs": [
    {
     "data": {
      "text/plain": [
       "Unnamed: 0         0\n",
       "title              0\n",
       "company            0\n",
       "job_type           0\n",
       "is_remote          0\n",
       "description        0\n",
       "address            0\n",
       "cleaned_address    0\n",
       "lat_long           0\n",
       "model_response     0\n",
       "dtype: int64"
      ]
     },
     "execution_count": 8,
     "metadata": {},
     "output_type": "execute_result"
    }
   ],
   "source": [
    "result_df = result_df.dropna()\n",
    "result_df.isna().sum()"
   ]
  },
  {
   "cell_type": "code",
   "execution_count": 22,
   "metadata": {},
   "outputs": [
    {
     "data": {
      "text/plain": [
       "Index(['Unnamed: 0', 'title', 'company', 'job_type', 'is_remote',\n",
       "       'description', 'address', 'cleaned_address', 'lat_long',\n",
       "       'model_response'],\n",
       "      dtype='object')"
      ]
     },
     "execution_count": 22,
     "metadata": {},
     "output_type": "execute_result"
    }
   ],
   "source": [
    "result_df.columns"
   ]
  },
  {
   "cell_type": "code",
   "execution_count": 23,
   "metadata": {},
   "outputs": [
    {
     "data": {
      "text/plain": [
       "Index(['title', 'company', 'job_type', 'is_remote', 'description', 'address',\n",
       "       'cleaned_address', 'lat_long', 'model_response'],\n",
       "      dtype='object')"
      ]
     },
     "execution_count": 23,
     "metadata": {},
     "output_type": "execute_result"
    }
   ],
   "source": [
    "result_df = result_df.drop(columns=['Unnamed: 0'])\n",
    "result_df.columns"
   ]
  },
  {
   "cell_type": "code",
   "execution_count": 25,
   "metadata": {},
   "outputs": [],
   "source": [
    "result_df['model_response'] = result_df['model_response'].str.strip()"
   ]
  },
  {
   "cell_type": "code",
   "execution_count": 28,
   "metadata": {},
   "outputs": [
    {
     "data": {
      "text/plain": [
       "0    1. Responsibilities\\n   - Ensure guest experie...\n",
       "1    ## Responsibilities\\n1. Operations\\n   * Suppo...\n",
       "2    Aspect 1: Responsibilities\\n- Actively promote...\n",
       "4    **Responsibilities:**\\n1. Respond to emergency...\n",
       "5    ## Summary of Job Description for Accounts Off...\n",
       "Name: model_response, dtype: object"
      ]
     },
     "execution_count": 28,
     "metadata": {},
     "output_type": "execute_result"
    }
   ],
   "source": [
    "result_df['model_response'].head()"
   ]
  },
  {
   "cell_type": "code",
   "execution_count": 30,
   "metadata": {},
   "outputs": [],
   "source": [
    "result_df['model_response'] = result_df['model_response'].str.replace(r'[^A-Za-z0-9\\s.,]', '', regex=True)\n"
   ]
  },
  {
   "cell_type": "code",
   "execution_count": 31,
   "metadata": {},
   "outputs": [],
   "source": [
    "# Remove point formatted numbers (e.g., 1., 2., etc.) but keep time-like patterns (e.g., 1.30PM)\n",
    "result_df['model_response'] = result_df['model_response'].str.replace(r'(?<!\\d)(\\d+)\\.(?!\\d)', '', regex=True).str.strip()\n"
   ]
  },
  {
   "cell_type": "code",
   "execution_count": 33,
   "metadata": {},
   "outputs": [],
   "source": [
    "result_df.to_csv(\"5.1.description_cleaned.csv\", index=False)"
   ]
  },
  {
   "cell_type": "code",
   "execution_count": null,
   "metadata": {},
   "outputs": [],
   "source": []
  }
 ],
 "metadata": {
  "kernelspec": {
   "display_name": "graph_linux",
   "language": "python",
   "name": "python3"
  },
  "language_info": {
   "codemirror_mode": {
    "name": "ipython",
    "version": 3
   },
   "file_extension": ".py",
   "mimetype": "text/x-python",
   "name": "python",
   "nbconvert_exporter": "python",
   "pygments_lexer": "ipython3",
   "version": "3.10.15"
  }
 },
 "nbformat": 4,
 "nbformat_minor": 2
}
