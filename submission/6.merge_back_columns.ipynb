{
 "cells": [
  {
   "cell_type": "code",
   "execution_count": 1,
   "metadata": {},
   "outputs": [
    {
     "name": "stderr",
     "output_type": "stream",
     "text": [
      "/tmp/ipykernel_3825237/1501753470.py:4: DtypeWarning: Columns (23,24,27) have mixed types. Specify dtype option on import or set low_memory=False.\n",
      "  old_df = pd.read_csv('jobs.csv')\n"
     ]
    }
   ],
   "source": [
    "import pandas as pd\n",
    "\n",
    "# Load your old CSV with all columns\n",
    "old_df = pd.read_csv('jobs.csv')\n",
    "\n",
    "# Load your current CSV with the 4 retained columns\n",
    "current_df = pd.read_csv('5.2.description_cleaned.csv')\n",
    "\n",
    "# Merge the old data with the current data on the 4 key columns\n",
    "merged_df = pd.merge(current_df, old_df, on=['title', 'company', 'job_type', 'is_remote'], how='left')\n",
    "\n",
    "# Save the merged dataframe to a new CSV (or use it as needed)\n",
    "merged_df.to_csv('cleaned_and_merged_back.csv', index=False)\n",
    "\n"
   ]
  },
  {
   "cell_type": "code",
   "execution_count": null,
   "metadata": {},
   "outputs": [],
   "source": []
  }
 ],
 "metadata": {
  "kernelspec": {
   "display_name": "graph_linux",
   "language": "python",
   "name": "python3"
  },
  "language_info": {
   "codemirror_mode": {
    "name": "ipython",
    "version": 3
   },
   "file_extension": ".py",
   "mimetype": "text/x-python",
   "name": "python",
   "nbconvert_exporter": "python",
   "pygments_lexer": "ipython3",
   "version": "3.10.15"
  }
 },
 "nbformat": 4,
 "nbformat_minor": 2
}
