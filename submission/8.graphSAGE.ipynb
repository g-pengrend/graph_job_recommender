{
 "cells": [
  {
   "cell_type": "markdown",
   "metadata": {},
   "source": [
    "# Load the final complete graph\n"
   ]
  },
  {
   "cell_type": "code",
   "execution_count": 1,
   "metadata": {},
   "outputs": [],
   "source": [
    "import pickle\n",
    "import torch\n",
    "import torch.nn.functional as F\n",
    "from torch_geometric.nn import SAGEConv\n",
    "from torch_geometric.loader import NeighborLoader\n",
    "from torch_geometric.data import Data\n",
    "from torch_geometric.utils import from_networkx\n",
    "import numpy as np\n",
    "from tqdm import tqdm"
   ]
  },
  {
   "cell_type": "code",
   "execution_count": 2,
   "metadata": {},
   "outputs": [
    {
     "name": "stdout",
     "output_type": "stream",
     "text": [
      "Loading final complete graph...\n",
      "Graph loaded successfully!\n",
      "Nodes: 25142, Edges: 79444658\n"
     ]
    }
   ],
   "source": [
    "def load_graph_checkpoint(filename):\n",
    "    with open(filename, 'rb') as f:\n",
    "        return pickle.load(f)\n",
    "\n",
    "# Load the final complete graph\n",
    "print(\"Loading final complete graph...\")\n",
    "graph = load_graph_checkpoint('final_complete_graph.pkl')\n",
    "print(\"Graph loaded successfully!\")\n",
    "print(f\"Nodes: {graph.number_of_nodes()}, Edges: {graph.number_of_edges()}\")\n"
   ]
  },
  {
   "cell_type": "markdown",
   "metadata": {},
   "source": [
    "# At this point, remember to use pygraph environment\n",
    "\n",
    "Long story..."
   ]
  },
  {
   "cell_type": "markdown",
   "metadata": {},
   "source": [
    "# Build the graphSAGE model\n"
   ]
  },
  {
   "cell_type": "code",
   "execution_count": 3,
   "metadata": {},
   "outputs": [],
   "source": [
    "# Define the GraphSAGE model\n",
    "class EfficientGraphSAGE(torch.nn.Module):\n",
    "    def __init__(\n",
    "        self,\n",
    "        in_channels,\n",
    "        hidden_channels=256,\n",
    "        out_channels=128,\n",
    "        num_layers=2,\n",
    "        dropout=0.2\n",
    "    ):\n",
    "        super().__init__()\n",
    "        self.num_layers = num_layers\n",
    "        \n",
    "        # Input layer\n",
    "        self.convs = torch.nn.ModuleList()\n",
    "        self.convs.append(SAGEConv(in_channels, hidden_channels, aggr='mean'))\n",
    "        \n",
    "        # Hidden layers\n",
    "        for _ in range(num_layers - 2):\n",
    "            self.convs.append(SAGEConv(hidden_channels, hidden_channels, aggr='mean'))\n",
    "        \n",
    "        # Output layer\n",
    "        self.convs.append(SAGEConv(hidden_channels, out_channels, aggr='mean'))\n",
    "        \n",
    "        self.dropout = torch.nn.Dropout(dropout)\n",
    "        self.batch_norm = torch.nn.ModuleList([\n",
    "            torch.nn.BatchNorm1d(hidden_channels) for _ in range(num_layers-1)\n",
    "        ])\n",
    "        self.batch_norm.append(torch.nn.BatchNorm1d(out_channels))\n",
    "\n",
    "    def forward(self, x, edge_index):\n",
    "        for i, conv in enumerate(self.convs[:-1]):\n",
    "            x = conv(x, edge_index)\n",
    "            x = self.batch_norm[i](x)\n",
    "            x = F.relu(x)\n",
    "            x = self.dropout(x)\n",
    "        x = self.convs[-1](x, edge_index)\n",
    "        x = self.batch_norm[-1](x)\n",
    "        return x\n",
    "    \n",
    "def prepare_graph_data(graph, device):\n",
    "    \"\"\"Convert NetworkX graph to PyG data with numpy string handling\"\"\"\n",
    "    print(\"Converting NetworkX graph to PyG format...\")\n",
    "    \n",
    "    # Extract node features and edge index\n",
    "    node_features = []\n",
    "    \n",
    "    # Get a sample node to check structure\n",
    "    first_node = list(graph.nodes())[0]\n",
    "    print(\"\\nSample node data:\")\n",
    "    print(f\"Title embedding type: {type(graph.nodes[first_node]['job_title_embedding'])}\")\n",
    "    print(f\"Title embedding length: {len(graph.nodes[first_node]['job_title_embedding'])}\")\n",
    "    \n",
    "    try:\n",
    "        for node in tqdm(graph.nodes(), desc=\"Extracting node features\"):\n",
    "            features = []\n",
    "            \n",
    "            # Convert string representations to numpy arrays\n",
    "            # Using string split and conversion for memory efficiency\n",
    "            title_str = graph.nodes[node]['job_title_embedding']\n",
    "            title_emb = np.fromstring(title_str.strip('[]'), sep=' ')\n",
    "            \n",
    "            desc_str = graph.nodes[node]['job_description_embedding']\n",
    "            desc_emb = np.fromstring(desc_str.strip('[]'), sep=' ')\n",
    "            \n",
    "            type_str = graph.nodes[node]['job_type_encoding']\n",
    "            type_emb = np.fromstring(type_str.strip('[]'), sep=' ')\n",
    "            \n",
    "            # Combine all embeddings\n",
    "            features.extend(title_emb)\n",
    "            features.extend(desc_emb)\n",
    "            features.extend(type_emb)\n",
    "            node_features.append(features)\n",
    "            \n",
    "            # Print first node information\n",
    "            if len(node_features) == 1:\n",
    "                print(f\"\\nFeature dimensions for first node:\")\n",
    "                print(f\"Title embedding: {len(title_emb)}\")\n",
    "                print(f\"Description embedding: {len(desc_emb)}\")\n",
    "                print(f\"Job type encoding: {len(type_emb)}\")\n",
    "                print(f\"Total features: {len(features)}\")\n",
    "    \n",
    "    except Exception as e:\n",
    "        print(f\"\\nError processing node features: {str(e)}\")\n",
    "        print(\"\\nDetailed error information:\")\n",
    "        print(f\"Node: {node}\")\n",
    "        print(f\"Title embedding sample: {graph.nodes[node]['job_title_embedding'][:100]}\")\n",
    "        raise\n",
    "\n",
    "    # Convert to tensors\n",
    "    try:\n",
    "        x = torch.tensor(np.array(node_features), dtype=torch.float)\n",
    "        print(f\"\\nNode features tensor shape: {x.shape}\")\n",
    "    except Exception as e:\n",
    "        print(f\"\\nError converting to tensor: {str(e)}\")\n",
    "        print(f\"Node features list shape: {len(node_features)} x {len(node_features[0]) if node_features else 0}\")\n",
    "        raise\n",
    "    \n",
    "    # Create edge index and weights\n",
    "    print(\"\\nProcessing edges...\")\n",
    "    edge_index = []\n",
    "    edge_weights = []\n",
    "    \n",
    "    try:\n",
    "        for u, v, data in tqdm(graph.edges(data=True), desc=\"Processing edges\"):\n",
    "            u_idx = int(u.split('_')[1])\n",
    "            v_idx = int(v.split('_')[1])\n",
    "            edge_index.append([u_idx, v_idx])\n",
    "            edge_weights.append(float(data.get('weight', 1.0)))\n",
    "    except Exception as e:\n",
    "        print(f\"\\nError processing edges: {str(e)}\")\n",
    "        print(f\"Sample edge: {u} -> {v}\")\n",
    "        print(f\"Edge data: {data}\")\n",
    "        raise\n",
    "\n",
    "    edge_index = torch.tensor(edge_index, dtype=torch.long).t().contiguous()\n",
    "    edge_weights = torch.tensor(edge_weights, dtype=torch.float)\n",
    "    \n",
    "    # Create PyG data object\n",
    "    data = Data(\n",
    "        x=x,\n",
    "        edge_index=edge_index,\n",
    "        edge_weight=edge_weights,\n",
    "        num_nodes=len(graph)\n",
    "    )\n",
    "    \n",
    "    print(\"\\nData preparation completed successfully!\")\n",
    "    print(f\"Features shape: {data.x.shape}\")\n",
    "    print(f\"Edge index shape: {data.edge_index.shape}\")\n",
    "    print(f\"Edge weights shape: {data.edge_weight.shape}\")\n",
    "    \n",
    "    return data.to(device)"
   ]
  },
  {
   "cell_type": "code",
   "execution_count": 5,
   "metadata": {},
   "outputs": [
    {
     "name": "stdout",
     "output_type": "stream",
     "text": [
      "Using device: cuda\n",
      "Initial GPU memory: 1.86 GB\n",
      "Attempting to load cached graph data...\n"
     ]
    },
    {
     "name": "stderr",
     "output_type": "stream",
     "text": [
      "C:\\Users\\Brandon\\AppData\\Local\\Temp\\ipykernel_21448\\912666011.py:12: FutureWarning: You are using `torch.load` with `weights_only=False` (the current default value), which uses the default pickle module implicitly. It is possible to construct malicious pickle data which will execute arbitrary code during unpickling (See https://github.com/pytorch/pytorch/blob/main/SECURITY.md#untrusted-models for more details). In a future release, the default value for `weights_only` will be flipped to `True`. This limits the functions that could be executed during unpickling. Arbitrary objects will no longer be allowed to be loaded via this mode unless they are explicitly allowlisted by the user via `torch.serialization.add_safe_globals`. We recommend you start setting `weights_only=True` for any use case where you don't have full control of the loaded file. Please open an issue on GitHub for any issues related to this experimental feature.\n",
      "  data = torch.load(cached_data_path)\n"
     ]
    },
    {
     "name": "stdout",
     "output_type": "stream",
     "text": [
      "Successfully loaded cached graph data!\n",
      "Initializing model...\n",
      "No checkpoint found, starting fresh training\n"
     ]
    },
    {
     "name": "stderr",
     "output_type": "stream",
     "text": [
      "C:\\Users\\Brandon\\AppData\\Local\\Temp\\ipykernel_21448\\912666011.py:46: FutureWarning: You are using `torch.load` with `weights_only=False` (the current default value), which uses the default pickle module implicitly. It is possible to construct malicious pickle data which will execute arbitrary code during unpickling (See https://github.com/pytorch/pytorch/blob/main/SECURITY.md#untrusted-models for more details). In a future release, the default value for `weights_only` will be flipped to `True`. This limits the functions that could be executed during unpickling. Arbitrary objects will no longer be allowed to be loaded via this mode unless they are explicitly allowlisted by the user via `torch.serialization.add_safe_globals`. We recommend you start setting `weights_only=True` for any use case where you don't have full control of the loaded file. Please open an issue on GitHub for any issues related to this experimental feature.\n",
      "  checkpoint = torch.load('best_graphsage_model.pt')\n",
      "C:\\Users\\Brandon\\AppData\\Local\\Temp\\ipykernel_21448\\912666011.py:82: FutureWarning: `torch.cuda.amp.GradScaler(args...)` is deprecated. Please use `torch.amp.GradScaler('cuda', args...)` instead.\n",
      "  scaler = torch.cuda.amp.GradScaler()\n"
     ]
    },
    {
     "name": "stdout",
     "output_type": "stream",
     "text": [
      "GPU memory after data loading: 3.53 GB\n",
      "Starting training from epoch 1 to 100...\n"
     ]
    },
    {
     "name": "stderr",
     "output_type": "stream",
     "text": [
      "Epoch 1/100:   0%|          | 0/50 [00:00<?, ?it/s]C:\\Users\\Brandon\\AppData\\Local\\Temp\\ipykernel_21448\\912666011.py:97: FutureWarning: `torch.cuda.amp.autocast(args...)` is deprecated. Please use `torch.amp.autocast('cuda', args...)` instead.\n",
      "  with torch.cuda.amp.autocast():\n",
      "Epoch 1/100: 100%|██████████| 50/50 [00:11<00:00,  4.42it/s, loss=0.149]\n"
     ]
    },
    {
     "name": "stdout",
     "output_type": "stream",
     "text": [
      "Epoch 1, Average Loss: 0.3051\n",
      "Saved new best model with loss: 0.3051\n"
     ]
    },
    {
     "name": "stderr",
     "output_type": "stream",
     "text": [
      "Epoch 2/100: 100%|██████████| 50/50 [00:09<00:00,  5.23it/s, loss=0.155] \n"
     ]
    },
    {
     "name": "stdout",
     "output_type": "stream",
     "text": [
      "Epoch 2, Average Loss: 0.1117\n",
      "Saved new best model with loss: 0.1117\n"
     ]
    },
    {
     "name": "stderr",
     "output_type": "stream",
     "text": [
      "Epoch 3/100: 100%|██████████| 50/50 [00:09<00:00,  5.25it/s, loss=0.123] \n"
     ]
    },
    {
     "name": "stdout",
     "output_type": "stream",
     "text": [
      "Epoch 3, Average Loss: 0.1026\n",
      "Saved new best model with loss: 0.1026\n"
     ]
    },
    {
     "name": "stderr",
     "output_type": "stream",
     "text": [
      "Epoch 4/100: 100%|██████████| 50/50 [00:09<00:00,  5.28it/s, loss=0.113] \n"
     ]
    },
    {
     "name": "stdout",
     "output_type": "stream",
     "text": [
      "Epoch 4, Average Loss: 0.0935\n",
      "Saved new best model with loss: 0.0935\n"
     ]
    },
    {
     "name": "stderr",
     "output_type": "stream",
     "text": [
      "Epoch 5/100: 100%|██████████| 50/50 [00:09<00:00,  5.31it/s, loss=0.0989]\n"
     ]
    },
    {
     "name": "stdout",
     "output_type": "stream",
     "text": [
      "Epoch 5, Average Loss: 0.0864\n",
      "Saved new best model with loss: 0.0864\n"
     ]
    },
    {
     "name": "stderr",
     "output_type": "stream",
     "text": [
      "Epoch 6/100: 100%|██████████| 50/50 [00:09<00:00,  5.34it/s, loss=0.0946]\n"
     ]
    },
    {
     "name": "stdout",
     "output_type": "stream",
     "text": [
      "Epoch 6, Average Loss: 0.0795\n",
      "Saved new best model with loss: 0.0795\n"
     ]
    },
    {
     "name": "stderr",
     "output_type": "stream",
     "text": [
      "Epoch 7/100: 100%|██████████| 50/50 [00:09<00:00,  5.33it/s, loss=0.116] \n"
     ]
    },
    {
     "name": "stdout",
     "output_type": "stream",
     "text": [
      "Epoch 7, Average Loss: 0.0731\n",
      "Saved new best model with loss: 0.0731\n"
     ]
    },
    {
     "name": "stderr",
     "output_type": "stream",
     "text": [
      "Epoch 8/100: 100%|██████████| 50/50 [00:09<00:00,  5.34it/s, loss=0.124] \n"
     ]
    },
    {
     "name": "stdout",
     "output_type": "stream",
     "text": [
      "Epoch 8, Average Loss: 0.0676\n",
      "Saved new best model with loss: 0.0676\n"
     ]
    },
    {
     "name": "stderr",
     "output_type": "stream",
     "text": [
      "Epoch 9/100: 100%|██████████| 50/50 [00:09<00:00,  5.28it/s, loss=0.0684]\n"
     ]
    },
    {
     "name": "stdout",
     "output_type": "stream",
     "text": [
      "Epoch 9, Average Loss: 0.0615\n",
      "Saved new best model with loss: 0.0615\n"
     ]
    },
    {
     "name": "stderr",
     "output_type": "stream",
     "text": [
      "Epoch 10/100: 100%|██████████| 50/50 [00:09<00:00,  5.45it/s, loss=0.0602]\n"
     ]
    },
    {
     "name": "stdout",
     "output_type": "stream",
     "text": [
      "Epoch 10, Average Loss: 0.0556\n",
      "Saved new best model with loss: 0.0556\n"
     ]
    },
    {
     "name": "stderr",
     "output_type": "stream",
     "text": [
      "Epoch 11/100: 100%|██████████| 50/50 [00:09<00:00,  5.26it/s, loss=0.0571]\n"
     ]
    },
    {
     "name": "stdout",
     "output_type": "stream",
     "text": [
      "Epoch 11, Average Loss: 0.0501\n",
      "Saved new best model with loss: 0.0501\n"
     ]
    },
    {
     "name": "stderr",
     "output_type": "stream",
     "text": [
      "Epoch 12/100: 100%|██████████| 50/50 [00:09<00:00,  5.40it/s, loss=0.0501]\n"
     ]
    },
    {
     "name": "stdout",
     "output_type": "stream",
     "text": [
      "Epoch 12, Average Loss: 0.0454\n",
      "Saved new best model with loss: 0.0454\n"
     ]
    },
    {
     "name": "stderr",
     "output_type": "stream",
     "text": [
      "Epoch 13/100: 100%|██████████| 50/50 [00:09<00:00,  5.31it/s, loss=0.0444]\n"
     ]
    },
    {
     "name": "stdout",
     "output_type": "stream",
     "text": [
      "Epoch 13, Average Loss: 0.0408\n",
      "Saved new best model with loss: 0.0408\n"
     ]
    },
    {
     "name": "stderr",
     "output_type": "stream",
     "text": [
      "Epoch 14/100: 100%|██████████| 50/50 [00:09<00:00,  5.32it/s, loss=0.0374]\n"
     ]
    },
    {
     "name": "stdout",
     "output_type": "stream",
     "text": [
      "Epoch 14, Average Loss: 0.0364\n",
      "Saved new best model with loss: 0.0364\n"
     ]
    },
    {
     "name": "stderr",
     "output_type": "stream",
     "text": [
      "Epoch 15/100: 100%|██████████| 50/50 [00:09<00:00,  5.34it/s, loss=0.0343]\n"
     ]
    },
    {
     "name": "stdout",
     "output_type": "stream",
     "text": [
      "Epoch 15, Average Loss: 0.0323\n",
      "Saved new best model with loss: 0.0323\n"
     ]
    },
    {
     "name": "stderr",
     "output_type": "stream",
     "text": [
      "Epoch 16/100: 100%|██████████| 50/50 [00:09<00:00,  5.34it/s, loss=0.0306]\n"
     ]
    },
    {
     "name": "stdout",
     "output_type": "stream",
     "text": [
      "Epoch 16, Average Loss: 0.0282\n",
      "Saved new best model with loss: 0.0282\n"
     ]
    },
    {
     "name": "stderr",
     "output_type": "stream",
     "text": [
      "Epoch 17/100: 100%|██████████| 50/50 [00:09<00:00,  5.30it/s, loss=0.0257]\n"
     ]
    },
    {
     "name": "stdout",
     "output_type": "stream",
     "text": [
      "Epoch 17, Average Loss: 0.0243\n",
      "Saved new best model with loss: 0.0243\n"
     ]
    },
    {
     "name": "stderr",
     "output_type": "stream",
     "text": [
      "Epoch 18/100: 100%|██████████| 50/50 [00:09<00:00,  5.38it/s, loss=0.0209]\n"
     ]
    },
    {
     "name": "stdout",
     "output_type": "stream",
     "text": [
      "Epoch 18, Average Loss: 0.0207\n",
      "Saved new best model with loss: 0.0207\n"
     ]
    },
    {
     "name": "stderr",
     "output_type": "stream",
     "text": [
      "Epoch 19/100: 100%|██████████| 50/50 [00:09<00:00,  5.34it/s, loss=0.0169]\n"
     ]
    },
    {
     "name": "stdout",
     "output_type": "stream",
     "text": [
      "Epoch 19, Average Loss: 0.0171\n",
      "Saved new best model with loss: 0.0171\n"
     ]
    },
    {
     "name": "stderr",
     "output_type": "stream",
     "text": [
      "Epoch 20/100: 100%|██████████| 50/50 [00:09<00:00,  5.32it/s, loss=0.0138]\n"
     ]
    },
    {
     "name": "stdout",
     "output_type": "stream",
     "text": [
      "Epoch 20, Average Loss: 0.0138\n",
      "Saved new best model with loss: 0.0138\n"
     ]
    },
    {
     "name": "stderr",
     "output_type": "stream",
     "text": [
      "Epoch 21/100: 100%|██████████| 50/50 [00:09<00:00,  5.31it/s, loss=0.00924]\n"
     ]
    },
    {
     "name": "stdout",
     "output_type": "stream",
     "text": [
      "Epoch 21, Average Loss: 0.0109\n",
      "Saved new best model with loss: 0.0109\n"
     ]
    },
    {
     "name": "stderr",
     "output_type": "stream",
     "text": [
      "Epoch 22/100: 100%|██████████| 50/50 [00:09<00:00,  5.27it/s, loss=0.00704]\n"
     ]
    },
    {
     "name": "stdout",
     "output_type": "stream",
     "text": [
      "Epoch 22, Average Loss: 0.0080\n",
      "Saved new best model with loss: 0.0080\n"
     ]
    },
    {
     "name": "stderr",
     "output_type": "stream",
     "text": [
      "Epoch 23/100: 100%|██████████| 50/50 [00:09<00:00,  5.54it/s, loss=0.00559]\n"
     ]
    },
    {
     "name": "stdout",
     "output_type": "stream",
     "text": [
      "Epoch 23, Average Loss: 0.0063\n",
      "Saved new best model with loss: 0.0063\n"
     ]
    },
    {
     "name": "stderr",
     "output_type": "stream",
     "text": [
      "Epoch 24/100: 100%|██████████| 50/50 [00:09<00:00,  5.52it/s, loss=0.00422]\n"
     ]
    },
    {
     "name": "stdout",
     "output_type": "stream",
     "text": [
      "Epoch 24, Average Loss: 0.0049\n",
      "Saved new best model with loss: 0.0049\n"
     ]
    },
    {
     "name": "stderr",
     "output_type": "stream",
     "text": [
      "Epoch 25/100: 100%|██████████| 50/50 [00:09<00:00,  5.29it/s, loss=0.00295]\n"
     ]
    },
    {
     "name": "stdout",
     "output_type": "stream",
     "text": [
      "Epoch 25, Average Loss: 0.0035\n",
      "Saved new best model with loss: 0.0035\n"
     ]
    },
    {
     "name": "stderr",
     "output_type": "stream",
     "text": [
      "Epoch 26/100: 100%|██████████| 50/50 [00:09<00:00,  5.33it/s, loss=0.00168]\n"
     ]
    },
    {
     "name": "stdout",
     "output_type": "stream",
     "text": [
      "Epoch 26, Average Loss: 0.0023\n",
      "Saved new best model with loss: 0.0023\n"
     ]
    },
    {
     "name": "stderr",
     "output_type": "stream",
     "text": [
      "Epoch 27/100: 100%|██████████| 50/50 [00:09<00:00,  5.30it/s, loss=0.000713]\n"
     ]
    },
    {
     "name": "stdout",
     "output_type": "stream",
     "text": [
      "Epoch 27, Average Loss: 0.0011\n",
      "Saved new best model with loss: 0.0011\n"
     ]
    },
    {
     "name": "stderr",
     "output_type": "stream",
     "text": [
      "Epoch 28/100: 100%|██████████| 50/50 [00:09<00:00,  5.38it/s, loss=0.000562]\n"
     ]
    },
    {
     "name": "stdout",
     "output_type": "stream",
     "text": [
      "Epoch 28, Average Loss: 0.0006\n",
      "Saved new best model with loss: 0.0006\n"
     ]
    },
    {
     "name": "stderr",
     "output_type": "stream",
     "text": [
      "Epoch 29/100: 100%|██████████| 50/50 [00:09<00:00,  5.36it/s, loss=0.000544]\n"
     ]
    },
    {
     "name": "stdout",
     "output_type": "stream",
     "text": [
      "Epoch 29, Average Loss: 0.0006\n",
      "Saved new best model with loss: 0.0006\n"
     ]
    },
    {
     "name": "stderr",
     "output_type": "stream",
     "text": [
      "Epoch 30/100: 100%|██████████| 50/50 [00:09<00:00,  5.29it/s, loss=0.000559]\n"
     ]
    },
    {
     "name": "stdout",
     "output_type": "stream",
     "text": [
      "Epoch 30, Average Loss: 0.0006\n"
     ]
    },
    {
     "name": "stderr",
     "output_type": "stream",
     "text": [
      "Epoch 31/100: 100%|██████████| 50/50 [00:09<00:00,  5.32it/s, loss=0.000553]\n"
     ]
    },
    {
     "name": "stdout",
     "output_type": "stream",
     "text": [
      "Epoch 31, Average Loss: 0.0006\n",
      "Saved new best model with loss: 0.0006\n"
     ]
    },
    {
     "name": "stderr",
     "output_type": "stream",
     "text": [
      "Epoch 32/100: 100%|██████████| 50/50 [00:09<00:00,  5.45it/s, loss=0.000524]\n"
     ]
    },
    {
     "name": "stdout",
     "output_type": "stream",
     "text": [
      "Epoch 32, Average Loss: 0.0005\n",
      "Saved new best model with loss: 0.0005\n"
     ]
    },
    {
     "name": "stderr",
     "output_type": "stream",
     "text": [
      "Epoch 33/100: 100%|██████████| 50/50 [00:09<00:00,  5.32it/s, loss=0.000514]\n"
     ]
    },
    {
     "name": "stdout",
     "output_type": "stream",
     "text": [
      "Epoch 33, Average Loss: 0.0005\n"
     ]
    },
    {
     "name": "stderr",
     "output_type": "stream",
     "text": [
      "Epoch 34/100: 100%|██████████| 50/50 [00:09<00:00,  5.33it/s, loss=0.000554]\n"
     ]
    },
    {
     "name": "stdout",
     "output_type": "stream",
     "text": [
      "Epoch 34, Average Loss: 0.0005\n"
     ]
    },
    {
     "name": "stderr",
     "output_type": "stream",
     "text": [
      "Epoch 35/100: 100%|██████████| 50/50 [00:09<00:00,  5.38it/s, loss=0.000518]\n"
     ]
    },
    {
     "name": "stdout",
     "output_type": "stream",
     "text": [
      "Epoch 35, Average Loss: 0.0005\n",
      "Saved new best model with loss: 0.0005\n"
     ]
    },
    {
     "name": "stderr",
     "output_type": "stream",
     "text": [
      "Epoch 36/100: 100%|██████████| 50/50 [00:09<00:00,  5.39it/s, loss=0.000543]\n"
     ]
    },
    {
     "name": "stdout",
     "output_type": "stream",
     "text": [
      "Epoch 36, Average Loss: 0.0005\n"
     ]
    },
    {
     "name": "stderr",
     "output_type": "stream",
     "text": [
      "Epoch 37/100: 100%|██████████| 50/50 [00:09<00:00,  5.44it/s, loss=0.000526]\n"
     ]
    },
    {
     "name": "stdout",
     "output_type": "stream",
     "text": [
      "Epoch 37, Average Loss: 0.0005\n"
     ]
    },
    {
     "name": "stderr",
     "output_type": "stream",
     "text": [
      "Epoch 38/100: 100%|██████████| 50/50 [00:09<00:00,  5.47it/s, loss=0.000504]\n"
     ]
    },
    {
     "name": "stdout",
     "output_type": "stream",
     "text": [
      "Epoch 38, Average Loss: 0.0005\n"
     ]
    },
    {
     "name": "stderr",
     "output_type": "stream",
     "text": [
      "Epoch 39/100: 100%|██████████| 50/50 [00:09<00:00,  5.32it/s, loss=0.000561]\n"
     ]
    },
    {
     "name": "stdout",
     "output_type": "stream",
     "text": [
      "Epoch 39, Average Loss: 0.0005\n"
     ]
    },
    {
     "name": "stderr",
     "output_type": "stream",
     "text": [
      "Epoch 40/100: 100%|██████████| 50/50 [00:09<00:00,  5.43it/s, loss=0.000585]\n"
     ]
    },
    {
     "name": "stdout",
     "output_type": "stream",
     "text": [
      "Epoch 40, Average Loss: 0.0005\n"
     ]
    },
    {
     "name": "stderr",
     "output_type": "stream",
     "text": [
      "Epoch 41/100: 100%|██████████| 50/50 [00:09<00:00,  5.32it/s, loss=0.000559]\n"
     ]
    },
    {
     "name": "stdout",
     "output_type": "stream",
     "text": [
      "Epoch 41, Average Loss: 0.0005\n"
     ]
    },
    {
     "name": "stderr",
     "output_type": "stream",
     "text": [
      "Epoch 42/100: 100%|██████████| 50/50 [00:09<00:00,  5.26it/s, loss=0.000472]\n"
     ]
    },
    {
     "name": "stdout",
     "output_type": "stream",
     "text": [
      "Epoch 42, Average Loss: 0.0005\n",
      "Saved new best model with loss: 0.0005\n"
     ]
    },
    {
     "name": "stderr",
     "output_type": "stream",
     "text": [
      "Epoch 43/100: 100%|██████████| 50/50 [00:09<00:00,  5.33it/s, loss=0.000472]\n"
     ]
    },
    {
     "name": "stdout",
     "output_type": "stream",
     "text": [
      "Epoch 43, Average Loss: 0.0005\n",
      "Saved new best model with loss: 0.0005\n"
     ]
    },
    {
     "name": "stderr",
     "output_type": "stream",
     "text": [
      "Epoch 44/100: 100%|██████████| 50/50 [00:09<00:00,  5.42it/s, loss=0.000505]\n"
     ]
    },
    {
     "name": "stdout",
     "output_type": "stream",
     "text": [
      "Epoch 44, Average Loss: 0.0005\n"
     ]
    },
    {
     "name": "stderr",
     "output_type": "stream",
     "text": [
      "Epoch 45/100: 100%|██████████| 50/50 [00:09<00:00,  5.24it/s, loss=0.000468]\n"
     ]
    },
    {
     "name": "stdout",
     "output_type": "stream",
     "text": [
      "Epoch 45, Average Loss: 0.0005\n",
      "Saved new best model with loss: 0.0005\n"
     ]
    },
    {
     "name": "stderr",
     "output_type": "stream",
     "text": [
      "Epoch 46/100: 100%|██████████| 50/50 [00:09<00:00,  5.32it/s, loss=0.000476]\n"
     ]
    },
    {
     "name": "stdout",
     "output_type": "stream",
     "text": [
      "Epoch 46, Average Loss: 0.0005\n",
      "Saved new best model with loss: 0.0005\n"
     ]
    },
    {
     "name": "stderr",
     "output_type": "stream",
     "text": [
      "Epoch 47/100: 100%|██████████| 50/50 [00:09<00:00,  5.26it/s, loss=0.000493]\n"
     ]
    },
    {
     "name": "stdout",
     "output_type": "stream",
     "text": [
      "Epoch 47, Average Loss: 0.0005\n"
     ]
    },
    {
     "name": "stderr",
     "output_type": "stream",
     "text": [
      "Epoch 48/100: 100%|██████████| 50/50 [00:09<00:00,  5.31it/s, loss=0.000491]\n"
     ]
    },
    {
     "name": "stdout",
     "output_type": "stream",
     "text": [
      "Epoch 48, Average Loss: 0.0005\n",
      "Saved new best model with loss: 0.0005\n"
     ]
    },
    {
     "name": "stderr",
     "output_type": "stream",
     "text": [
      "Epoch 49/100: 100%|██████████| 50/50 [00:09<00:00,  5.36it/s, loss=0.000466]\n"
     ]
    },
    {
     "name": "stdout",
     "output_type": "stream",
     "text": [
      "Epoch 49, Average Loss: 0.0005\n"
     ]
    },
    {
     "name": "stderr",
     "output_type": "stream",
     "text": [
      "Epoch 50/100: 100%|██████████| 50/50 [00:09<00:00,  5.25it/s, loss=0.000474]\n"
     ]
    },
    {
     "name": "stdout",
     "output_type": "stream",
     "text": [
      "Epoch 50, Average Loss: 0.0005\n",
      "Saved new best model with loss: 0.0005\n"
     ]
    },
    {
     "name": "stderr",
     "output_type": "stream",
     "text": [
      "Epoch 51/100: 100%|██████████| 50/50 [00:09<00:00,  5.25it/s, loss=0.000488]\n"
     ]
    },
    {
     "name": "stdout",
     "output_type": "stream",
     "text": [
      "Epoch 51, Average Loss: 0.0005\n"
     ]
    },
    {
     "name": "stderr",
     "output_type": "stream",
     "text": [
      "Epoch 52/100: 100%|██████████| 50/50 [00:09<00:00,  5.33it/s, loss=0.000513]\n"
     ]
    },
    {
     "name": "stdout",
     "output_type": "stream",
     "text": [
      "Epoch 52, Average Loss: 0.0005\n",
      "Saved new best model with loss: 0.0005\n"
     ]
    },
    {
     "name": "stderr",
     "output_type": "stream",
     "text": [
      "Epoch 53/100: 100%|██████████| 50/50 [00:09<00:00,  5.25it/s, loss=0.000472]\n"
     ]
    },
    {
     "name": "stdout",
     "output_type": "stream",
     "text": [
      "Epoch 53, Average Loss: 0.0005\n"
     ]
    },
    {
     "name": "stderr",
     "output_type": "stream",
     "text": [
      "Epoch 54/100: 100%|██████████| 50/50 [00:09<00:00,  5.29it/s, loss=0.000497]\n"
     ]
    },
    {
     "name": "stdout",
     "output_type": "stream",
     "text": [
      "Epoch 54, Average Loss: 0.0005\n"
     ]
    },
    {
     "name": "stderr",
     "output_type": "stream",
     "text": [
      "Epoch 55/100: 100%|██████████| 50/50 [00:09<00:00,  5.35it/s, loss=0.000483]\n"
     ]
    },
    {
     "name": "stdout",
     "output_type": "stream",
     "text": [
      "Epoch 55, Average Loss: 0.0005\n"
     ]
    },
    {
     "name": "stderr",
     "output_type": "stream",
     "text": [
      "Epoch 56/100: 100%|██████████| 50/50 [00:09<00:00,  5.23it/s, loss=0.000513]\n"
     ]
    },
    {
     "name": "stdout",
     "output_type": "stream",
     "text": [
      "Epoch 56, Average Loss: 0.0005\n"
     ]
    },
    {
     "name": "stderr",
     "output_type": "stream",
     "text": [
      "Epoch 57/100: 100%|██████████| 50/50 [00:09<00:00,  5.37it/s, loss=0.000452]\n"
     ]
    },
    {
     "name": "stdout",
     "output_type": "stream",
     "text": [
      "Epoch 57, Average Loss: 0.0005\n"
     ]
    },
    {
     "name": "stderr",
     "output_type": "stream",
     "text": [
      "Epoch 58/100: 100%|██████████| 50/50 [00:09<00:00,  5.35it/s, loss=0.000463]\n"
     ]
    },
    {
     "name": "stdout",
     "output_type": "stream",
     "text": [
      "Epoch 58, Average Loss: 0.0005\n"
     ]
    },
    {
     "name": "stderr",
     "output_type": "stream",
     "text": [
      "Epoch 59/100: 100%|██████████| 50/50 [00:09<00:00,  5.33it/s, loss=0.000447]\n"
     ]
    },
    {
     "name": "stdout",
     "output_type": "stream",
     "text": [
      "Epoch 59, Average Loss: 0.0005\n",
      "Saved new best model with loss: 0.0005\n"
     ]
    },
    {
     "name": "stderr",
     "output_type": "stream",
     "text": [
      "Epoch 60/100: 100%|██████████| 50/50 [00:09<00:00,  5.47it/s, loss=0.000475]\n"
     ]
    },
    {
     "name": "stdout",
     "output_type": "stream",
     "text": [
      "Epoch 60, Average Loss: 0.0005\n",
      "Saved new best model with loss: 0.0005\n"
     ]
    },
    {
     "name": "stderr",
     "output_type": "stream",
     "text": [
      "Epoch 61/100: 100%|██████████| 50/50 [00:09<00:00,  5.53it/s, loss=0.00047] \n"
     ]
    },
    {
     "name": "stdout",
     "output_type": "stream",
     "text": [
      "Epoch 61, Average Loss: 0.0005\n",
      "Saved new best model with loss: 0.0005\n"
     ]
    },
    {
     "name": "stderr",
     "output_type": "stream",
     "text": [
      "Epoch 62/100: 100%|██████████| 50/50 [00:09<00:00,  5.33it/s, loss=0.000479]\n"
     ]
    },
    {
     "name": "stdout",
     "output_type": "stream",
     "text": [
      "Epoch 62, Average Loss: 0.0005\n",
      "Saved new best model with loss: 0.0005\n"
     ]
    },
    {
     "name": "stderr",
     "output_type": "stream",
     "text": [
      "Epoch 63/100: 100%|██████████| 50/50 [00:09<00:00,  5.40it/s, loss=0.000474]\n"
     ]
    },
    {
     "name": "stdout",
     "output_type": "stream",
     "text": [
      "Epoch 63, Average Loss: 0.0005\n"
     ]
    },
    {
     "name": "stderr",
     "output_type": "stream",
     "text": [
      "Epoch 64/100: 100%|██████████| 50/50 [00:09<00:00,  5.27it/s, loss=0.000474]\n"
     ]
    },
    {
     "name": "stdout",
     "output_type": "stream",
     "text": [
      "Epoch 64, Average Loss: 0.0005\n"
     ]
    },
    {
     "name": "stderr",
     "output_type": "stream",
     "text": [
      "Epoch 65/100: 100%|██████████| 50/50 [00:09<00:00,  5.43it/s, loss=0.000442]\n"
     ]
    },
    {
     "name": "stdout",
     "output_type": "stream",
     "text": [
      "Epoch 65, Average Loss: 0.0005\n"
     ]
    },
    {
     "name": "stderr",
     "output_type": "stream",
     "text": [
      "Epoch 66/100: 100%|██████████| 50/50 [00:09<00:00,  5.46it/s, loss=0.000459]\n"
     ]
    },
    {
     "name": "stdout",
     "output_type": "stream",
     "text": [
      "Epoch 66, Average Loss: 0.0005\n"
     ]
    },
    {
     "name": "stderr",
     "output_type": "stream",
     "text": [
      "Epoch 67/100: 100%|██████████| 50/50 [00:09<00:00,  5.40it/s, loss=0.000455]\n"
     ]
    },
    {
     "name": "stdout",
     "output_type": "stream",
     "text": [
      "Epoch 67, Average Loss: 0.0005\n"
     ]
    },
    {
     "name": "stderr",
     "output_type": "stream",
     "text": [
      "Epoch 68/100: 100%|██████████| 50/50 [00:09<00:00,  5.37it/s, loss=0.000457]\n"
     ]
    },
    {
     "name": "stdout",
     "output_type": "stream",
     "text": [
      "Epoch 68, Average Loss: 0.0005\n"
     ]
    },
    {
     "name": "stderr",
     "output_type": "stream",
     "text": [
      "Epoch 69/100: 100%|██████████| 50/50 [00:09<00:00,  5.38it/s, loss=0.000481]\n"
     ]
    },
    {
     "name": "stdout",
     "output_type": "stream",
     "text": [
      "Epoch 69, Average Loss: 0.0005\n",
      "Saved new best model with loss: 0.0005\n"
     ]
    },
    {
     "name": "stderr",
     "output_type": "stream",
     "text": [
      "Epoch 70/100: 100%|██████████| 50/50 [00:09<00:00,  5.53it/s, loss=0.000484]\n"
     ]
    },
    {
     "name": "stdout",
     "output_type": "stream",
     "text": [
      "Epoch 70, Average Loss: 0.0005\n",
      "Saved new best model with loss: 0.0005\n"
     ]
    },
    {
     "name": "stderr",
     "output_type": "stream",
     "text": [
      "Epoch 71/100: 100%|██████████| 50/50 [00:09<00:00,  5.40it/s, loss=0.00044] \n"
     ]
    },
    {
     "name": "stdout",
     "output_type": "stream",
     "text": [
      "Epoch 71, Average Loss: 0.0004\n",
      "Saved new best model with loss: 0.0004\n"
     ]
    },
    {
     "name": "stderr",
     "output_type": "stream",
     "text": [
      "Epoch 72/100: 100%|██████████| 50/50 [00:09<00:00,  5.35it/s, loss=0.000465]\n"
     ]
    },
    {
     "name": "stdout",
     "output_type": "stream",
     "text": [
      "Epoch 72, Average Loss: 0.0005\n"
     ]
    },
    {
     "name": "stderr",
     "output_type": "stream",
     "text": [
      "Epoch 73/100: 100%|██████████| 50/50 [00:09<00:00,  5.27it/s, loss=0.000452]\n"
     ]
    },
    {
     "name": "stdout",
     "output_type": "stream",
     "text": [
      "Epoch 73, Average Loss: 0.0005\n"
     ]
    },
    {
     "name": "stderr",
     "output_type": "stream",
     "text": [
      "Epoch 74/100: 100%|██████████| 50/50 [00:09<00:00,  5.39it/s, loss=0.000448]\n"
     ]
    },
    {
     "name": "stdout",
     "output_type": "stream",
     "text": [
      "Epoch 74, Average Loss: 0.0004\n"
     ]
    },
    {
     "name": "stderr",
     "output_type": "stream",
     "text": [
      "Epoch 75/100: 100%|██████████| 50/50 [00:09<00:00,  5.39it/s, loss=0.000429]\n"
     ]
    },
    {
     "name": "stdout",
     "output_type": "stream",
     "text": [
      "Epoch 75, Average Loss: 0.0005\n"
     ]
    },
    {
     "name": "stderr",
     "output_type": "stream",
     "text": [
      "Epoch 76/100: 100%|██████████| 50/50 [00:09<00:00,  5.30it/s, loss=0.000446]\n"
     ]
    },
    {
     "name": "stdout",
     "output_type": "stream",
     "text": [
      "Epoch 76, Average Loss: 0.0004\n"
     ]
    },
    {
     "name": "stderr",
     "output_type": "stream",
     "text": [
      "Epoch 77/100: 100%|██████████| 50/50 [00:09<00:00,  5.31it/s, loss=0.000489]\n"
     ]
    },
    {
     "name": "stdout",
     "output_type": "stream",
     "text": [
      "Epoch 77, Average Loss: 0.0004\n"
     ]
    },
    {
     "name": "stderr",
     "output_type": "stream",
     "text": [
      "Epoch 78/100: 100%|██████████| 50/50 [00:09<00:00,  5.29it/s, loss=0.000476]\n"
     ]
    },
    {
     "name": "stdout",
     "output_type": "stream",
     "text": [
      "Epoch 78, Average Loss: 0.0004\n",
      "Saved new best model with loss: 0.0004\n"
     ]
    },
    {
     "name": "stderr",
     "output_type": "stream",
     "text": [
      "Epoch 79/100: 100%|██████████| 50/50 [00:09<00:00,  5.29it/s, loss=0.000438]\n"
     ]
    },
    {
     "name": "stdout",
     "output_type": "stream",
     "text": [
      "Epoch 79, Average Loss: 0.0004\n"
     ]
    },
    {
     "name": "stderr",
     "output_type": "stream",
     "text": [
      "Epoch 80/100: 100%|██████████| 50/50 [00:09<00:00,  5.35it/s, loss=0.000441]\n"
     ]
    },
    {
     "name": "stdout",
     "output_type": "stream",
     "text": [
      "Epoch 80, Average Loss: 0.0004\n"
     ]
    },
    {
     "name": "stderr",
     "output_type": "stream",
     "text": [
      "Epoch 81/100: 100%|██████████| 50/50 [00:09<00:00,  5.35it/s, loss=0.000451]\n"
     ]
    },
    {
     "name": "stdout",
     "output_type": "stream",
     "text": [
      "Epoch 81, Average Loss: 0.0004\n"
     ]
    },
    {
     "name": "stderr",
     "output_type": "stream",
     "text": [
      "Epoch 82/100: 100%|██████████| 50/50 [00:09<00:00,  5.34it/s, loss=0.000385]\n"
     ]
    },
    {
     "name": "stdout",
     "output_type": "stream",
     "text": [
      "Epoch 82, Average Loss: 0.0004\n"
     ]
    },
    {
     "name": "stderr",
     "output_type": "stream",
     "text": [
      "Epoch 83/100: 100%|██████████| 50/50 [00:09<00:00,  5.39it/s, loss=0.000422]\n"
     ]
    },
    {
     "name": "stdout",
     "output_type": "stream",
     "text": [
      "Epoch 83, Average Loss: 0.0004\n"
     ]
    },
    {
     "name": "stderr",
     "output_type": "stream",
     "text": [
      "Epoch 84/100: 100%|██████████| 50/50 [00:09<00:00,  5.34it/s, loss=0.000447]\n"
     ]
    },
    {
     "name": "stdout",
     "output_type": "stream",
     "text": [
      "Epoch 84, Average Loss: 0.0004\n"
     ]
    },
    {
     "name": "stderr",
     "output_type": "stream",
     "text": [
      "Epoch 85/100: 100%|██████████| 50/50 [00:09<00:00,  5.30it/s, loss=0.000466]\n"
     ]
    },
    {
     "name": "stdout",
     "output_type": "stream",
     "text": [
      "Epoch 85, Average Loss: 0.0004\n",
      "Saved new best model with loss: 0.0004\n"
     ]
    },
    {
     "name": "stderr",
     "output_type": "stream",
     "text": [
      "Epoch 86/100: 100%|██████████| 50/50 [00:09<00:00,  5.32it/s, loss=0.000457]\n"
     ]
    },
    {
     "name": "stdout",
     "output_type": "stream",
     "text": [
      "Epoch 86, Average Loss: 0.0004\n"
     ]
    },
    {
     "name": "stderr",
     "output_type": "stream",
     "text": [
      "Epoch 87/100: 100%|██████████| 50/50 [00:09<00:00,  5.35it/s, loss=0.000416]\n"
     ]
    },
    {
     "name": "stdout",
     "output_type": "stream",
     "text": [
      "Epoch 87, Average Loss: 0.0004\n"
     ]
    },
    {
     "name": "stderr",
     "output_type": "stream",
     "text": [
      "Epoch 88/100: 100%|██████████| 50/50 [00:09<00:00,  5.36it/s, loss=0.000444]\n"
     ]
    },
    {
     "name": "stdout",
     "output_type": "stream",
     "text": [
      "Epoch 88, Average Loss: 0.0004\n"
     ]
    },
    {
     "name": "stderr",
     "output_type": "stream",
     "text": [
      "Epoch 89/100: 100%|██████████| 50/50 [00:09<00:00,  5.28it/s, loss=0.000455]\n"
     ]
    },
    {
     "name": "stdout",
     "output_type": "stream",
     "text": [
      "Epoch 89, Average Loss: 0.0004\n"
     ]
    },
    {
     "name": "stderr",
     "output_type": "stream",
     "text": [
      "Epoch 90/100: 100%|██████████| 50/50 [00:09<00:00,  5.21it/s, loss=0.000433]\n"
     ]
    },
    {
     "name": "stdout",
     "output_type": "stream",
     "text": [
      "Epoch 90, Average Loss: 0.0004\n"
     ]
    },
    {
     "name": "stderr",
     "output_type": "stream",
     "text": [
      "Epoch 91/100: 100%|██████████| 50/50 [00:09<00:00,  5.26it/s, loss=0.000448]\n"
     ]
    },
    {
     "name": "stdout",
     "output_type": "stream",
     "text": [
      "Epoch 91, Average Loss: 0.0004\n"
     ]
    },
    {
     "name": "stderr",
     "output_type": "stream",
     "text": [
      "Epoch 92/100: 100%|██████████| 50/50 [00:09<00:00,  5.19it/s, loss=0.000458]\n"
     ]
    },
    {
     "name": "stdout",
     "output_type": "stream",
     "text": [
      "Epoch 92, Average Loss: 0.0004\n"
     ]
    },
    {
     "name": "stderr",
     "output_type": "stream",
     "text": [
      "Epoch 93/100: 100%|██████████| 50/50 [00:09<00:00,  5.29it/s, loss=0.000439]\n"
     ]
    },
    {
     "name": "stdout",
     "output_type": "stream",
     "text": [
      "Epoch 93, Average Loss: 0.0004\n"
     ]
    },
    {
     "name": "stderr",
     "output_type": "stream",
     "text": [
      "Epoch 94/100: 100%|██████████| 50/50 [00:09<00:00,  5.39it/s, loss=0.000451]\n"
     ]
    },
    {
     "name": "stdout",
     "output_type": "stream",
     "text": [
      "Epoch 94, Average Loss: 0.0004\n",
      "Saved new best model with loss: 0.0004\n"
     ]
    },
    {
     "name": "stderr",
     "output_type": "stream",
     "text": [
      "Epoch 95/100: 100%|██████████| 50/50 [00:09<00:00,  5.27it/s, loss=0.000425]\n"
     ]
    },
    {
     "name": "stdout",
     "output_type": "stream",
     "text": [
      "Epoch 95, Average Loss: 0.0004\n"
     ]
    },
    {
     "name": "stderr",
     "output_type": "stream",
     "text": [
      "Epoch 96/100: 100%|██████████| 50/50 [00:09<00:00,  5.35it/s, loss=0.000448]\n"
     ]
    },
    {
     "name": "stdout",
     "output_type": "stream",
     "text": [
      "Epoch 96, Average Loss: 0.0004\n",
      "Saved new best model with loss: 0.0004\n"
     ]
    },
    {
     "name": "stderr",
     "output_type": "stream",
     "text": [
      "Epoch 97/100: 100%|██████████| 50/50 [00:09<00:00,  5.51it/s, loss=0.000444]\n"
     ]
    },
    {
     "name": "stdout",
     "output_type": "stream",
     "text": [
      "Epoch 97, Average Loss: 0.0004\n"
     ]
    },
    {
     "name": "stderr",
     "output_type": "stream",
     "text": [
      "Epoch 98/100: 100%|██████████| 50/50 [00:09<00:00,  5.47it/s, loss=0.000413]\n"
     ]
    },
    {
     "name": "stdout",
     "output_type": "stream",
     "text": [
      "Epoch 98, Average Loss: 0.0004\n"
     ]
    },
    {
     "name": "stderr",
     "output_type": "stream",
     "text": [
      "Epoch 99/100: 100%|██████████| 50/50 [00:08<00:00,  5.61it/s, loss=0.00044] \n"
     ]
    },
    {
     "name": "stdout",
     "output_type": "stream",
     "text": [
      "Epoch 99, Average Loss: 0.0004\n"
     ]
    },
    {
     "name": "stderr",
     "output_type": "stream",
     "text": [
      "Epoch 100/100: 100%|██████████| 50/50 [00:09<00:00,  5.40it/s, loss=0.000474]\n"
     ]
    },
    {
     "name": "stdout",
     "output_type": "stream",
     "text": [
      "Epoch 100, Average Loss: 0.0004\n",
      "Training completed!\n"
     ]
    },
    {
     "data": {
      "image/png": "[encoded data removed]",
      "text/plain": [
       "<Figure size 1000x600 with 1 Axes>"
      ]
     },
     "metadata": {},
     "output_type": "display_data"
    }
   ],
   "source": [
    "# Set up GPU device and print memory info\n",
    "device = torch.device('cuda' if torch.cuda.is_available() else 'cpu')\n",
    "print(f\"Using device: {device}\")\n",
    "\n",
    "if torch.cuda.is_available():\n",
    "    print(f\"Initial GPU memory: {torch.cuda.memory_allocated()/1e9:.2f} GB\")\n",
    "\n",
    "# Try to load cached data first\n",
    "cached_data_path = 'gpu_processed_graph.pt'\n",
    "try:\n",
    "    print(\"Attempting to load cached graph data...\")\n",
    "    data = torch.load(cached_data_path)\n",
    "    data = data.to(device)\n",
    "    print(\"Successfully loaded cached graph data!\")\n",
    "except FileNotFoundError:\n",
    "    print(\"No cached data found. Processing graph from scratch...\")\n",
    "    # Prepare the data\n",
    "    data = prepare_graph_data(graph, device)\n",
    "    # Cache the processed data\n",
    "    print(\"Caching processed graph data...\")\n",
    "    torch.save(data, cached_data_path)\n",
    "    print(\"Graph data cached successfully!\")\n",
    "\n",
    "in_channels = data.x.size(1)\n",
    "\n",
    "# Initialize model\n",
    "print(\"Initializing model...\")\n",
    "model = EfficientGraphSAGE(\n",
    "    in_channels=in_channels,\n",
    "    hidden_channels=512,  # Increased to help with dimensionality reduction\n",
    "    out_channels=384,    # Changed to desired embedding size\n",
    "    num_layers=3,        # Added an extra layer to help with dimensionality reduction\n",
    "    dropout=0.2\n",
    ").to(device)\n",
    "\n",
    "# Set up optimizer with different learning rates for different components\n",
    "optimizer = torch.optim.AdamW([\n",
    "    {'params': model.convs.parameters(), 'lr': 0.001},\n",
    "    {'params': model.batch_norm.parameters(), 'lr': 0.001}\n",
    "])\n",
    "\n",
    "# Try to load checkpoint if it exists\n",
    "start_epoch = 0\n",
    "training_losses = []  # Store losses for plotting\n",
    "try:\n",
    "    checkpoint = torch.load('best_graphsage_model.pt')\n",
    "    model.load_state_dict(checkpoint['model_state_dict'])\n",
    "    optimizer.load_state_dict(checkpoint['optimizer_state_dict'])\n",
    "    start_epoch = checkpoint['epoch'] + 1\n",
    "    best_loss = checkpoint['loss']\n",
    "    if 'training_losses' in checkpoint:\n",
    "        training_losses = checkpoint['training_losses']\n",
    "    print(f\"Loaded checkpoint from epoch {start_epoch-1} with loss {best_loss:.4f}\")\n",
    "except FileNotFoundError:\n",
    "    print(\"No checkpoint found, starting fresh training\")\n",
    "    best_loss = float('inf')\n",
    "\n",
    "# Learning rate scheduler\n",
    "scheduler = torch.optim.lr_scheduler.ReduceLROnPlateau(\n",
    "    optimizer, mode='min', factor=0.5, patience=5, verbose=True\n",
    ")\n",
    "\n",
    "# Process data in smaller chunks if needed\n",
    "batch_size = 512  # Smaller batch size for memory efficiency\n",
    "train_loader = NeighborLoader(\n",
    "    data,\n",
    "    num_neighbors=[10, 5],  # Reduced number of neighbors\n",
    "    batch_size=batch_size,\n",
    "    shuffle=True,\n",
    "    num_workers=4\n",
    ")\n",
    "\n",
    "# Print memory usage after data loading\n",
    "if torch.cuda.is_available():\n",
    "    print(f\"GPU memory after data loading: {torch.cuda.memory_allocated()/1e9:.2f} GB\")\n",
    "\n",
    "num_epochs = 100\n",
    "patience = 10\n",
    "patience_counter = 0\n",
    "\n",
    "# Enable automatic mixed precision for faster training\n",
    "scaler = torch.cuda.amp.GradScaler()\n",
    "\n",
    "print(f\"Starting training from epoch {start_epoch+1} to {num_epochs}...\")\n",
    "for epoch in range(start_epoch, num_epochs):\n",
    "    model.train()\n",
    "    total_loss = 0\n",
    "    num_batches = 0\n",
    "    \n",
    "    # Process batches with progress bar\n",
    "    pbar = tqdm(train_loader, desc=f'Epoch {epoch+1}/{num_epochs}')\n",
    "    for batch in pbar:\n",
    "        batch = batch.to(device)\n",
    "        optimizer.zero_grad()\n",
    "        \n",
    "        # Use automatic mixed precision\n",
    "        with torch.cuda.amp.autocast():\n",
    "            # Forward pass\n",
    "            out = model(batch.x, batch.edge_index)[:batch.batch_size]  # Only take batch_size nodes\n",
    "            \n",
    "            # Project target to same dimension as output\n",
    "            target = batch.x[:batch.batch_size]\n",
    "            target_projected = torch.nn.Linear(target.shape[1], 384).to(device)(target)\n",
    "            \n",
    "            loss = F.mse_loss(out, target_projected)\n",
    "            \n",
    "            # Add L2 regularization\n",
    "            l2_reg = 0\n",
    "            for param in model.parameters():\n",
    "                l2_reg += torch.norm(param)\n",
    "            loss += 0.001 * l2_reg\n",
    "        \n",
    "        # Backward pass with gradient scaling\n",
    "        scaler.scale(loss).backward()\n",
    "        \n",
    "        # Gradient clipping\n",
    "        scaler.unscale_(optimizer)\n",
    "        torch.nn.utils.clip_grad_norm_(model.parameters(), max_norm=1.0)\n",
    "        \n",
    "        scaler.step(optimizer)\n",
    "        scaler.update()\n",
    "        \n",
    "        total_loss += loss.item()\n",
    "        num_batches += 1\n",
    "        \n",
    "        # Update progress bar\n",
    "        pbar.set_postfix({'loss': loss.item()})\n",
    "    \n",
    "    # Compute average loss\n",
    "    avg_loss = total_loss / num_batches\n",
    "    training_losses.append(avg_loss)\n",
    "    print(f'Epoch {epoch+1}, Average Loss: {avg_loss:.4f}')\n",
    "    \n",
    "    # Learning rate scheduling\n",
    "    scheduler.step(avg_loss)\n",
    "    \n",
    "    # Early stopping check\n",
    "    if avg_loss < best_loss:\n",
    "        best_loss = avg_loss\n",
    "        patience_counter = 0\n",
    "        # Save best model\n",
    "        torch.save({\n",
    "            'epoch': epoch,\n",
    "            'model_state_dict': model.state_dict(),\n",
    "            'optimizer_state_dict': optimizer.state_dict(),\n",
    "            'loss': best_loss,\n",
    "            'training_losses': training_losses\n",
    "        }, 'best_graphsage_model.pt')\n",
    "        print(f\"Saved new best model with loss: {best_loss:.4f}\")\n",
    "    else:\n",
    "        patience_counter += 1\n",
    "        \n",
    "    if patience_counter >= patience:\n",
    "        print(\"Early stopping triggered!\")\n",
    "        break\n",
    "\n",
    "print(\"Training completed!\")\n",
    "\n",
    "# Plot training loss\n",
    "import matplotlib.pyplot as plt\n",
    "plt.figure(figsize=(10, 6))\n",
    "plt.plot(range(len(training_losses)), training_losses)\n",
    "plt.title('Training Loss Over Time')\n",
    "plt.xlabel('Epoch')\n",
    "plt.ylabel('Loss')\n",
    "plt.grid(True)\n",
    "plt.show()"
   ]
  },
  {
   "cell_type": "markdown",
   "metadata": {},
   "source": [
    "# Generate the embeddings from the model"
   ]
  },
  {
   "cell_type": "code",
   "execution_count": 6,
   "metadata": {},
   "outputs": [],
   "source": [
    "import pickle\n",
    "import torch\n",
    "import torch.nn.functional as F\n",
    "from torch_geometric.nn import SAGEConv\n",
    "from torch_geometric.loader import NeighborLoader\n",
    "from torch_geometric.data import Data\n",
    "from torch_geometric.utils import from_networkx\n",
    "import numpy as np\n",
    "from tqdm import tqdm"
   ]
  },
  {
   "cell_type": "code",
   "execution_count": 7,
   "metadata": {},
   "outputs": [],
   "source": [
    "# Define the GraphSAGE model\n",
    "class EfficientGraphSAGE(torch.nn.Module):\n",
    "    def __init__(\n",
    "        self,\n",
    "        in_channels,\n",
    "        hidden_channels=256,\n",
    "        out_channels=128,\n",
    "        num_layers=2,\n",
    "        dropout=0.2\n",
    "    ):\n",
    "        super().__init__()\n",
    "        self.num_layers = num_layers\n",
    "        \n",
    "        # Input layer\n",
    "        self.convs = torch.nn.ModuleList()\n",
    "        self.convs.append(SAGEConv(in_channels, hidden_channels, aggr='mean'))\n",
    "        \n",
    "        # Hidden layers\n",
    "        for _ in range(num_layers - 2):\n",
    "            self.convs.append(SAGEConv(hidden_channels, hidden_channels, aggr='mean'))\n",
    "        \n",
    "        # Output layer\n",
    "        self.convs.append(SAGEConv(hidden_channels, out_channels, aggr='mean'))\n",
    "        \n",
    "        self.dropout = torch.nn.Dropout(dropout)\n",
    "        self.batch_norm = torch.nn.ModuleList([\n",
    "            torch.nn.BatchNorm1d(hidden_channels) for _ in range(num_layers-1)\n",
    "        ])\n",
    "        self.batch_norm.append(torch.nn.BatchNorm1d(out_channels))\n",
    "\n",
    "    def forward(self, x, edge_index):\n",
    "        for i, conv in enumerate(self.convs[:-1]):\n",
    "            x = conv(x, edge_index)\n",
    "            x = self.batch_norm[i](x)\n",
    "            x = F.relu(x)\n",
    "            x = self.dropout(x)\n",
    "        x = self.convs[-1](x, edge_index)\n",
    "        x = self.batch_norm[-1](x)\n",
    "        return x\n",
    "    \n",
    "def prepare_graph_data(graph, device):\n",
    "    \"\"\"Convert NetworkX graph to PyG data with numpy string handling\"\"\"\n",
    "    print(\"Converting NetworkX graph to PyG format...\")\n",
    "    \n",
    "    # Extract node features and edge index\n",
    "    node_features = []\n",
    "    \n",
    "    # Get a sample node to check structure\n",
    "    first_node = list(graph.nodes())[0]\n",
    "    print(\"\\nSample node data:\")\n",
    "    print(f\"Title embedding type: {type(graph.nodes[first_node]['job_title_embedding'])}\")\n",
    "    print(f\"Title embedding length: {len(graph.nodes[first_node]['job_title_embedding'])}\")\n",
    "    \n",
    "    try:\n",
    "        for node in tqdm(graph.nodes(), desc=\"Extracting node features\"):\n",
    "            features = []\n",
    "            \n",
    "            # Convert string representations to numpy arrays\n",
    "            # Using string split and conversion for memory efficiency\n",
    "            title_str = graph.nodes[node]['job_title_embedding']\n",
    "            title_emb = np.fromstring(title_str.strip('[]'), sep=' ')\n",
    "            \n",
    "            desc_str = graph.nodes[node]['job_description_embedding']\n",
    "            desc_emb = np.fromstring(desc_str.strip('[]'), sep=' ')\n",
    "            \n",
    "            type_str = graph.nodes[node]['job_type_encoding']\n",
    "            type_emb = np.fromstring(type_str.strip('[]'), sep=' ')\n",
    "            \n",
    "            # Combine all embeddings\n",
    "            features.extend(title_emb)\n",
    "            features.extend(desc_emb)\n",
    "            features.extend(type_emb)\n",
    "            node_features.append(features)\n",
    "            \n",
    "            # Print first node information\n",
    "            if len(node_features) == 1:\n",
    "                print(f\"\\nFeature dimensions for first node:\")\n",
    "                print(f\"Title embedding: {len(title_emb)}\")\n",
    "                print(f\"Description embedding: {len(desc_emb)}\")\n",
    "                print(f\"Job type encoding: {len(type_emb)}\")\n",
    "                print(f\"Total features: {len(features)}\")\n",
    "    \n",
    "    except Exception as e:\n",
    "        print(f\"\\nError processing node features: {str(e)}\")\n",
    "        print(\"\\nDetailed error information:\")\n",
    "        print(f\"Node: {node}\")\n",
    "        print(f\"Title embedding sample: {graph.nodes[node]['job_title_embedding'][:100]}\")\n",
    "        raise\n",
    "\n",
    "    # Convert to tensors\n",
    "    try:\n",
    "        x = torch.tensor(np.array(node_features), dtype=torch.float)\n",
    "        print(f\"\\nNode features tensor shape: {x.shape}\")\n",
    "    except Exception as e:\n",
    "        print(f\"\\nError converting to tensor: {str(e)}\")\n",
    "        print(f\"Node features list shape: {len(node_features)} x {len(node_features[0]) if node_features else 0}\")\n",
    "        raise\n",
    "    \n",
    "    # Create edge index and weights\n",
    "    print(\"\\nProcessing edges...\")\n",
    "    edge_index = []\n",
    "    edge_weights = []\n",
    "    \n",
    "    try:\n",
    "        for u, v, data in tqdm(graph.edges(data=True), desc=\"Processing edges\"):\n",
    "            u_idx = int(u.split('_')[1])\n",
    "            v_idx = int(v.split('_')[1])\n",
    "            edge_index.append([u_idx, v_idx])\n",
    "            edge_weights.append(float(data.get('weight', 1.0)))\n",
    "    except Exception as e:\n",
    "        print(f\"\\nError processing edges: {str(e)}\")\n",
    "        print(f\"Sample edge: {u} -> {v}\")\n",
    "        print(f\"Edge data: {data}\")\n",
    "        raise\n",
    "\n",
    "    edge_index = torch.tensor(edge_index, dtype=torch.long).t().contiguous()\n",
    "    edge_weights = torch.tensor(edge_weights, dtype=torch.float)\n",
    "    \n",
    "    # Create PyG data object\n",
    "    data = Data(\n",
    "        x=x,\n",
    "        edge_index=edge_index,\n",
    "        edge_weight=edge_weights,\n",
    "        num_nodes=len(graph)\n",
    "    )\n",
    "    \n",
    "    print(\"\\nData preparation completed successfully!\")\n",
    "    print(f\"Features shape: {data.x.shape}\")\n",
    "    print(f\"Edge index shape: {data.edge_index.shape}\")\n",
    "    print(f\"Edge weights shape: {data.edge_weight.shape}\")\n",
    "    \n",
    "    return data.to(device)"
   ]
  },
  {
   "cell_type": "code",
   "execution_count": 8,
   "metadata": {},
   "outputs": [
    {
     "name": "stdout",
     "output_type": "stream",
     "text": [
      "Using device: cuda\n",
      "Initial GPU memory: 1.72 GB\n",
      "Attempting to load cached graph data...\n"
     ]
    },
    {
     "name": "stderr",
     "output_type": "stream",
     "text": [
      "C:\\Users\\Brandon\\AppData\\Local\\Temp\\ipykernel_21448\\554859613.py:12: FutureWarning: You are using `torch.load` with `weights_only=False` (the current default value), which uses the default pickle module implicitly. It is possible to construct malicious pickle data which will execute arbitrary code during unpickling (See https://github.com/pytorch/pytorch/blob/main/SECURITY.md#untrusted-models for more details). In a future release, the default value for `weights_only` will be flipped to `True`. This limits the functions that could be executed during unpickling. Arbitrary objects will no longer be allowed to be loaded via this mode unless they are explicitly allowlisted by the user via `torch.serialization.add_safe_globals`. We recommend you start setting `weights_only=True` for any use case where you don't have full control of the loaded file. Please open an issue on GitHub for any issues related to this experimental feature.\n",
      "  data = torch.load(cached_data_path)\n"
     ]
    },
    {
     "name": "stdout",
     "output_type": "stream",
     "text": [
      "Successfully loaded cached graph data!\n",
      "Initializing model...\n"
     ]
    }
   ],
   "source": [
    "# Set up GPU device and print memory info\n",
    "device = torch.device('cuda' if torch.cuda.is_available() else 'cpu')\n",
    "print(f\"Using device: {device}\")\n",
    "\n",
    "if torch.cuda.is_available():\n",
    "    print(f\"Initial GPU memory: {torch.cuda.memory_allocated()/1e9:.2f} GB\")\n",
    "\n",
    "# Try to load cached data first\n",
    "cached_data_path = 'gpu_processed_graph.pt'\n",
    "try:\n",
    "    print(\"Attempting to load cached graph data...\")\n",
    "    data = torch.load(cached_data_path)\n",
    "    data = data.to(device)\n",
    "    print(\"Successfully loaded cached graph data!\")\n",
    "except FileNotFoundError:\n",
    "    print(\"No cached data found. Processing graph from scratch...\")\n",
    "    # Prepare the data\n",
    "    data = prepare_graph_data(graph, device)\n",
    "    # Cache the processed data\n",
    "    print(\"Caching processed graph data...\")\n",
    "    torch.save(data, cached_data_path)\n",
    "    print(\"Graph data cached successfully!\")\n",
    "\n",
    "in_channels = data.x.size(1)\n",
    "\n",
    "# Initialize model\n",
    "print(\"Initializing model...\")\n",
    "model = EfficientGraphSAGE(\n",
    "    in_channels=in_channels,\n",
    "    hidden_channels=512,  # Increased to help with dimensionality reduction\n",
    "    out_channels=384,    # Changed to desired embedding size\n",
    "    num_layers=3,        # Added an extra layer to help with dimensionality reduction\n",
    "    dropout=0.2\n",
    ").to(device)"
   ]
  },
  {
   "cell_type": "code",
   "execution_count": 10,
   "metadata": {},
   "outputs": [
    {
     "name": "stdout",
     "output_type": "stream",
     "text": [
      "Loading best model...\n",
      "Generating embeddings...\n"
     ]
    },
    {
     "name": "stderr",
     "output_type": "stream",
     "text": [
      "100%|██████████| 393/393 [16:32<00:00,  2.53s/it]\n"
     ]
    },
    {
     "name": "stdout",
     "output_type": "stream",
     "text": [
      "Generated embeddings shape: torch.Size([25142, 384])\n",
      "Embeddings saved successfully!\n"
     ]
    }
   ],
   "source": [
    "# Set CUDA launch blocking for better error tracking\n",
    "import os\n",
    "os.environ['CUDA_LAUNCH_BLOCKING'] = '1'\n",
    "\n",
    "# Load the best model and generate embeddings\n",
    "print(\"Loading best model...\")\n",
    "checkpoint = torch.load('best_graphsage_model.pt', weights_only=True)  # Set weights_only=True\n",
    "model.load_state_dict(checkpoint['model_state_dict'])\n",
    "model.eval()\n",
    "\n",
    "def generate_embeddings(model, data, batch_size=64):  # Reduced batch size to 64\n",
    "    \"\"\"Generate embeddings for all nodes\"\"\"\n",
    "    print(\"Generating embeddings...\")\n",
    "    embeddings = []\n",
    "    model.eval()\n",
    "    \n",
    "    # Get list of all edges and keep on CPU\n",
    "    edge_index = data.edge_index.cpu()\n",
    "    data.x = data.x.cpu()  # Move features to CPU\n",
    "    \n",
    "    with torch.no_grad():\n",
    "        for i in tqdm(range(0, data.num_nodes, batch_size)):\n",
    "            batch_end = min(i + batch_size, data.num_nodes)\n",
    "            batch_nodes = list(range(i, batch_end))\n",
    "            \n",
    "            # Process edge mask on CPU\n",
    "            mask = (edge_index[0].unsqueeze(1) == torch.tensor(batch_nodes)).any(dim=1) | \\\n",
    "                   (edge_index[1].unsqueeze(1) == torch.tensor(batch_nodes)).any(dim=1)\n",
    "            \n",
    "            # Only move necessary data to GPU\n",
    "            batch_edge_index = edge_index[:, mask].to(device)\n",
    "            batch_x = data.x.to(device)  # Move all node features to GPU\n",
    "            \n",
    "            try:\n",
    "                # Verify indices are in valid range\n",
    "                max_index = batch_edge_index.max().item()\n",
    "                if max_index >= batch_x.size(0):\n",
    "                    print(f\"Invalid index found: {max_index} >= {batch_x.size(0)}\")\n",
    "                    continue\n",
    "                    \n",
    "                # Generate embeddings for batch\n",
    "                batch_emb = model(batch_x, batch_edge_index)\n",
    "                embeddings.append(batch_emb[i:batch_end].cpu())  # Only keep embeddings for batch nodes\n",
    "            except RuntimeError as e:\n",
    "                print(f\"Error with batch {i}-{batch_end}: {str(e)}\")\n",
    "                del batch_edge_index, batch_x\n",
    "                torch.cuda.empty_cache()\n",
    "                continue\n",
    "                \n",
    "            # Clear GPU memory\n",
    "            del batch_edge_index, batch_x\n",
    "            torch.cuda.empty_cache()\n",
    "    \n",
    "    # Concatenate all embeddings on CPU\n",
    "    all_embeddings = torch.cat(embeddings, dim=0)\n",
    "    print(f\"Generated embeddings shape: {all_embeddings.shape}\")\n",
    "    return all_embeddings\n",
    "\n",
    "# Generate and save embeddings\n",
    "node_embeddings = generate_embeddings(model, data)\n",
    "torch.save(node_embeddings, 'node_embeddings.pt')\n",
    "print(\"Embeddings saved successfully!\")"
   ]
  },
  {
   "cell_type": "code",
   "execution_count": null,
   "metadata": {},
   "outputs": [],
   "source": []
  }
 ],
 "metadata": {
  "kernelspec": {
   "display_name": "graph",
   "language": "python",
   "name": "python3"
  },
  "language_info": {
   "codemirror_mode": {
    "name": "ipython",
    "version": 3
   },
   "file_extension": ".py",
   "mimetype": "text/x-python",
   "name": "python",
   "nbconvert_exporter": "python",
   "pygments_lexer": "ipython3",
   "version": "3.10.15"
  }
 },
 "nbformat": 4,
 "nbformat_minor": 2
}
