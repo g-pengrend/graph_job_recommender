{
 "cells": [
  {
   "cell_type": "code",
   "execution_count": 18,
   "metadata": {},
   "outputs": [],
   "source": [
    "prompt1 = f\"\"\"You are an expert in understanding job descriptions and extracting the details and even nuanced requirements for the job. Your goal is to read the input slowly and take time to consider what is written, extract the information and break it down into these 3 aspects:\n",
    "    1. responsibilites \n",
    "    2. qualifications\n",
    "    3. skills, technical and non-technical\n",
    "and summarize it in point form line by line.\n",
    "With each aspect answered, ensure that each of the aspects are properly differentiated and avoid overlaps as much as possible.\"\"\""
   ]
  },
  {
   "cell_type": "code",
   "execution_count": 19,
   "metadata": {},
   "outputs": [
    {
     "name": "stdout",
     "output_type": "stream",
     "text": [
      "Input description: This is a gaming mouse with RGB lighting, 6 programmable buttons, and ergonomic design\n",
      "\n",
      "Model response: \n",
      "\n",
      "Introducing our state-of-the-art Gaming Mouse, engineered to provide an exceptional gaming experience. The innovative design features RGB lighting, allowing you to customize the illumination according to your preferences. Our product also boasts 6 programmable buttons that can be tailored to suit your specific gameplay style, giving you a competitive edge in any match. Furthermore, the ergonomic design ensures optimal comfort during extended gaming sessions, reducing hand fatigue and allowing you to stay focused on the task at hand.\n"
     ]
    }
   ],
   "source": [
    "import ollama\n",
    "\n",
    "def test_llm():\n",
    "    # Test description\n",
    "    test_description = \"This is a gaming mouse with RGB lighting, 6 programmable buttons, and ergonomic design\"\n",
    "    \n",
    "    # System prompt\n",
    "    prompt = \"You are a helpful assistant that cleans product descriptions. Make them more professional and organized.\"\n",
    "    \n",
    "    try:\n",
    "        # Call the model directly\n",
    "        response = ollama.chat(\n",
    "            model='capybarahermes-2.5-mistral-7b.Q5_K_M.gguf:latest',\n",
    "            messages=[\n",
    "                {'role': 'system', 'content': prompt},\n",
    "                {'role': 'user', 'content': test_description}\n",
    "            ]\n",
    "        )\n",
    "        \n",
    "        print(\"Input description:\", test_description)\n",
    "        print(\"\\nModel response:\", response['message']['content'])\n",
    "        \n",
    "    except Exception as e:\n",
    "        print(f\"Error occurred: {e}\")\n",
    "\n",
    "# Run the test\n",
    "test_llm()"
   ]
  },
  {
   "cell_type": "code",
   "execution_count": 20,
   "metadata": {},
   "outputs": [],
   "source": [
    "import os\n",
    "import pandas as pd\n",
    "from tqdm import tqdm\n",
    "import ollama\n",
    "\n",
    "def process_row(row, prompt1):\n",
    "    \"\"\"Function to process a single row.\"\"\"\n",
    "    try:\n",
    "        # Skip if model_response already exists and is not empty\n",
    "        if pd.notna(row['model_response']) and row['model_response'].strip():\n",
    "            return row['model_response']\n",
    "            \n",
    "        model_name = 'capybarahermes-2.5-mistral-7b.Q5_K_M.gguf:latest'\n",
    "        \n",
    "        response = ollama.chat(\n",
    "            model=model_name,\n",
    "            messages=[\n",
    "                {'role': 'system', 'content': prompt1},\n",
    "                {'role': 'user', 'content': row['description']}\n",
    "            ]\n",
    "        )\n",
    "        return response['message']['content']\n",
    "    except Exception as e:\n",
    "        print(f\"Error processing row {row.name}. Error: {e}\")\n",
    "        return None\n",
    "\n",
    "def process_dataframe(df, prompt1):\n",
    "    \"\"\"Process rows with missing model_response values.\"\"\"\n",
    "    # Create a copy of the dataframe\n",
    "    processed_df = df.copy()\n",
    "    \n",
    "    # Get rows where model_response is NA\n",
    "    mask = processed_df['model_response'].isna()\n",
    "    rows_to_process = processed_df[mask]\n",
    "    \n",
    "    print(f\"Processing {len(rows_to_process)} rows with missing responses...\")\n",
    "    \n",
    "    # Process each row that needs processing\n",
    "    for idx, row in tqdm(rows_to_process.iterrows(), total=len(rows_to_process)):\n",
    "        response = process_row(row, prompt1)\n",
    "        processed_df.at[idx, 'model_response'] = response\n",
    "        \n",
    "    print(\"Processing complete.\")\n",
    "    return processed_df\n"
   ]
  },
  {
   "cell_type": "code",
   "execution_count": 4,
   "metadata": {},
   "outputs": [
    {
     "name": "stdout",
     "output_type": "stream",
     "text": [
      "Original df rows: 25611\n",
      "df_cleaned rows: 23083\n",
      "Merged df rows: 25611\n"
     ]
    }
   ],
   "source": [
    "# Read both dataframes\n",
    "df = pd.read_csv(\"../4. Geolocating/4.2.updated_file_with_geolocation.csv\")\n",
    "df_cleaned = pd.read_csv(\"5.1.description_cleaned.csv\")\n",
    "\n",
    "# Drop lat_long from df_cleaned since we'll keep df's version\n",
    "df_cleaned = df_cleaned.drop(columns=['lat_long'])\n",
    "\n",
    "# Merge df_cleaned into df, keeping all rows from df\n",
    "df_new = df.merge(df_cleaned[['title', 'company', 'job_type', 'is_remote', 'description', 'address', 'cleaned_address', 'model_response']], \n",
    "              on=['title', 'company', 'job_type', 'is_remote', 'description', 'address', 'cleaned_address'],\n",
    "              how='left')\n",
    "\n",
    "df_new=df_new.drop_duplicates()\n",
    "# Verify the merge by checking number of rows\n",
    "print(\"Original df rows:\", len(df))\n",
    "print(\"df_cleaned rows:\", len(df_cleaned))\n",
    "print(\"Merged df rows:\", len(df_new))\n",
    "\n",
    "df_new.to_csv(\"5.2.merged_df.csv\", index=False)"
   ]
  },
  {
   "cell_type": "code",
   "execution_count": 5,
   "metadata": {},
   "outputs": [
    {
     "data": {
      "text/plain": [
       "2528"
      ]
     },
     "execution_count": 5,
     "metadata": {},
     "output_type": "execute_result"
    }
   ],
   "source": [
    "df_new['model_response'].isna().sum()"
   ]
  },
  {
   "cell_type": "code",
   "execution_count": 8,
   "metadata": {},
   "outputs": [
    {
     "name": "stdout",
     "output_type": "stream",
     "text": [
      "Processing 2528 rows with missing responses...\n"
     ]
    },
    {
     "name": "stderr",
     "output_type": "stream",
     "text": [
      "100%|██████████| 2528/2528 [2:53:16<00:00,  4.11s/it]  "
     ]
    },
    {
     "name": "stdout",
     "output_type": "stream",
     "text": [
      "Processing complete.\n"
     ]
    },
    {
     "name": "stderr",
     "output_type": "stream",
     "text": [
      "\n"
     ]
    }
   ],
   "source": [
    "result_df = process_dataframe(df_new, prompt1)"
   ]
  },
  {
   "cell_type": "code",
   "execution_count": 21,
   "metadata": {},
   "outputs": [
    {
     "data": {
      "text/plain": [
       "1"
      ]
     },
     "execution_count": 21,
     "metadata": {},
     "output_type": "execute_result"
    }
   ],
   "source": [
    "df_again = pd.read_csv(\"5.2.description_cleaned.csv\")\n",
    "df_again['model_response'].isna().sum()\n"
   ]
  },
  {
   "cell_type": "code",
   "execution_count": 22,
   "metadata": {},
   "outputs": [
    {
     "name": "stdout",
     "output_type": "stream",
     "text": [
      "Processing 1 rows with missing responses...\n"
     ]
    },
    {
     "name": "stderr",
     "output_type": "stream",
     "text": [
      "100%|██████████| 1/1 [00:04<00:00,  4.63s/it]"
     ]
    },
    {
     "name": "stdout",
     "output_type": "stream",
     "text": [
      "Processing complete.\n"
     ]
    },
    {
     "name": "stderr",
     "output_type": "stream",
     "text": [
      "\n"
     ]
    }
   ],
   "source": [
    "result_df = process_dataframe(df_again, prompt1)"
   ]
  },
  {
   "cell_type": "code",
   "execution_count": 23,
   "metadata": {},
   "outputs": [
    {
     "data": {
      "text/html": [
       "<div>\n",
       "<style scoped>\n",
       "    .dataframe tbody tr th:only-of-type {\n",
       "        vertical-align: middle;\n",
       "    }\n",
       "\n",
       "    .dataframe tbody tr th {\n",
       "        vertical-align: top;\n",
       "    }\n",
       "\n",
       "    .dataframe thead th {\n",
       "        text-align: right;\n",
       "    }\n",
       "</style>\n",
       "<table border=\"1\" class=\"dataframe\">\n",
       "  <thead>\n",
       "    <tr style=\"text-align: right;\">\n",
       "      <th></th>\n",
       "      <th>title</th>\n",
       "      <th>company</th>\n",
       "      <th>job_type</th>\n",
       "      <th>is_remote</th>\n",
       "      <th>description</th>\n",
       "      <th>address</th>\n",
       "      <th>cleaned_address</th>\n",
       "      <th>lat_long</th>\n",
       "      <th>model_response</th>\n",
       "    </tr>\n",
       "  </thead>\n",
       "  <tbody>\n",
       "    <tr>\n",
       "      <th>0</th>\n",
       "      <td>Porter</td>\n",
       "      <td>PHOENIX OPCO PTE. LTD.</td>\n",
       "      <td>fulltime</td>\n",
       "      <td>False</td>\n",
       "      <td>Are you currently working in a service based e...</td>\n",
       "      <td>Tras Street, #9-177 Union Building, 079025</td>\n",
       "      <td>Tras Street,  Union Building, 079025</td>\n",
       "      <td>(1.27444651846065, 103.843929515239)</td>\n",
       "      <td>Responsibilities\\n    Ensure guest experiences...</td>\n",
       "    </tr>\n",
       "    <tr>\n",
       "      <th>1</th>\n",
       "      <td>Outlet Executive - Tan Tock Seng Hospital</td>\n",
       "      <td>Kopitiam Investment Pte Ltd</td>\n",
       "      <td>fulltime</td>\n",
       "      <td>False</td>\n",
       "      <td>Outlet Executive - Tan Tock Seng Hospital\\nRes...</td>\n",
       "      <td>1 Joo Koon Cir, #13-01 FairPrice Joo Koon, Sin...</td>\n",
       "      <td>1 Joo Koon Cir,  FairPrice Joo Koon, Singapore...</td>\n",
       "      <td>(1.32476879097421, 103.674484690433)</td>\n",
       "      <td>Responsibilities\\n Operations\\n    Support Out...</td>\n",
       "    </tr>\n",
       "    <tr>\n",
       "      <th>2</th>\n",
       "      <td>Sales Promoter</td>\n",
       "      <td>Oomph Pte. Ltd.</td>\n",
       "      <td>fulltime</td>\n",
       "      <td>False</td>\n",
       "      <td>SALARY UP TO $4,000.00 (subject to experience)...</td>\n",
       "      <td>2 Alexandra Rd, #04-01 Delta House, Singapore ...</td>\n",
       "      <td>2 Alexandra Rd,  Delta House, Singapore 159919</td>\n",
       "      <td>(1.27425442821763, 103.803711567804)</td>\n",
       "      <td>Aspect 1 Responsibilities\\n Actively promote l...</td>\n",
       "    </tr>\n",
       "    <tr>\n",
       "      <th>3</th>\n",
       "      <td>Quantity Surveyor</td>\n",
       "      <td>LBD ENGINEERING PTE. LTD.</td>\n",
       "      <td>fulltime</td>\n",
       "      <td>False</td>\n",
       "      <td>Job Description\\n\\n\\n* Prepare and analyse cos...</td>\n",
       "      <td>58A Sungei Kadut Loop, LBD Construction Group ...</td>\n",
       "      <td>58A Sungei Kadut Loop, LBD Construction Group ...</td>\n",
       "      <td>(1.40981215298244, 103.742781634928)</td>\n",
       "      <td>Responsibilities\\n\\n Prepare and analyze cost ...</td>\n",
       "    </tr>\n",
       "    <tr>\n",
       "      <th>4</th>\n",
       "      <td>Cleaning Operations Assistant Supervisor</td>\n",
       "      <td>ECOCLEAN MAINTENANCE PTE. LTD.</td>\n",
       "      <td>fulltime</td>\n",
       "      <td>False</td>\n",
       "      <td>**Requirements**\\n\\n* at least 3 years of work...</td>\n",
       "      <td>1 Yishun Industrial Street 1, #06-27 A'Posh Bi...</td>\n",
       "      <td>1 Yishun Industrial Street 1,  A'Posh BizHub, ...</td>\n",
       "      <td>(1.43732110123747, 103.842085763701)</td>\n",
       "      <td>Responsibilities\\n Respond to emergency calls,...</td>\n",
       "    </tr>\n",
       "  </tbody>\n",
       "</table>\n",
       "</div>"
      ],
      "text/plain": [
       "                                       title                         company  \\\n",
       "0                                     Porter          PHOENIX OPCO PTE. LTD.   \n",
       "1  Outlet Executive - Tan Tock Seng Hospital     Kopitiam Investment Pte Ltd   \n",
       "2                             Sales Promoter                 Oomph Pte. Ltd.   \n",
       "3                          Quantity Surveyor       LBD ENGINEERING PTE. LTD.   \n",
       "4   Cleaning Operations Assistant Supervisor  ECOCLEAN MAINTENANCE PTE. LTD.   \n",
       "\n",
       "   job_type  is_remote                                        description  \\\n",
       "0  fulltime      False  Are you currently working in a service based e...   \n",
       "1  fulltime      False  Outlet Executive - Tan Tock Seng Hospital\\nRes...   \n",
       "2  fulltime      False  SALARY UP TO $4,000.00 (subject to experience)...   \n",
       "3  fulltime      False  Job Description\\n\\n\\n* Prepare and analyse cos...   \n",
       "4  fulltime      False  **Requirements**\\n\\n* at least 3 years of work...   \n",
       "\n",
       "                                             address  \\\n",
       "0         Tras Street, #9-177 Union Building, 079025   \n",
       "1  1 Joo Koon Cir, #13-01 FairPrice Joo Koon, Sin...   \n",
       "2  2 Alexandra Rd, #04-01 Delta House, Singapore ...   \n",
       "3  58A Sungei Kadut Loop, LBD Construction Group ...   \n",
       "4  1 Yishun Industrial Street 1, #06-27 A'Posh Bi...   \n",
       "\n",
       "                                     cleaned_address  \\\n",
       "0               Tras Street,  Union Building, 079025   \n",
       "1  1 Joo Koon Cir,  FairPrice Joo Koon, Singapore...   \n",
       "2     2 Alexandra Rd,  Delta House, Singapore 159919   \n",
       "3  58A Sungei Kadut Loop, LBD Construction Group ...   \n",
       "4  1 Yishun Industrial Street 1,  A'Posh BizHub, ...   \n",
       "\n",
       "                               lat_long  \\\n",
       "0  (1.27444651846065, 103.843929515239)   \n",
       "1  (1.32476879097421, 103.674484690433)   \n",
       "2  (1.27425442821763, 103.803711567804)   \n",
       "3  (1.40981215298244, 103.742781634928)   \n",
       "4  (1.43732110123747, 103.842085763701)   \n",
       "\n",
       "                                      model_response  \n",
       "0  Responsibilities\\n    Ensure guest experiences...  \n",
       "1  Responsibilities\\n Operations\\n    Support Out...  \n",
       "2  Aspect 1 Responsibilities\\n Actively promote l...  \n",
       "3  Responsibilities\\n\\n Prepare and analyze cost ...  \n",
       "4  Responsibilities\\n Respond to emergency calls,...  "
      ]
     },
     "execution_count": 23,
     "metadata": {},
     "output_type": "execute_result"
    }
   ],
   "source": [
    "result_df.head()"
   ]
  },
  {
   "cell_type": "code",
   "execution_count": 24,
   "metadata": {},
   "outputs": [
    {
     "data": {
      "text/plain": [
       "title              0\n",
       "company            0\n",
       "job_type           0\n",
       "is_remote          0\n",
       "description        0\n",
       "address            0\n",
       "cleaned_address    0\n",
       "lat_long           0\n",
       "model_response     0\n",
       "dtype: int64"
      ]
     },
     "execution_count": 24,
     "metadata": {},
     "output_type": "execute_result"
    }
   ],
   "source": [
    "result_df.isna().sum()"
   ]
  },
  {
   "cell_type": "code",
   "execution_count": 25,
   "metadata": {},
   "outputs": [
    {
     "data": {
      "text/plain": [
       "title              0\n",
       "company            0\n",
       "job_type           0\n",
       "is_remote          0\n",
       "description        0\n",
       "address            0\n",
       "cleaned_address    0\n",
       "lat_long           0\n",
       "model_response     0\n",
       "dtype: int64"
      ]
     },
     "execution_count": 25,
     "metadata": {},
     "output_type": "execute_result"
    }
   ],
   "source": [
    "result_df = result_df.dropna()\n",
    "result_df.isna().sum()"
   ]
  },
  {
   "cell_type": "code",
   "execution_count": 26,
   "metadata": {},
   "outputs": [
    {
     "data": {
      "text/plain": [
       "Index(['title', 'company', 'job_type', 'is_remote', 'description', 'address',\n",
       "       'cleaned_address', 'lat_long', 'model_response'],\n",
       "      dtype='object')"
      ]
     },
     "execution_count": 26,
     "metadata": {},
     "output_type": "execute_result"
    }
   ],
   "source": [
    "result_df.columns"
   ]
  },
  {
   "cell_type": "code",
   "execution_count": 27,
   "metadata": {},
   "outputs": [
    {
     "ename": "KeyError",
     "evalue": "\"['Unnamed: 0'] not found in axis\"",
     "output_type": "error",
     "traceback": [
      "\u001b[1;31m---------------------------------------------------------------------------\u001b[0m",
      "\u001b[1;31mKeyError\u001b[0m                                  Traceback (most recent call last)",
      "Cell \u001b[1;32mIn[27], line 1\u001b[0m\n\u001b[1;32m----> 1\u001b[0m result_df \u001b[38;5;241m=\u001b[39m \u001b[43mresult_df\u001b[49m\u001b[38;5;241;43m.\u001b[39;49m\u001b[43mdrop\u001b[49m\u001b[43m(\u001b[49m\u001b[43mcolumns\u001b[49m\u001b[38;5;241;43m=\u001b[39;49m\u001b[43m[\u001b[49m\u001b[38;5;124;43m'\u001b[39;49m\u001b[38;5;124;43mUnnamed: 0\u001b[39;49m\u001b[38;5;124;43m'\u001b[39;49m\u001b[43m]\u001b[49m\u001b[43m)\u001b[49m\n\u001b[0;32m      2\u001b[0m result_df\u001b[38;5;241m.\u001b[39mcolumns\n",
      "File \u001b[1;32mc:\\Users\\Brandon\\anaconda3\\envs\\graph\\lib\\site-packages\\pandas\\core\\frame.py:5581\u001b[0m, in \u001b[0;36mDataFrame.drop\u001b[1;34m(self, labels, axis, index, columns, level, inplace, errors)\u001b[0m\n\u001b[0;32m   5433\u001b[0m \u001b[38;5;28;01mdef\u001b[39;00m \u001b[38;5;21mdrop\u001b[39m(\n\u001b[0;32m   5434\u001b[0m     \u001b[38;5;28mself\u001b[39m,\n\u001b[0;32m   5435\u001b[0m     labels: IndexLabel \u001b[38;5;241m|\u001b[39m \u001b[38;5;28;01mNone\u001b[39;00m \u001b[38;5;241m=\u001b[39m \u001b[38;5;28;01mNone\u001b[39;00m,\n\u001b[1;32m   (...)\u001b[0m\n\u001b[0;32m   5442\u001b[0m     errors: IgnoreRaise \u001b[38;5;241m=\u001b[39m \u001b[38;5;124m\"\u001b[39m\u001b[38;5;124mraise\u001b[39m\u001b[38;5;124m\"\u001b[39m,\n\u001b[0;32m   5443\u001b[0m ) \u001b[38;5;241m-\u001b[39m\u001b[38;5;241m>\u001b[39m DataFrame \u001b[38;5;241m|\u001b[39m \u001b[38;5;28;01mNone\u001b[39;00m:\n\u001b[0;32m   5444\u001b[0m \u001b[38;5;250m    \u001b[39m\u001b[38;5;124;03m\"\"\"\u001b[39;00m\n\u001b[0;32m   5445\u001b[0m \u001b[38;5;124;03m    Drop specified labels from rows or columns.\u001b[39;00m\n\u001b[0;32m   5446\u001b[0m \n\u001b[1;32m   (...)\u001b[0m\n\u001b[0;32m   5579\u001b[0m \u001b[38;5;124;03m            weight  1.0     0.8\u001b[39;00m\n\u001b[0;32m   5580\u001b[0m \u001b[38;5;124;03m    \"\"\"\u001b[39;00m\n\u001b[1;32m-> 5581\u001b[0m     \u001b[38;5;28;01mreturn\u001b[39;00m \u001b[38;5;28;43msuper\u001b[39;49m\u001b[43m(\u001b[49m\u001b[43m)\u001b[49m\u001b[38;5;241;43m.\u001b[39;49m\u001b[43mdrop\u001b[49m\u001b[43m(\u001b[49m\n\u001b[0;32m   5582\u001b[0m \u001b[43m        \u001b[49m\u001b[43mlabels\u001b[49m\u001b[38;5;241;43m=\u001b[39;49m\u001b[43mlabels\u001b[49m\u001b[43m,\u001b[49m\n\u001b[0;32m   5583\u001b[0m \u001b[43m        \u001b[49m\u001b[43maxis\u001b[49m\u001b[38;5;241;43m=\u001b[39;49m\u001b[43maxis\u001b[49m\u001b[43m,\u001b[49m\n\u001b[0;32m   5584\u001b[0m \u001b[43m        \u001b[49m\u001b[43mindex\u001b[49m\u001b[38;5;241;43m=\u001b[39;49m\u001b[43mindex\u001b[49m\u001b[43m,\u001b[49m\n\u001b[0;32m   5585\u001b[0m \u001b[43m        \u001b[49m\u001b[43mcolumns\u001b[49m\u001b[38;5;241;43m=\u001b[39;49m\u001b[43mcolumns\u001b[49m\u001b[43m,\u001b[49m\n\u001b[0;32m   5586\u001b[0m \u001b[43m        \u001b[49m\u001b[43mlevel\u001b[49m\u001b[38;5;241;43m=\u001b[39;49m\u001b[43mlevel\u001b[49m\u001b[43m,\u001b[49m\n\u001b[0;32m   5587\u001b[0m \u001b[43m        \u001b[49m\u001b[43minplace\u001b[49m\u001b[38;5;241;43m=\u001b[39;49m\u001b[43minplace\u001b[49m\u001b[43m,\u001b[49m\n\u001b[0;32m   5588\u001b[0m \u001b[43m        \u001b[49m\u001b[43merrors\u001b[49m\u001b[38;5;241;43m=\u001b[39;49m\u001b[43merrors\u001b[49m\u001b[43m,\u001b[49m\n\u001b[0;32m   5589\u001b[0m \u001b[43m    \u001b[49m\u001b[43m)\u001b[49m\n",
      "File \u001b[1;32mc:\\Users\\Brandon\\anaconda3\\envs\\graph\\lib\\site-packages\\pandas\\core\\generic.py:4788\u001b[0m, in \u001b[0;36mNDFrame.drop\u001b[1;34m(self, labels, axis, index, columns, level, inplace, errors)\u001b[0m\n\u001b[0;32m   4786\u001b[0m \u001b[38;5;28;01mfor\u001b[39;00m axis, labels \u001b[38;5;129;01min\u001b[39;00m axes\u001b[38;5;241m.\u001b[39mitems():\n\u001b[0;32m   4787\u001b[0m     \u001b[38;5;28;01mif\u001b[39;00m labels \u001b[38;5;129;01mis\u001b[39;00m \u001b[38;5;129;01mnot\u001b[39;00m \u001b[38;5;28;01mNone\u001b[39;00m:\n\u001b[1;32m-> 4788\u001b[0m         obj \u001b[38;5;241m=\u001b[39m \u001b[43mobj\u001b[49m\u001b[38;5;241;43m.\u001b[39;49m\u001b[43m_drop_axis\u001b[49m\u001b[43m(\u001b[49m\u001b[43mlabels\u001b[49m\u001b[43m,\u001b[49m\u001b[43m \u001b[49m\u001b[43maxis\u001b[49m\u001b[43m,\u001b[49m\u001b[43m \u001b[49m\u001b[43mlevel\u001b[49m\u001b[38;5;241;43m=\u001b[39;49m\u001b[43mlevel\u001b[49m\u001b[43m,\u001b[49m\u001b[43m \u001b[49m\u001b[43merrors\u001b[49m\u001b[38;5;241;43m=\u001b[39;49m\u001b[43merrors\u001b[49m\u001b[43m)\u001b[49m\n\u001b[0;32m   4790\u001b[0m \u001b[38;5;28;01mif\u001b[39;00m inplace:\n\u001b[0;32m   4791\u001b[0m     \u001b[38;5;28mself\u001b[39m\u001b[38;5;241m.\u001b[39m_update_inplace(obj)\n",
      "File \u001b[1;32mc:\\Users\\Brandon\\anaconda3\\envs\\graph\\lib\\site-packages\\pandas\\core\\generic.py:4830\u001b[0m, in \u001b[0;36mNDFrame._drop_axis\u001b[1;34m(self, labels, axis, level, errors, only_slice)\u001b[0m\n\u001b[0;32m   4828\u001b[0m         new_axis \u001b[38;5;241m=\u001b[39m axis\u001b[38;5;241m.\u001b[39mdrop(labels, level\u001b[38;5;241m=\u001b[39mlevel, errors\u001b[38;5;241m=\u001b[39merrors)\n\u001b[0;32m   4829\u001b[0m     \u001b[38;5;28;01melse\u001b[39;00m:\n\u001b[1;32m-> 4830\u001b[0m         new_axis \u001b[38;5;241m=\u001b[39m \u001b[43maxis\u001b[49m\u001b[38;5;241;43m.\u001b[39;49m\u001b[43mdrop\u001b[49m\u001b[43m(\u001b[49m\u001b[43mlabels\u001b[49m\u001b[43m,\u001b[49m\u001b[43m \u001b[49m\u001b[43merrors\u001b[49m\u001b[38;5;241;43m=\u001b[39;49m\u001b[43merrors\u001b[49m\u001b[43m)\u001b[49m\n\u001b[0;32m   4831\u001b[0m     indexer \u001b[38;5;241m=\u001b[39m axis\u001b[38;5;241m.\u001b[39mget_indexer(new_axis)\n\u001b[0;32m   4833\u001b[0m \u001b[38;5;66;03m# Case for non-unique axis\u001b[39;00m\n\u001b[0;32m   4834\u001b[0m \u001b[38;5;28;01melse\u001b[39;00m:\n",
      "File \u001b[1;32mc:\\Users\\Brandon\\anaconda3\\envs\\graph\\lib\\site-packages\\pandas\\core\\indexes\\base.py:7070\u001b[0m, in \u001b[0;36mIndex.drop\u001b[1;34m(self, labels, errors)\u001b[0m\n\u001b[0;32m   7068\u001b[0m \u001b[38;5;28;01mif\u001b[39;00m mask\u001b[38;5;241m.\u001b[39many():\n\u001b[0;32m   7069\u001b[0m     \u001b[38;5;28;01mif\u001b[39;00m errors \u001b[38;5;241m!=\u001b[39m \u001b[38;5;124m\"\u001b[39m\u001b[38;5;124mignore\u001b[39m\u001b[38;5;124m\"\u001b[39m:\n\u001b[1;32m-> 7070\u001b[0m         \u001b[38;5;28;01mraise\u001b[39;00m \u001b[38;5;167;01mKeyError\u001b[39;00m(\u001b[38;5;124mf\u001b[39m\u001b[38;5;124m\"\u001b[39m\u001b[38;5;132;01m{\u001b[39;00mlabels[mask]\u001b[38;5;241m.\u001b[39mtolist()\u001b[38;5;132;01m}\u001b[39;00m\u001b[38;5;124m not found in axis\u001b[39m\u001b[38;5;124m\"\u001b[39m)\n\u001b[0;32m   7071\u001b[0m     indexer \u001b[38;5;241m=\u001b[39m indexer[\u001b[38;5;241m~\u001b[39mmask]\n\u001b[0;32m   7072\u001b[0m \u001b[38;5;28;01mreturn\u001b[39;00m \u001b[38;5;28mself\u001b[39m\u001b[38;5;241m.\u001b[39mdelete(indexer)\n",
      "\u001b[1;31mKeyError\u001b[0m: \"['Unnamed: 0'] not found in axis\""
     ]
    }
   ],
   "source": [
    "result_df = result_df.drop(columns=['Unnamed: 0'])\n",
    "result_df.columns"
   ]
  },
  {
   "cell_type": "code",
   "execution_count": 28,
   "metadata": {},
   "outputs": [],
   "source": [
    "result_df['model_response'] = result_df['model_response'].str.strip()"
   ]
  },
  {
   "cell_type": "code",
   "execution_count": 29,
   "metadata": {},
   "outputs": [
    {
     "data": {
      "text/plain": [
       "0    Responsibilities\\n    Ensure guest experiences...\n",
       "1    Responsibilities\\n Operations\\n    Support Out...\n",
       "2    Aspect 1 Responsibilities\\n Actively promote l...\n",
       "3    Responsibilities\\n\\n Prepare and analyze cost ...\n",
       "4    Responsibilities\\n Respond to emergency calls,...\n",
       "Name: model_response, dtype: object"
      ]
     },
     "execution_count": 29,
     "metadata": {},
     "output_type": "execute_result"
    }
   ],
   "source": [
    "result_df['model_response'].head()"
   ]
  },
  {
   "cell_type": "code",
   "execution_count": 30,
   "metadata": {},
   "outputs": [],
   "source": [
    "result_df['model_response'] = result_df['model_response'].str.replace(r'[^A-Za-z0-9\\s.,]', '', regex=True)\n"
   ]
  },
  {
   "cell_type": "code",
   "execution_count": 31,
   "metadata": {},
   "outputs": [],
   "source": [
    "# Remove point formatted numbers (e.g., 1., 2., etc.) but keep time-like patterns (e.g., 1.30PM)\n",
    "result_df['model_response'] = result_df['model_response'].str.replace(r'(?<!\\d)(\\d+)\\.(?!\\d)', '', regex=True).str.strip()\n"
   ]
  },
  {
   "cell_type": "code",
   "execution_count": 33,
   "metadata": {},
   "outputs": [],
   "source": [
    "result_df.to_csv(\"5.2.description_cleaned.csv\", index=False)"
   ]
  },
  {
   "cell_type": "code",
   "execution_count": null,
   "metadata": {},
   "outputs": [],
   "source": []
  }
 ],
 "metadata": {
  "kernelspec": {
   "display_name": "graph_linux",
   "language": "python",
   "name": "python3"
  },
  "language_info": {
   "codemirror_mode": {
    "name": "ipython",
    "version": 3
   },
   "file_extension": ".py",
   "mimetype": "text/x-python",
   "name": "python",
   "nbconvert_exporter": "python",
   "pygments_lexer": "ipython3",
   "version": "3.10.15"
  }
 },
 "nbformat": 4,
 "nbformat_minor": 2
}
