{
 "cells": [
  {
   "cell_type": "code",
   "execution_count": 21,
   "metadata": {},
   "outputs": [],
   "source": [
    "import pandas as pd"
   ]
  },
  {
   "cell_type": "code",
   "execution_count": 22,
   "metadata": {},
   "outputs": [],
   "source": [
    "df = pd.read_csv('address_out.csv')"
   ]
  },
  {
   "cell_type": "code",
   "execution_count": 23,
   "metadata": {},
   "outputs": [
    {
     "data": {
      "text/plain": [
       "title              0\n",
       "company          969\n",
       "job_type           0\n",
       "is_remote          0\n",
       "description        0\n",
       "address        16433\n",
       "dtype: int64"
      ]
     },
     "execution_count": 23,
     "metadata": {},
     "output_type": "execute_result"
    }
   ],
   "source": [
    "df.isna().sum()"
   ]
  },
  {
   "cell_type": "code",
   "execution_count": 24,
   "metadata": {},
   "outputs": [],
   "source": [
    "df2 = df.dropna(ignore_index=True)"
   ]
  },
  {
   "cell_type": "code",
   "execution_count": 25,
   "metadata": {},
   "outputs": [
    {
     "data": {
      "text/plain": [
       "title          0\n",
       "company        0\n",
       "job_type       0\n",
       "is_remote      0\n",
       "description    0\n",
       "address        0\n",
       "dtype: int64"
      ]
     },
     "execution_count": 25,
     "metadata": {},
     "output_type": "execute_result"
    }
   ],
   "source": [
    "df2.isna().sum()"
   ]
  },
  {
   "cell_type": "code",
   "execution_count": 26,
   "metadata": {},
   "outputs": [
    {
     "name": "stdout",
     "output_type": "stream",
     "text": [
      "<class 'pandas.core.frame.DataFrame'>\n",
      "RangeIndex: 25611 entries, 0 to 25610\n",
      "Data columns (total 6 columns):\n",
      " #   Column       Non-Null Count  Dtype \n",
      "---  ------       --------------  ----- \n",
      " 0   title        25611 non-null  object\n",
      " 1   company      25611 non-null  object\n",
      " 2   job_type     25611 non-null  object\n",
      " 3   is_remote    25611 non-null  bool  \n",
      " 4   description  25611 non-null  object\n",
      " 5   address      25611 non-null  object\n",
      "dtypes: bool(1), object(5)\n",
      "memory usage: 1.0+ MB\n"
     ]
    }
   ],
   "source": [
    "df2.info()"
   ]
  },
  {
   "cell_type": "code",
   "execution_count": 27,
   "metadata": {},
   "outputs": [],
   "source": [
    "import re\n",
    "\n",
    "def remove_floor_info(address):\n",
    "    # Use regex to remove the floor information correctly\n",
    "    cleaned_address = re.sub(r'#\\s*\\d+\\s*-?\\s*\\d*', '', address).strip()\n",
    "    return cleaned_address"
   ]
  },
  {
   "cell_type": "code",
   "execution_count": 28,
   "metadata": {},
   "outputs": [
    {
     "data": {
      "text/plain": [
       "0           Tras Street, #9-177 Union Building, 079025\n",
       "1    1 Joo Koon Cir, #13-01 FairPrice Joo Koon, Sin...\n",
       "2    2 Alexandra Rd, #04-01 Delta House, Singapore ...\n",
       "Name: address, dtype: object"
      ]
     },
     "execution_count": 28,
     "metadata": {},
     "output_type": "execute_result"
    }
   ],
   "source": [
    "df2['address'][0:3]"
   ]
  },
  {
   "cell_type": "code",
   "execution_count": 29,
   "metadata": {},
   "outputs": [
    {
     "name": "stdout",
     "output_type": "stream",
     "text": [
      "                                                 address  \\\n",
      "0             Tras Street, #9-177 Union Building, 079025   \n",
      "1      1 Joo Koon Cir, #13-01 FairPrice Joo Koon, Sin...   \n",
      "2      2 Alexandra Rd, #04-01 Delta House, Singapore ...   \n",
      "3      58A Sungei Kadut Loop, LBD Construction Group ...   \n",
      "4      1 Yishun Industrial Street 1, #06-27 A'Posh Bi...   \n",
      "...                                                  ...   \n",
      "25606  41 Kallang Pudding Rd, #07-00 Golden Wheel Bui...   \n",
      "25607              30 Cecil St, #18-08, Singapore 049712   \n",
      "25608                  146 Robinson Rd, Singapore 068909   \n",
      "25609  21 Bukit Batok Cres, #07-84 Wcega Tower, Singa...   \n",
      "25610             88 Market St, #33-01, Singapore 048948   \n",
      "\n",
      "                                         cleaned_address  \n",
      "0                   Tras Street,  Union Building, 079025  \n",
      "1      1 Joo Koon Cir,  FairPrice Joo Koon, Singapore...  \n",
      "2         2 Alexandra Rd,  Delta House, Singapore 159919  \n",
      "3      58A Sungei Kadut Loop, LBD Construction Group ...  \n",
      "4      1 Yishun Industrial Street 1,  A'Posh BizHub, ...  \n",
      "...                                                  ...  \n",
      "25606  41 Kallang Pudding Rd,  Golden Wheel Building,...  \n",
      "25607                    30 Cecil St, , Singapore 049712  \n",
      "25608                  146 Robinson Rd, Singapore 068909  \n",
      "25609  21 Bukit Batok Cres,  Wcega Tower, Singapore 6...  \n",
      "25610                   88 Market St, , Singapore 048948  \n",
      "\n",
      "[25611 rows x 2 columns]\n"
     ]
    },
    {
     "name": "stderr",
     "output_type": "stream",
     "text": [
      "C:\\Users\\Brandon\\AppData\\Local\\Temp\\ipykernel_58632\\3654243366.py:1: SettingWithCopyWarning: \n",
      "A value is trying to be set on a copy of a slice from a DataFrame.\n",
      "Try using .loc[row_indexer,col_indexer] = value instead\n",
      "\n",
      "See the caveats in the documentation: https://pandas.pydata.org/pandas-docs/stable/user_guide/indexing.html#returning-a-view-versus-a-copy\n",
      "  df2.loc[:, 'cleaned_address'] = df2['address'].apply(remove_floor_info)\n"
     ]
    }
   ],
   "source": [
    "df2.loc[:, 'cleaned_address'] = df2['address'].apply(remove_floor_info)\n",
    "\n",
    "# Display the DataFrame\n",
    "print(df2[['address', 'cleaned_address']])"
   ]
  },
  {
   "cell_type": "code",
   "execution_count": 30,
   "metadata": {},
   "outputs": [],
   "source": [
    "df2.to_csv('cleaned_address_out.csv')"
   ]
  }
 ],
 "metadata": {
  "kernelspec": {
   "display_name": "graph",
   "language": "python",
   "name": "python3"
  },
  "language_info": {
   "codemirror_mode": {
    "name": "ipython",
    "version": 3
   },
   "file_extension": ".py",
   "mimetype": "text/x-python",
   "name": "python",
   "nbconvert_exporter": "python",
   "pygments_lexer": "ipython3",
   "version": "3.10.15"
  }
 },
 "nbformat": 4,
 "nbformat_minor": 2
}
