{
 "cells": [
  {
   "cell_type": "code",
   "execution_count": 8,
   "metadata": {},
   "outputs": [],
   "source": [
    "import requests\n",
    "import os\n",
    "from dotenv import load_dotenv\n",
    "import time\n",
    "import pandas as pd"
   ]
  },
  {
   "cell_type": "code",
   "execution_count": 5,
   "metadata": {},
   "outputs": [
    {
     "data": {
      "text/plain": [
       "True"
      ]
     },
     "execution_count": 5,
     "metadata": {},
     "output_type": "execute_result"
    }
   ],
   "source": [
    "# Load environment variables\n",
    "load_dotenv()"
   ]
  },
  {
   "cell_type": "code",
   "execution_count": 6,
   "metadata": {},
   "outputs": [],
   "source": [
    "# Authentication\n",
    "def get_onemap_token():\n",
    "    url = \"https://www.onemap.gov.sg/api/auth/post/getToken\"\n",
    "    payload = {\n",
    "        \"email\": os.getenv('ONEMAP_EMAIL'),\n",
    "        \"password\": os.getenv('ONEMAP_PASSWORD')\n",
    "    }\n",
    "    response = requests.post(url, json=payload)\n",
    "    return response.json().get('access_token')\n",
    "\n",
    "# Geocoding function\n",
    "def geocode_address(address, token):\n",
    "    url = \"https://www.onemap.gov.sg/api/common/elastic/search\"\n",
    "    params = {\n",
    "        \"searchVal\": address,\n",
    "        \"returnGeom\": \"Y\",\n",
    "        \"getAddrDetails\": \"Y\",\n",
    "        \"pageNum\": 1\n",
    "    }\n",
    "    headers = {\n",
    "        \"Authorization\": f\"Bearer {token}\"\n",
    "    }\n",
    "    response = requests.get(url, params=params, headers=headers)\n",
    "    return response.json()"
   ]
  },
  {
   "cell_type": "code",
   "execution_count": 7,
   "metadata": {},
   "outputs": [
    {
     "name": "stdout",
     "output_type": "stream",
     "text": [
      "Address: 2 Alexandra Rd, Delta House, Singapore 159919\n",
      "Coordinates: 1.27425442821763, 103.803711567804\n",
      "\n",
      "Address: 1 Joo Koon Cir, FairPrice Joo Koon, Singapore 629117\n",
      "Coordinates: 1.32476879097421, 103.674484690433\n",
      "\n",
      "Address: 1 Yishun Industrial Street 1, A'Posh BizHub, Singapore 768160\n",
      "Coordinates: 1.43732110123747, 103.842085763701\n",
      "\n",
      "Address: 5 Engineering Drive 1, Block E8, Singapore 117608\n",
      "Coordinates: 1.29877546585606, 103.771795736896\n",
      "\n"
     ]
    }
   ],
   "source": [
    "original_file = '../3. GeocodingPrep/3.1.cleaned_address_out.csv'\n",
    "output_file = '4.2.updated_file_with_geolocation.csv'\n",
    "df = pd.read_csv(original_file)\n",
    "\n",
    "# Initialize lat_long column if it doesn't exist\n",
    "if 'lat_long' not in df.columns:\n",
    "    df['lat_long'] = None\n",
    "\n",
    "# Process addresses in batches of 1000\n",
    "token = get_onemap_token()\n",
    "batch_size = 1000\n",
    "\n",
    "for start_idx in range(0, len(df), batch_size):\n",
    "    end_idx = min(start_idx + batch_size, len(df))\n",
    "    batch = df.iloc[start_idx:end_idx]\n",
    "    \n",
    "    # Only process rows where lat_long is empty\n",
    "    mask = batch['lat_long'].isna()\n",
    "    batch_to_process = batch[mask]\n",
    "    \n",
    "    if not batch_to_process.empty:\n",
    "        print(f\"\\nProcessing batch {start_idx//batch_size + 1}, rows {start_idx} to {end_idx}\")\n",
    "        \n",
    "        for address_idx, address in batch_to_process['cleaned_address'].items():\n",
    "            result = geocode_address(address, token)\n",
    "            if result.get('results'):\n",
    "                location = result['results'][0]\n",
    "                lat = float(location['LATITUDE'])\n",
    "                lon = float(location['LONGITUDE'])\n",
    "                df.at[address_idx, 'lat_long'] = (lat, lon)\n",
    "                print(f\"Processed: {address} -> {(lat, lon)}\")\n",
    "            else:\n",
    "                print(f\"No results found for: {address}\")\n",
    "            \n",
    "            time.sleep(1)  # Rate limiting delay\n",
    "        \n",
    "        # Save progress after each batch\n",
    "        df.to_csv(output_file, index=False)\n",
    "        print(f\"Saved progress after batch {start_idx//batch_size + 1}\")\n",
    "\n",
    "print(\"Geocoding completed\")"
   ]
  },
  {
   "cell_type": "code",
   "execution_count": null,
   "metadata": {},
   "outputs": [],
   "source": []
  }
 ],
 "metadata": {
  "kernelspec": {
   "display_name": "graph",
   "language": "python",
   "name": "python3"
  },
  "language_info": {
   "codemirror_mode": {
    "name": "ipython",
    "version": 3
   },
   "file_extension": ".py",
   "mimetype": "text/x-python",
   "name": "python",
   "nbconvert_exporter": "python",
   "pygments_lexer": "ipython3",
   "version": "3.10.15"
  }
 },
 "nbformat": 4,
 "nbformat_minor": 2
}
