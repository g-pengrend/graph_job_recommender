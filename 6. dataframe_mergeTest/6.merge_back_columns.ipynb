{
 "cells": [
  {
   "cell_type": "code",
   "execution_count": 25,
   "metadata": {},
   "outputs": [
    {
     "name": "stderr",
     "output_type": "stream",
     "text": [
      "C:\\Users\\Brandon\\AppData\\Local\\Temp\\ipykernel_21960\\2761816446.py:4: DtypeWarning: Columns (23,24,27) have mixed types. Specify dtype option on import or set low_memory=False.\n",
      "  old_df = pd.read_csv('../2. DataPrep/jobs.csv')[['title', 'company', 'job_type', 'is_remote', 'description', 'id', 'job_url', 'job_url_direct']]\n"
     ]
    },
    {
     "name": "stdout",
     "output_type": "stream",
     "text": [
      "Old dataframe rows: 42044\n",
      "Current dataframe rows: 25611\n",
      "\n",
      "Duplicates in old_df merge columns:\n",
      "14\n",
      "\n",
      "Duplicates in current_df merge columns:\n",
      "3\n",
      "\n",
      "Merged dataframe rows: 25616\n"
     ]
    }
   ],
   "source": [
    "import pandas as pd\n",
    "\n",
    "# Load your old CSV with all columns\n",
    "old_df = pd.read_csv('../2. DataPrep/jobs.csv')[['title', 'company', 'job_type', 'is_remote', 'description', 'id', 'job_url', 'job_url_direct']]\n",
    "\n",
    "# Load your current CSV with the 4 retained columns\n",
    "current_df = pd.read_csv('../5. LLM_cleaning/5.2.description_cleaned.csv')\n",
    "\n",
    "# Print row counts before merge\n",
    "print(f\"Old dataframe rows: {len(old_df)}\")\n",
    "print(f\"Current dataframe rows: {len(current_df)}\")\n",
    "\n",
    "# Check for duplicates in the merge columns\n",
    "print(\"\\nDuplicates in old_df merge columns:\")\n",
    "print(old_df.duplicated(subset=['title', 'company', 'job_type', 'is_remote', 'description']).sum())\n",
    "print(\"\\nDuplicates in current_df merge columns:\")\n",
    "print(current_df.duplicated(subset=['title', 'company', 'job_type', 'is_remote', 'description']).sum())\n",
    "\n",
    "# Merge the old data with the current data on the 4 key columns\n",
    "# Using inner join to only keep matches\n",
    "merged_df = pd.merge(current_df, old_df, on=['title', 'company', 'job_type', 'is_remote', 'description'], how='inner')\n",
    "\n",
    "print(f\"\\nMerged dataframe rows: {len(merged_df)}\")\n",
    "\n",
    "# Save the merged dataframe to a new CSV (or use it as needed)\n",
    "merged_df.to_csv('cleaned_and_merged_back.csv', index=False)\n"
   ]
  },
  {
   "cell_type": "code",
   "execution_count": 26,
   "metadata": {},
   "outputs": [
    {
     "name": "stdout",
     "output_type": "stream",
     "text": [
      "<class 'pandas.core.frame.DataFrame'>\n",
      "RangeIndex: 42044 entries, 0 to 42043\n",
      "Data columns (total 8 columns):\n",
      " #   Column          Non-Null Count  Dtype \n",
      "---  ------          --------------  ----- \n",
      " 0   title           42044 non-null  object\n",
      " 1   company         41075 non-null  object\n",
      " 2   job_type        42044 non-null  object\n",
      " 3   is_remote       42044 non-null  bool  \n",
      " 4   description     42044 non-null  object\n",
      " 5   id              42044 non-null  object\n",
      " 6   job_url         42044 non-null  object\n",
      " 7   job_url_direct  42044 non-null  object\n",
      "dtypes: bool(1), object(7)\n",
      "memory usage: 2.3+ MB\n"
     ]
    }
   ],
   "source": [
    "old_df.info()"
   ]
  },
  {
   "cell_type": "code",
   "execution_count": 27,
   "metadata": {},
   "outputs": [
    {
     "data": {
      "text/plain": [
       "Index([], dtype='int64')"
      ]
     },
     "execution_count": 27,
     "metadata": {},
     "output_type": "execute_result"
    }
   ],
   "source": [
    "current_df.loc[pd.isna(current_df[\"model_response\"]), :].index\n"
   ]
  },
  {
   "cell_type": "code",
   "execution_count": 28,
   "metadata": {},
   "outputs": [
    {
     "name": "stdout",
     "output_type": "stream",
     "text": [
      "<class 'pandas.core.frame.DataFrame'>\n",
      "RangeIndex: 25611 entries, 0 to 25610\n",
      "Data columns (total 9 columns):\n",
      " #   Column           Non-Null Count  Dtype \n",
      "---  ------           --------------  ----- \n",
      " 0   title            25611 non-null  object\n",
      " 1   company          25611 non-null  object\n",
      " 2   job_type         25611 non-null  object\n",
      " 3   is_remote        25611 non-null  bool  \n",
      " 4   description      25611 non-null  object\n",
      " 5   address          25611 non-null  object\n",
      " 6   cleaned_address  25611 non-null  object\n",
      " 7   lat_long         25611 non-null  object\n",
      " 8   model_response   25611 non-null  object\n",
      "dtypes: bool(1), object(8)\n",
      "memory usage: 1.6+ MB\n"
     ]
    }
   ],
   "source": [
    "current_df.info()"
   ]
  },
  {
   "cell_type": "code",
   "execution_count": 29,
   "metadata": {},
   "outputs": [
    {
     "name": "stdout",
     "output_type": "stream",
     "text": [
      "<class 'pandas.core.frame.DataFrame'>\n",
      "RangeIndex: 25616 entries, 0 to 25615\n",
      "Data columns (total 12 columns):\n",
      " #   Column           Non-Null Count  Dtype \n",
      "---  ------           --------------  ----- \n",
      " 0   title            25616 non-null  object\n",
      " 1   company          25616 non-null  object\n",
      " 2   job_type         25616 non-null  object\n",
      " 3   is_remote        25616 non-null  bool  \n",
      " 4   description      25616 non-null  object\n",
      " 5   address          25616 non-null  object\n",
      " 6   cleaned_address  25616 non-null  object\n",
      " 7   lat_long         25616 non-null  object\n",
      " 8   model_response   25616 non-null  object\n",
      " 9   id               25616 non-null  object\n",
      " 10  job_url          25616 non-null  object\n",
      " 11  job_url_direct   25616 non-null  object\n",
      "dtypes: bool(1), object(11)\n",
      "memory usage: 2.2+ MB\n"
     ]
    }
   ],
   "source": [
    "merged_df.info()"
   ]
  },
  {
   "cell_type": "code",
   "execution_count": 33,
   "metadata": {},
   "outputs": [
    {
     "data": {
      "text/plain": [
       "0"
      ]
     },
     "execution_count": 33,
     "metadata": {},
     "output_type": "execute_result"
    }
   ],
   "source": [
    "merged_df = merged_df.drop_duplicates(subset=['id'])\n",
    "merged_df['id'].duplicated().sum()\n"
   ]
  },
  {
   "cell_type": "code",
   "execution_count": 34,
   "metadata": {},
   "outputs": [
    {
     "name": "stdout",
     "output_type": "stream",
     "text": [
      "<class 'pandas.core.frame.DataFrame'>\n",
      "Index: 25610 entries, 0 to 25615\n",
      "Data columns (total 12 columns):\n",
      " #   Column           Non-Null Count  Dtype \n",
      "---  ------           --------------  ----- \n",
      " 0   title            25610 non-null  object\n",
      " 1   company          25610 non-null  object\n",
      " 2   job_type         25610 non-null  object\n",
      " 3   is_remote        25610 non-null  bool  \n",
      " 4   description      25610 non-null  object\n",
      " 5   address          25610 non-null  object\n",
      " 6   cleaned_address  25610 non-null  object\n",
      " 7   lat_long         25610 non-null  object\n",
      " 8   model_response   25610 non-null  object\n",
      " 9   id               25610 non-null  object\n",
      " 10  job_url          25610 non-null  object\n",
      " 11  job_url_direct   25610 non-null  object\n",
      "dtypes: bool(1), object(11)\n",
      "memory usage: 2.4+ MB\n"
     ]
    }
   ],
   "source": [
    "merged_df.info()"
   ]
  },
  {
   "cell_type": "code",
   "execution_count": 35,
   "metadata": {},
   "outputs": [],
   "source": [
    "merged_df.to_csv(\"6.2.merged_back_columns.csv\", index=False)\n"
   ]
  },
  {
   "cell_type": "code",
   "execution_count": null,
   "metadata": {},
   "outputs": [],
   "source": []
  }
 ],
 "metadata": {
  "kernelspec": {
   "display_name": "graph_linux",
   "language": "python",
   "name": "python3"
  },
  "language_info": {
   "codemirror_mode": {
    "name": "ipython",
    "version": 3
   },
   "file_extension": ".py",
   "mimetype": "text/x-python",
   "name": "python",
   "nbconvert_exporter": "python",
   "pygments_lexer": "ipython3",
   "version": "3.10.15"
  }
 },
 "nbformat": 4,
 "nbformat_minor": 2
}
