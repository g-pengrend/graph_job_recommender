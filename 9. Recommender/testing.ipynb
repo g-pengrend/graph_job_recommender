{
 "cells": [
  {
   "cell_type": "code",
   "execution_count": 1,
   "metadata": {},
   "outputs": [
    {
     "name": "stderr",
     "output_type": "stream",
     "text": [
      "\u001b[32m2024-11-22 09:48:21.192\u001b[0m | \u001b[1mINFO    \u001b[0m | \u001b[36m__main__\u001b[0m:\u001b[36minspect_graph_metrics\u001b[0m:\u001b[36m11\u001b[0m - \u001b[1m\n",
      "Graph Metrics Structure:\u001b[0m\n",
      "\u001b[32m2024-11-22 09:48:21.193\u001b[0m | \u001b[1mINFO    \u001b[0m | \u001b[36m__main__\u001b[0m:\u001b[36minspect_graph_metrics\u001b[0m:\u001b[36m12\u001b[0m - \u001b[1m=======================\u001b[0m\n",
      "\u001b[32m2024-11-22 09:48:21.194\u001b[0m | \u001b[1mINFO    \u001b[0m | \u001b[36m__main__\u001b[0m:\u001b[36minspect_graph_metrics\u001b[0m:\u001b[36m15\u001b[0m - \u001b[1mAvailable keys: ['degree', 'max_degree', 'pagerank', 'core_numbers']\u001b[0m\n",
      "\u001b[32m2024-11-22 09:48:21.194\u001b[0m | \u001b[1mINFO    \u001b[0m | \u001b[36m__main__\u001b[0m:\u001b[36minspect_graph_metrics\u001b[0m:\u001b[36m19\u001b[0m - \u001b[1m\n",
      "degree:\u001b[0m\n",
      "\u001b[32m2024-11-22 09:48:21.194\u001b[0m | \u001b[1mINFO    \u001b[0m | \u001b[36m__main__\u001b[0m:\u001b[36minspect_graph_metrics\u001b[0m:\u001b[36m20\u001b[0m - \u001b[1m------\u001b[0m\n",
      "\u001b[32m2024-11-22 09:48:21.196\u001b[0m | \u001b[1mINFO    \u001b[0m | \u001b[36m__main__\u001b[0m:\u001b[36minspect_graph_metrics\u001b[0m:\u001b[36m24\u001b[0m - \u001b[1mSample entries: {'job_0': 3968, 'job_1': 300, 'job_2': 510}\u001b[0m\n",
      "\u001b[32m2024-11-22 09:48:21.197\u001b[0m | \u001b[1mINFO    \u001b[0m | \u001b[36m__main__\u001b[0m:\u001b[36minspect_graph_metrics\u001b[0m:\u001b[36m28\u001b[0m - \u001b[1mValue range: min=14.0000, max=25609.0000\u001b[0m\n",
      "\u001b[32m2024-11-22 09:48:21.197\u001b[0m | \u001b[1mINFO    \u001b[0m | \u001b[36m__main__\u001b[0m:\u001b[36minspect_graph_metrics\u001b[0m:\u001b[36m29\u001b[0m - \u001b[1mTotal entries: 25610\u001b[0m\n",
      "\u001b[32m2024-11-22 09:48:21.198\u001b[0m | \u001b[1mINFO    \u001b[0m | \u001b[36m__main__\u001b[0m:\u001b[36minspect_graph_metrics\u001b[0m:\u001b[36m19\u001b[0m - \u001b[1m\n",
      "max_degree:\u001b[0m\n",
      "\u001b[32m2024-11-22 09:48:21.199\u001b[0m | \u001b[1mINFO    \u001b[0m | \u001b[36m__main__\u001b[0m:\u001b[36minspect_graph_metrics\u001b[0m:\u001b[36m20\u001b[0m - \u001b[1m----------\u001b[0m\n"
     ]
    },
    {
     "ename": "AttributeError",
     "evalue": "'int' object has no attribute 'items'",
     "output_type": "error",
     "traceback": [
      "\u001b[1;31m---------------------------------------------------------------------------\u001b[0m",
      "\u001b[1;31mAttributeError\u001b[0m                            Traceback (most recent call last)",
      "Cell \u001b[1;32mIn[1], line 32\u001b[0m\n\u001b[0;32m     29\u001b[0m         logger\u001b[38;5;241m.\u001b[39minfo(\u001b[38;5;124mf\u001b[39m\u001b[38;5;124m\"\u001b[39m\u001b[38;5;124mTotal entries: \u001b[39m\u001b[38;5;132;01m{\u001b[39;00m\u001b[38;5;28mlen\u001b[39m(metric_dict)\u001b[38;5;132;01m}\u001b[39;00m\u001b[38;5;124m\"\u001b[39m)\n\u001b[0;32m     31\u001b[0m \u001b[38;5;66;03m# Inspect the loaded graph metrics\u001b[39;00m\n\u001b[1;32m---> 32\u001b[0m \u001b[43minspect_graph_metrics\u001b[49m\u001b[43m(\u001b[49m\u001b[43mgraph_metrics\u001b[49m\u001b[43m)\u001b[49m\n",
      "Cell \u001b[1;32mIn[1], line 23\u001b[0m, in \u001b[0;36minspect_graph_metrics\u001b[1;34m(graph_metrics)\u001b[0m\n\u001b[0;32m     20\u001b[0m logger\u001b[38;5;241m.\u001b[39minfo(\u001b[38;5;124m\"\u001b[39m\u001b[38;5;124m-\u001b[39m\u001b[38;5;124m\"\u001b[39m \u001b[38;5;241m*\u001b[39m \u001b[38;5;28mlen\u001b[39m(metric_name))\n\u001b[0;32m     22\u001b[0m \u001b[38;5;66;03m# Get sample entries (first 3)\u001b[39;00m\n\u001b[1;32m---> 23\u001b[0m sample_entries \u001b[38;5;241m=\u001b[39m \u001b[38;5;28mdict\u001b[39m(\u001b[38;5;28mlist\u001b[39m(\u001b[43mmetric_dict\u001b[49m\u001b[38;5;241;43m.\u001b[39;49m\u001b[43mitems\u001b[49m())[:\u001b[38;5;241m3\u001b[39m])\n\u001b[0;32m     24\u001b[0m logger\u001b[38;5;241m.\u001b[39minfo(\u001b[38;5;124mf\u001b[39m\u001b[38;5;124m\"\u001b[39m\u001b[38;5;124mSample entries: \u001b[39m\u001b[38;5;132;01m{\u001b[39;00msample_entries\u001b[38;5;132;01m}\u001b[39;00m\u001b[38;5;124m\"\u001b[39m)\n\u001b[0;32m     26\u001b[0m \u001b[38;5;66;03m# Print value ranges\u001b[39;00m\n",
      "\u001b[1;31mAttributeError\u001b[0m: 'int' object has no attribute 'items'"
     ]
    }
   ],
   "source": [
    "import pickle\n",
    "from loguru import logger\n",
    "from constants import CACHE_PATHS\n",
    "\n",
    "# Load graph metrics from cache\n",
    "with open(CACHE_PATHS['graph_metrics'], 'rb') as f:\n",
    "    graph_metrics = pickle.load(f)\n",
    "\n",
    "def inspect_graph_metrics(graph_metrics: dict):\n",
    "    \"\"\"Debug function to inspect graph metrics structure\"\"\"\n",
    "    logger.info(\"\\nGraph Metrics Structure:\")\n",
    "    logger.info(\"=======================\")\n",
    "    \n",
    "    # Print available keys\n",
    "    logger.info(f\"Available keys: {list(graph_metrics.keys())}\")\n",
    "    \n",
    "    # Sample a few entries from each metric\n",
    "    for metric_name, metric_dict in graph_metrics.items():\n",
    "        logger.info(f\"\\n{metric_name}:\")\n",
    "        logger.info(\"-\" * len(metric_name))\n",
    "        \n",
    "        # Get sample entries (first 3)\n",
    "        sample_entries = dict(list(metric_dict.items())[:3])\n",
    "        logger.info(f\"Sample entries: {sample_entries}\")\n",
    "        \n",
    "        # Print value ranges\n",
    "        values = list(metric_dict.values())\n",
    "        logger.info(f\"Value range: min={min(values):.4f}, max={max(values):.4f}\")\n",
    "        logger.info(f\"Total entries: {len(metric_dict)}\")\n",
    "\n",
    "# Inspect the loaded graph metrics\n",
    "inspect_graph_metrics(graph_metrics)"
   ]
  },
  {
   "cell_type": "code",
   "execution_count": null,
   "metadata": {},
   "outputs": [],
   "source": []
  }
 ],
 "metadata": {
  "kernelspec": {
   "display_name": "graph",
   "language": "python",
   "name": "python3"
  },
  "language_info": {
   "codemirror_mode": {
    "name": "ipython",
    "version": 3
   },
   "file_extension": ".py",
   "mimetype": "text/x-python",
   "name": "python",
   "nbconvert_exporter": "python",
   "pygments_lexer": "ipython3",
   "version": "3.10.15"
  }
 },
 "nbformat": 4,
 "nbformat_minor": 2
}
