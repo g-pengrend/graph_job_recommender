{
 "cells": [
  {
   "cell_type": "code",
   "execution_count": 4,
   "id": "13da16f1-9444-4f48-ac88-e00a12344b7a",
   "metadata": {},
   "outputs": [],
   "source": [
    "from constants import CACHE_PATHS\n",
    "import pandas as pd\n",
    "import pickle\n"
   ]
  },
  {
   "cell_type": "code",
   "execution_count": 5,
   "id": "da727656",
   "metadata": {},
   "outputs": [],
   "source": [
    "df = pd.read_pickle(CACHE_PATHS['dataframe'])"
   ]
  },
  {
   "cell_type": "code",
   "execution_count": 7,
   "id": "e477aaee",
   "metadata": {},
   "outputs": [
    {
     "data": {
      "text/plain": [
       "Index(['title', 'company', 'job_type', 'is_remote', 'description', 'address',\n",
       "       'cleaned_address', 'lat_long', 'model_response', 'id', 'job_url',\n",
       "       'job_url_direct', 'job_type_cleaned', 'job_type_encoded',\n",
       "       'job_title_embedding', 'job_description_embedding'],\n",
       "      dtype='object')"
      ]
     },
     "execution_count": 7,
     "metadata": {},
     "output_type": "execute_result"
    }
   ],
   "source": [
    "df.columns"
   ]
  },
  {
   "cell_type": "code",
   "execution_count": 10,
   "id": "054ba3cf",
   "metadata": {},
   "outputs": [
    {
     "data": {
      "text/plain": [
       "tuple"
      ]
     },
     "execution_count": 10,
     "metadata": {},
     "output_type": "execute_result"
    }
   ],
   "source": [
    "type(df['lat_long'][0])"
   ]
  },
  {
   "cell_type": "code",
   "execution_count": 11,
   "id": "773a36b5",
   "metadata": {},
   "outputs": [
    {
     "data": {
      "text/plain": [
       "(1.27444651846065, 103.843929515239)"
      ]
     },
     "execution_count": 11,
     "metadata": {},
     "output_type": "execute_result"
    }
   ],
   "source": [
    "df['lat_long'][0]"
   ]
  },
  {
   "cell_type": "code",
   "execution_count": 13,
   "id": "ecbf36f8",
   "metadata": {},
   "outputs": [],
   "source": [
    "with open(CACHE_PATHS['graph'], 'rb') as f:\n",
    "    graph = pickle.load(f)"
   ]
  },
  {
   "cell_type": "code",
   "execution_count": 16,
   "id": "aa32e799",
   "metadata": {},
   "outputs": [
    {
     "data": {
      "text/plain": [
       "dict_keys(['job_title_embedding', 'job_description_embedding', 'company', 'job_type_encoding', 'is_remote', 'lat_long'])"
      ]
     },
     "execution_count": 16,
     "metadata": {},
     "output_type": "execute_result"
    }
   ],
   "source": [
    "list(graph.nodes(data=True))[0][1].keys()\n"
   ]
  },
  {
   "cell_type": "code",
   "execution_count": null,
   "id": "18955258",
   "metadata": {},
   "outputs": [],
   "source": []
  }
 ],
 "metadata": {
  "kernelspec": {
   "display_name": "graph",
   "language": "python",
   "name": "python3"
  },
  "language_info": {
   "codemirror_mode": {
    "name": "ipython",
    "version": 3
   },
   "file_extension": ".py",
   "mimetype": "text/x-python",
   "name": "python",
   "nbconvert_exporter": "python",
   "pygments_lexer": "ipython3",
   "version": "3.10.15"
  }
 },
 "nbformat": 4,
 "nbformat_minor": 5
}
